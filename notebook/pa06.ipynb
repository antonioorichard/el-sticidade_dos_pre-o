{
 "cells": [
  {
   "cell_type": "markdown",
   "id": "3bce92a2-4dbe-45dc-a263-917cdd8593fb",
   "metadata": {},
   "source": [
    "# 0.0 imports"
   ]
  },
  {
   "cell_type": "code",
   "execution_count": 93,
   "id": "f339a3f6-dec2-4cf0-918b-a4219282f860",
   "metadata": {},
   "outputs": [],
   "source": [
    "\n",
    "\n",
    "\n",
    "#dataprocess\n",
    "import pandas                                   as pd\n",
    "import numpy                                    as np\n",
    "import re\n",
    "import inflection\n",
    "# Gráficos\n",
    "import seaborn                                  as sns\n",
    "import matplotlib.pyplot                        as plt\n",
    "# processamento\n",
    "from sklearn            import decomposition    as dd\n",
    "from sklearn            import manifold         as mn\n",
    "from sklearn            import ensemble         as en\n",
    "from sklearn            import cluster          as c\n",
    "#metrics\n",
    "from sklearn            import metrics          as m\n",
    "from sklearn.metrics    import silhouette_score\n",
    "\n",
    "\n",
    "#from pandas_profiling import ProfileReport\n",
    "\n",
    "\n",
    "\n",
    "\n",
    "from sklearn import metrics       as m\n",
    "from sklearn import preprocessing as pp\n",
    "\n",
    "from plotly import express as px\n",
    "\n",
    "\n",
    "import re\n",
    "from sklearn.preprocessing import RobustScaler, MinMaxScaler"
   ]
  },
  {
   "cell_type": "markdown",
   "id": "18625ab1-02e5-443e-b669-b44cdb2ccfaa",
   "metadata": {},
   "source": [
    "## 0.1 Help fucntion"
   ]
  },
  {
   "cell_type": "markdown",
   "id": "ecc184d8-4f8b-4e16-9d69-77590cbe96f2",
   "metadata": {},
   "source": [
    "## 0.2. Load Dataset "
   ]
  },
  {
   "cell_type": "code",
   "execution_count": 94,
   "id": "bb41bab1-8ab7-476e-a633-75acc25f52f3",
   "metadata": {},
   "outputs": [],
   "source": [
    "df = pd.read_csv('/home/win/Documentos/pa06/data/df_ready.csv', encoding='latin1')\n"
   ]
  },
  {
   "cell_type": "markdown",
   "id": "8a91b454-c123-4d3e-a97e-5dd4dd3c1b6c",
   "metadata": {},
   "source": [
    "Category_name\n",
    "name \n",
    "merchant\n",
    "condition\n",
    "\n",
    "Observas as datas \n",
    "Date_imp\n",
    "Date_imp_d\n",
    "Date_imp_d.1\n",
    "Day_n\n",
    "month \n",
    "month_n\n",
    "day\n",
    "Week_Number\n",
    "sourceURLs \n"
   ]
  },
  {
   "cell_type": "code",
   "execution_count": 95,
   "id": "c67f5fbf-f42e-4a5b-91f9-a3ef26e056bb",
   "metadata": {},
   "outputs": [],
   "source": [
    "df1 = df"
   ]
  },
  {
   "cell_type": "code",
   "execution_count": 96,
   "id": "1e258649-ad30-4e51-89f8-3e52c3c5cf26",
   "metadata": {},
   "outputs": [
    {
     "data": {
      "text/plain": [
       "array(['New'], dtype=object)"
      ]
     },
     "execution_count": 96,
     "metadata": {},
     "output_type": "execute_result"
    }
   ],
   "source": [
    "df1['condition'].unique()"
   ]
  },
  {
   "cell_type": "code",
   "execution_count": 97,
   "id": "eaec4cc8-b0d2-4900-b8d0-d6691c5e33c5",
   "metadata": {},
   "outputs": [
    {
     "data": {
      "text/plain": [
       "array(['Walmart.com', 'Bestbuy.com', 'bhphotovideo.com', 'ebay.com',\n",
       "       'Amazon.com', 'kmart.com', 'barcodable.com'], dtype=object)"
      ]
     },
     "execution_count": 97,
     "metadata": {},
     "output_type": "execute_result"
    }
   ],
   "source": [
    "df1['merchant'].unique()\n",
    "# É o site de qual empresa vem o dado"
   ]
  },
  {
   "cell_type": "code",
   "execution_count": 98,
   "id": "5623800b-93e6-4c23-a52d-d1f6696c093c",
   "metadata": {},
   "outputs": [
    {
     "data": {
      "text/plain": [
       "array(['https://www.walmart.com/ip/BOYTONE-BT210FB-BLACK-2-1-MULTIMEDIA-SPEAKER-SYSTEM-WITH/47368142',\n",
       "       'https://www.walmart.com/ip/Boytone-BT-210F-Bluetooth-Speaker/47368142',\n",
       "       'https://www.bestbuy.com/site/boytone-2500w-2-1-ch-home-theater-system-black-diamond/4784804.p%25253FskuId%25253D4784804',\n",
       "       ...,\n",
       "       'http://www.bestbuy.com/site/naxa-2-1-channel-soundbar-with-50-watt-digital-amplifier-black/5763749.p%253FskuId%253D5763749',\n",
       "       'https://www.bestbuy.com/site/naxa-2-1-channel-soundbar-with-50-watt-digital-amplifier-black/5763749.p%253FskuId%253D5763749,http://www.bestbuy.com/site/naxa-2-1-channel-soundbar-with-50-watt-digital-amplifier-black/5763749.p%253FskuId%253D5763749',\n",
       "       'https://www.walmart.com/ip/Naxa-42-Sound-bar-with-bluetooth-built-in-subwoofer/44184075'],\n",
       "      dtype=object)"
      ]
     },
     "execution_count": 98,
     "metadata": {},
     "output_type": "execute_result"
    }
   ],
   "source": [
    "df1['sourceURLs'].unique()\n",
    "# Esse link não tem informação para mim, pois o merchant me diz da onde vem"
   ]
  },
  {
   "cell_type": "code",
   "execution_count": 99,
   "id": "f2455fde-4b78-461d-957c-067def7d6381",
   "metadata": {},
   "outputs": [
    {
     "data": {
      "text/html": [
       "<div>\n",
       "<style scoped>\n",
       "    .dataframe tbody tr th:only-of-type {\n",
       "        vertical-align: middle;\n",
       "    }\n",
       "\n",
       "    .dataframe tbody tr th {\n",
       "        vertical-align: top;\n",
       "    }\n",
       "\n",
       "    .dataframe thead th {\n",
       "        text-align: right;\n",
       "    }\n",
       "</style>\n",
       "<table border=\"1\" class=\"dataframe\">\n",
       "  <thead>\n",
       "    <tr style=\"text-align: right;\">\n",
       "      <th></th>\n",
       "      <th>Unnamed: 0</th>\n",
       "      <th>Date_imp</th>\n",
       "      <th>Date_imp_d</th>\n",
       "      <th>Cluster</th>\n",
       "      <th>Category_name</th>\n",
       "      <th>name</th>\n",
       "      <th>price</th>\n",
       "      <th>disc_price</th>\n",
       "      <th>merchant</th>\n",
       "      <th>condition</th>\n",
       "      <th>...</th>\n",
       "      <th>sourceURLs</th>\n",
       "      <th>weight</th>\n",
       "      <th>Date_imp_d.1</th>\n",
       "      <th>Day_n</th>\n",
       "      <th>month</th>\n",
       "      <th>month_n</th>\n",
       "      <th>day</th>\n",
       "      <th>Week_Number</th>\n",
       "      <th>Zscore_1</th>\n",
       "      <th>price_std</th>\n",
       "    </tr>\n",
       "  </thead>\n",
       "  <tbody>\n",
       "    <tr>\n",
       "      <th>0</th>\n",
       "      <td>4</td>\n",
       "      <td>2017-12-14 06:00:00</td>\n",
       "      <td>2017/12/14</td>\n",
       "      <td>35</td>\n",
       "      <td>speaker, portable, bluetooth</td>\n",
       "      <td>Boytone - 2500W 2.1-Ch. Home Theater System - ...</td>\n",
       "      <td>69.00</td>\n",
       "      <td>64.99</td>\n",
       "      <td>Walmart.com</td>\n",
       "      <td>New</td>\n",
       "      <td>...</td>\n",
       "      <td>https://www.walmart.com/ip/BOYTONE-BT210FB-BLA...</td>\n",
       "      <td>14 pounds</td>\n",
       "      <td>2017/12/14</td>\n",
       "      <td>Thursday</td>\n",
       "      <td>12</td>\n",
       "      <td>December</td>\n",
       "      <td>14</td>\n",
       "      <td>50</td>\n",
       "      <td>0.001525</td>\n",
       "      <td>3.880725</td>\n",
       "    </tr>\n",
       "    <tr>\n",
       "      <th>1</th>\n",
       "      <td>5</td>\n",
       "      <td>2017-09-08 05:00:00</td>\n",
       "      <td>2017/09/08</td>\n",
       "      <td>35</td>\n",
       "      <td>speaker, portable, bluetooth</td>\n",
       "      <td>Boytone - 2500W 2.1-Ch. Home Theater System - ...</td>\n",
       "      <td>69.00</td>\n",
       "      <td>69.00</td>\n",
       "      <td>Walmart.com</td>\n",
       "      <td>New</td>\n",
       "      <td>...</td>\n",
       "      <td>https://www.walmart.com/ip/Boytone-BT-210F-Blu...</td>\n",
       "      <td>14 pounds</td>\n",
       "      <td>2017/09/08</td>\n",
       "      <td>Friday</td>\n",
       "      <td>9</td>\n",
       "      <td>September</td>\n",
       "      <td>8</td>\n",
       "      <td>36</td>\n",
       "      <td>0.001525</td>\n",
       "      <td>3.880725</td>\n",
       "    </tr>\n",
       "    <tr>\n",
       "      <th>2</th>\n",
       "      <td>6</td>\n",
       "      <td>2017-10-24 04:00:00</td>\n",
       "      <td>2017/10/24</td>\n",
       "      <td>35</td>\n",
       "      <td>speaker, portable, bluetooth</td>\n",
       "      <td>Boytone - 2500W 2.1-Ch. Home Theater System - ...</td>\n",
       "      <td>66.00</td>\n",
       "      <td>66.00</td>\n",
       "      <td>Walmart.com</td>\n",
       "      <td>New</td>\n",
       "      <td>...</td>\n",
       "      <td>https://www.walmart.com/ip/Boytone-BT-210F-Blu...</td>\n",
       "      <td>14 pounds</td>\n",
       "      <td>2017/10/24</td>\n",
       "      <td>Tuesday</td>\n",
       "      <td>10</td>\n",
       "      <td>October</td>\n",
       "      <td>24</td>\n",
       "      <td>43</td>\n",
       "      <td>-0.760844</td>\n",
       "      <td>3.880725</td>\n",
       "    </tr>\n",
       "    <tr>\n",
       "      <th>3</th>\n",
       "      <td>7</td>\n",
       "      <td>2017-08-15 15:00:00</td>\n",
       "      <td>2017/08/15</td>\n",
       "      <td>35</td>\n",
       "      <td>speaker, portable, bluetooth</td>\n",
       "      <td>Boytone - 2500W 2.1-Ch. Home Theater System - ...</td>\n",
       "      <td>74.99</td>\n",
       "      <td>74.99</td>\n",
       "      <td>Walmart.com</td>\n",
       "      <td>New</td>\n",
       "      <td>...</td>\n",
       "      <td>https://www.walmart.com/ip/Boytone-BT-210F-Blu...</td>\n",
       "      <td>14 pounds</td>\n",
       "      <td>2017/08/15</td>\n",
       "      <td>Tuesday</td>\n",
       "      <td>8</td>\n",
       "      <td>August</td>\n",
       "      <td>15</td>\n",
       "      <td>33</td>\n",
       "      <td>1.523722</td>\n",
       "      <td>3.880725</td>\n",
       "    </tr>\n",
       "    <tr>\n",
       "      <th>4</th>\n",
       "      <td>8</td>\n",
       "      <td>2017-09-14 21:00:00</td>\n",
       "      <td>2017/09/14</td>\n",
       "      <td>35</td>\n",
       "      <td>speaker, portable, bluetooth</td>\n",
       "      <td>Boytone - 2500W 2.1-Ch. Home Theater System - ...</td>\n",
       "      <td>69.99</td>\n",
       "      <td>69.99</td>\n",
       "      <td>Walmart.com</td>\n",
       "      <td>New</td>\n",
       "      <td>...</td>\n",
       "      <td>https://www.walmart.com/ip/Boytone-BT-210F-Blu...</td>\n",
       "      <td>14 pounds</td>\n",
       "      <td>2017/09/14</td>\n",
       "      <td>Thursday</td>\n",
       "      <td>9</td>\n",
       "      <td>September</td>\n",
       "      <td>14</td>\n",
       "      <td>37</td>\n",
       "      <td>0.253107</td>\n",
       "      <td>3.880725</td>\n",
       "    </tr>\n",
       "  </tbody>\n",
       "</table>\n",
       "<p>5 rows × 32 columns</p>\n",
       "</div>"
      ],
      "text/plain": [
       "   Unnamed: 0             Date_imp  Date_imp_d  Cluster  \\\n",
       "0           4  2017-12-14 06:00:00  2017/12/14       35   \n",
       "1           5  2017-09-08 05:00:00  2017/09/08       35   \n",
       "2           6  2017-10-24 04:00:00  2017/10/24       35   \n",
       "3           7  2017-08-15 15:00:00  2017/08/15       35   \n",
       "4           8  2017-09-14 21:00:00  2017/09/14       35   \n",
       "\n",
       "                  Category_name  \\\n",
       "0  speaker, portable, bluetooth   \n",
       "1  speaker, portable, bluetooth   \n",
       "2  speaker, portable, bluetooth   \n",
       "3  speaker, portable, bluetooth   \n",
       "4  speaker, portable, bluetooth   \n",
       "\n",
       "                                                name  price  disc_price  \\\n",
       "0  Boytone - 2500W 2.1-Ch. Home Theater System - ...  69.00       64.99   \n",
       "1  Boytone - 2500W 2.1-Ch. Home Theater System - ...  69.00       69.00   \n",
       "2  Boytone - 2500W 2.1-Ch. Home Theater System - ...  66.00       66.00   \n",
       "3  Boytone - 2500W 2.1-Ch. Home Theater System - ...  74.99       74.99   \n",
       "4  Boytone - 2500W 2.1-Ch. Home Theater System - ...  69.99       69.99   \n",
       "\n",
       "      merchant condition  ...  \\\n",
       "0  Walmart.com       New  ...   \n",
       "1  Walmart.com       New  ...   \n",
       "2  Walmart.com       New  ...   \n",
       "3  Walmart.com       New  ...   \n",
       "4  Walmart.com       New  ...   \n",
       "\n",
       "                                          sourceURLs     weight  Date_imp_d.1  \\\n",
       "0  https://www.walmart.com/ip/BOYTONE-BT210FB-BLA...  14 pounds    2017/12/14   \n",
       "1  https://www.walmart.com/ip/Boytone-BT-210F-Blu...  14 pounds    2017/09/08   \n",
       "2  https://www.walmart.com/ip/Boytone-BT-210F-Blu...  14 pounds    2017/10/24   \n",
       "3  https://www.walmart.com/ip/Boytone-BT-210F-Blu...  14 pounds    2017/08/15   \n",
       "4  https://www.walmart.com/ip/Boytone-BT-210F-Blu...  14 pounds    2017/09/14   \n",
       "\n",
       "      Day_n month    month_n day Week_Number  Zscore_1 price_std  \n",
       "0  Thursday    12   December  14          50  0.001525  3.880725  \n",
       "1    Friday     9  September   8          36  0.001525  3.880725  \n",
       "2   Tuesday    10    October  24          43 -0.760844  3.880725  \n",
       "3   Tuesday     8     August  15          33  1.523722  3.880725  \n",
       "4  Thursday     9  September  14          37  0.253107  3.880725  \n",
       "\n",
       "[5 rows x 32 columns]"
      ]
     },
     "execution_count": 99,
     "metadata": {},
     "output_type": "execute_result"
    }
   ],
   "source": [
    "# Analisando os dados \n",
    "df1.head()\n"
   ]
  },
  {
   "cell_type": "code",
   "execution_count": 100,
   "id": "ee6e6fae-42d5-405c-8310-441dc1c15733",
   "metadata": {},
   "outputs": [
    {
     "data": {
      "text/plain": [
       "array([    4,     5,     6, ..., 29590, 29591, 29592])"
      ]
     },
     "execution_count": 100,
     "metadata": {},
     "output_type": "execute_result"
    }
   ],
   "source": [
    "df1['Unnamed: 0'].unique()"
   ]
  },
  {
   "cell_type": "markdown",
   "id": "ac10b4c8-5ae3-4a60-bffa-db670b92a3e3",
   "metadata": {},
   "source": [
    "* coluna 'Unnamed: 8' deve ser dropada!\n",
    "* coluna 'sourceURLs' deve ser dropada!\n",
    "* coluna 'condition'"
   ]
  },
  {
   "cell_type": "code",
   "execution_count": 101,
   "id": "1bf6b924-6bc0-48e0-8955-8097cc55019e",
   "metadata": {},
   "outputs": [],
   "source": [
    "df1.drop( columns = 'Unnamed: 0',  inplace = True)\n",
    "df1.drop( columns = 'sourceURLs',  inplace = True)\n",
    "df1.drop( columns = 'condition', inplace = True)\n",
    "# Inicialmente vou dropar estás colunas\n",
    "#df1.drop( columns = '', inplace = True)"
   ]
  },
  {
   "cell_type": "markdown",
   "id": "2bf5d761-f2af-4f20-944f-28a56a457d0b",
   "metadata": {},
   "source": [
    "# 1. Data Description"
   ]
  },
  {
   "cell_type": "markdown",
   "id": "c379d885-1355-4f20-b98a-3cec53d0024b",
   "metadata": {},
   "source": [
    "**Contexto**\n",
    "\n",
    "Dados de comércio Eletrônico\n",
    "\n",
    "**Conteúdo**\n",
    "\n"
   ]
  },
  {
   "cell_type": "markdown",
   "id": "7df38b85-4e2b-4dd5-a0ca-2738af1fd54b",
   "metadata": {},
   "source": [
    "| Nome variável       | Papel     | Tipo | Descrião do produto | Unidades de Ações | Valores perdidos|\n",
    "|--------------|-----------|------------|------------|------------|------------|\n",
    "| InvoiceNo (em voz) | ID     | Categorial   | um número integral de 6 dígitos atribuído exclusivamente a cada transação. **Se este código começar com a letra 'c', indica um cancelamento**|| No|\n",
    "| Cod,o do stock     | ID     | Categorial       |um número integral de 5 dígitos atribuído exclusivamente a cada produto distinto|| No|\n",
    "|Description|\tFeature|\tCategorical|\tproduct name|\t\t|no|\n",
    "|Quantity\t|Feature|\tInteger|\tthe quantities of each product (item) per transaction|\t\t|no|\n",
    "|InvoiceDate\t|Feature\t|Date|\tthe day and time when each transaction was generated|\t\t|no|\n",
    "|UnitPrice\t|Feature\t|Continuous\t|product price per unit\t|sterling|\tno|\n",
    "|CustomerID|Feature|Categorical|um número integral de 5 dígitos atribuído exclusivamente a cada cliente|\t|no|\n",
    "|Country|\tFeature|\tCategorical|\tthe name of the country where each customer resides|\t\t|no|"
   ]
  },
  {
   "cell_type": "markdown",
   "id": "e900d11a-116c-46a7-bbbe-b26cc2631c79",
   "metadata": {},
   "source": [
    "## 1.1 Rename Columns"
   ]
  },
  {
   "cell_type": "code",
   "execution_count": 102,
   "id": "942f28c6-3c48-49e6-b091-1d7669a02eee",
   "metadata": {},
   "outputs": [
    {
     "data": {
      "text/plain": [
       "['Date_imp',\n",
       " 'Date_imp_d',\n",
       " 'Cluster',\n",
       " 'Category_name',\n",
       " 'name',\n",
       " 'price',\n",
       " 'disc_price',\n",
       " 'merchant',\n",
       " 'Disc_percentage',\n",
       " 'isSale',\n",
       " 'Imp_count',\n",
       " 'brand',\n",
       " 'p_description',\n",
       " 'currency',\n",
       " 'dateAdded',\n",
       " 'dateSeen',\n",
       " 'dateUpdated',\n",
       " 'imageURLs',\n",
       " 'manufacturer',\n",
       " 'shipping',\n",
       " 'weight',\n",
       " 'Date_imp_d.1',\n",
       " 'Day_n',\n",
       " 'month',\n",
       " 'month_n',\n",
       " 'day',\n",
       " 'Week_Number',\n",
       " 'Zscore_1',\n",
       " 'price_std']"
      ]
     },
     "execution_count": 102,
     "metadata": {},
     "output_type": "execute_result"
    }
   ],
   "source": [
    "list(df1.columns)"
   ]
  },
  {
   "cell_type": "code",
   "execution_count": 103,
   "id": "35ecb77f-ffb2-49cf-b621-54610580b28c",
   "metadata": {},
   "outputs": [],
   "source": [
    "cols_old = list(df1.columns)\n",
    "\n",
    "snakecase = lambda x : inflection.underscore( x )\n",
    "cols_new = list(map(snakecase, cols_old))\n",
    "\n",
    "df1.columns = cols_new\n"
   ]
  },
  {
   "cell_type": "markdown",
   "id": "103ef3f2-9036-4241-912f-77d7ba477401",
   "metadata": {},
   "source": [
    "## 1.2 Data Dimensions"
   ]
  },
  {
   "cell_type": "code",
   "execution_count": 104,
   "id": "12de1527-bc81-45fa-8f4d-59c4f6786ff9",
   "metadata": {},
   "outputs": [
    {
     "name": "stdout",
     "output_type": "stream",
     "text": [
      "Number of Rows: 23151\n",
      "Number of Cols: 29\n"
     ]
    }
   ],
   "source": [
    "print('Number of Rows: {}'.format( df1.shape[0]))\n",
    "print( 'Number of Cols: {}'.format( df1.shape[1] ) )"
   ]
  },
  {
   "cell_type": "markdown",
   "id": "18aaa17c-4bf7-421d-8d9e-088583611ebd",
   "metadata": {},
   "source": [
    "## 1.3 Data Types"
   ]
  },
  {
   "cell_type": "code",
   "execution_count": 105,
   "id": "6177eab7-464a-4fef-a429-392923a712d6",
   "metadata": {},
   "outputs": [
    {
     "data": {
      "text/plain": [
       "date_imp            object\n",
       "date_imp_d          object\n",
       "cluster              int64\n",
       "category_name       object\n",
       "name                object\n",
       "price              float64\n",
       "disc_price         float64\n",
       "merchant            object\n",
       "disc_percentage    float64\n",
       "is_sale             object\n",
       "imp_count            int64\n",
       "brand               object\n",
       "p_description       object\n",
       "currency            object\n",
       "date_added          object\n",
       "date_seen           object\n",
       "date_updated        object\n",
       "image_ur_ls         object\n",
       "manufacturer        object\n",
       "shipping            object\n",
       "weight              object\n",
       "date_imp_d.1        object\n",
       "day_n               object\n",
       "month                int64\n",
       "month_n             object\n",
       "day                  int64\n",
       "week_number          int64\n",
       "zscore_1           float64\n",
       "price_std          float64\n",
       "dtype: object"
      ]
     },
     "execution_count": 105,
     "metadata": {},
     "output_type": "execute_result"
    }
   ],
   "source": [
    "df1.dtypes"
   ]
  },
  {
   "cell_type": "code",
   "execution_count": 106,
   "id": "a20fac73-f7af-40d9-95aa-4b2eda2d3986",
   "metadata": {},
   "outputs": [
    {
     "data": {
      "text/plain": [
       "array(['December', 'September', 'October', 'August', 'July', 'May',\n",
       "       'April', 'March', 'June', 'November', 'January'], dtype=object)"
      ]
     },
     "execution_count": 106,
     "metadata": {},
     "output_type": "execute_result"
    }
   ],
   "source": [
    "df1['month_n'].unique()"
   ]
  },
  {
   "cell_type": "markdown",
   "id": "94c641db-69dd-4b01-895e-aa021f6a67b6",
   "metadata": {},
   "source": [
    "## 1.4 Check NA"
   ]
  },
  {
   "cell_type": "code",
   "execution_count": 107,
   "id": "86c8506b-2766-4fec-b769-b0adabb1a491",
   "metadata": {},
   "outputs": [
    {
     "data": {
      "text/plain": [
       "date_imp               0\n",
       "date_imp_d             0\n",
       "cluster                0\n",
       "category_name          0\n",
       "name                   0\n",
       "price                  0\n",
       "disc_price             0\n",
       "merchant               0\n",
       "disc_percentage        0\n",
       "is_sale                0\n",
       "imp_count              0\n",
       "brand                  0\n",
       "p_description          0\n",
       "currency               0\n",
       "date_added             0\n",
       "date_seen              0\n",
       "date_updated           0\n",
       "image_ur_ls        22696\n",
       "manufacturer       10639\n",
       "shipping           11497\n",
       "weight                68\n",
       "date_imp_d.1           0\n",
       "day_n                  0\n",
       "month                  0\n",
       "month_n                0\n",
       "day                    0\n",
       "week_number            0\n",
       "zscore_1             171\n",
       "price_std              0\n",
       "dtype: int64"
      ]
     },
     "execution_count": 107,
     "metadata": {},
     "output_type": "execute_result"
    }
   ],
   "source": [
    "df1.isna().sum() "
   ]
  },
  {
   "cell_type": "code",
   "execution_count": 108,
   "id": "e91cbf4d-c189-46ac-98d1-028bae10c5b0",
   "metadata": {
    "scrolled": true
   },
   "outputs": [
    {
     "data": {
      "text/plain": [
       "date_imp            0.000000\n",
       "date_imp_d          0.000000\n",
       "cluster             0.000000\n",
       "category_name       0.000000\n",
       "name                0.000000\n",
       "price               0.000000\n",
       "disc_price          0.000000\n",
       "merchant            0.000000\n",
       "disc_percentage     0.000000\n",
       "is_sale             0.000000\n",
       "imp_count           0.000000\n",
       "brand               0.000000\n",
       "p_description       0.000000\n",
       "currency            0.000000\n",
       "date_added          0.000000\n",
       "date_seen           0.000000\n",
       "date_updated        0.000000\n",
       "image_ur_ls        98.034642\n",
       "manufacturer       45.954818\n",
       "shipping           49.660922\n",
       "weight              0.293724\n",
       "date_imp_d.1        0.000000\n",
       "day_n               0.000000\n",
       "month               0.000000\n",
       "month_n             0.000000\n",
       "day                 0.000000\n",
       "week_number         0.000000\n",
       "zscore_1            0.738629\n",
       "price_std           0.000000\n",
       "dtype: float64"
      ]
     },
     "execution_count": 108,
     "metadata": {},
     "output_type": "execute_result"
    }
   ],
   "source": [
    "(df1.isna().sum() / len(df1)  ) *100"
   ]
  },
  {
   "cell_type": "markdown",
   "id": "3982a25b-7213-4ad9-b729-e777a434b424",
   "metadata": {},
   "source": [
    "REFLEXÃO p/ trabalhar com os NANs\n",
    "\n",
    "**Objetivo do trabalho:** Calcular a elasticidade dos preços ! \n",
    "\n",
    "Formas de tratar os NAN:\n",
    "\n",
    "    * Deletar ( df1.dropna() )\n",
    "        * + (vantagem        -  Simples\n",
    "        * - (Desvantagem )   -  Perda de informação\n",
    "        * Goal               -  Depende da quantidade \n",
    "   \n",
    "    * Preencher\n",
    "        * + (vantagem        -  Mantém o tamanho original dos dados\n",
    "        * - (Desvantagem )   -  Caso a distribuição n seja normal, pode fica com muito viés!\n",
    "        * Goal               -  Atrapalharia na segmentação e interpretação do cliente!\n",
    "    \n",
    "    * Interpolar\n",
    "        * + (vantagem        -  Mantém a integridade de seres temporais \n",
    "        * - (Desvantagem )   -  Pode distorcer com informações falsas\n",
    "        * Goal               -  Segmentar o cliente errado no grupo, pois o mesmo pode aparecer mais de uma vez, com uma pequenas  diferança nas suas características.\n",
    "    \n",
    "    * Modelos Estatísticos\n",
    "        * + (vantagem        -  Abordagem mais sofisticada \n",
    "        * - (Desvantagem )   -  Reque muito recurso do computador e pode ser impreciso\n",
    "        * Goal               -  Pode acumular muita informação incorreta!\n",
    "\n",
    "Conclusão: Melhor caminho baseado que nas colunas que tem não são tão relevante para o objetivos deletar elas é a melhor opção"
   ]
  },
  {
   "cell_type": "markdown",
   "id": "076e24d8-b5e9-442a-8da7-9f3992572bb9",
   "metadata": {},
   "source": [
    "## 1.5 Fillout NAN ou Null"
   ]
  },
  {
   "cell_type": "markdown",
   "id": "c7a6e530-92d2-47dc-8804-a6dc26a259f1",
   "metadata": {},
   "source": [
    "###### Tentativa 1 ( X )"
   ]
  },
  {
   "cell_type": "code",
   "execution_count": 109,
   "id": "e8454794-eef7-4300-909e-17ebba3d1ce2",
   "metadata": {},
   "outputs": [],
   "source": [
    "#drop image_ur_ls por ter maior parte dos seu dados perdidos\n",
    "#df1['image_ur_ls'].unique() #url\n",
    "#df1['manufacturer'].unique() #marcas do produto, Dropar também\n",
    "#df1['shipping'].unique() # o frete, dropar também\n",
    "#df1['zscore_1'].unique() # uma pontuação, dropar também\n",
    "df1.drop(columns = 'image_ur_ls', inplace = True )\n",
    "df1.drop( columns = 'manufacturer', inplace = True )\n",
    "df1.drop( columns = 'shipping', inplace = True )\n",
    "df1.drop( columns = 'zscore_1', inplace = True )"
   ]
  },
  {
   "cell_type": "code",
   "execution_count": 110,
   "id": "a9b6a5d4-434b-4fb3-8c6f-f9c69433c47d",
   "metadata": {},
   "outputs": [
    {
     "data": {
      "text/plain": [
       "date_imp            0\n",
       "date_imp_d          0\n",
       "cluster             0\n",
       "category_name       0\n",
       "name                0\n",
       "price               0\n",
       "disc_price          0\n",
       "merchant            0\n",
       "disc_percentage     0\n",
       "is_sale             0\n",
       "imp_count           0\n",
       "brand               0\n",
       "p_description       0\n",
       "currency            0\n",
       "date_added          0\n",
       "date_seen           0\n",
       "date_updated        0\n",
       "weight             68\n",
       "date_imp_d.1        0\n",
       "day_n               0\n",
       "month               0\n",
       "month_n             0\n",
       "day                 0\n",
       "week_number         0\n",
       "price_std           0\n",
       "dtype: int64"
      ]
     },
     "execution_count": 110,
     "metadata": {},
     "output_type": "execute_result"
    }
   ],
   "source": [
    "df1.isnull().sum()"
   ]
  },
  {
   "cell_type": "markdown",
   "id": "113c8cd8-55b4-4b2d-a4c2-1f478d821066",
   "metadata": {},
   "source": [
    "###### Tentativa 2"
   ]
  },
  {
   "cell_type": "markdown",
   "id": "60e8cd2c-5a54-45b9-b521-51440ceb9f19",
   "metadata": {},
   "source": [
    "## 1.6 Change Type"
   ]
  },
  {
   "cell_type": "code",
   "execution_count": 111,
   "id": "8810601d-580a-48cb-ae2c-d0efa20e4407",
   "metadata": {},
   "outputs": [
    {
     "data": {
      "text/plain": [
       "date_imp            object\n",
       "date_imp_d          object\n",
       "cluster              int64\n",
       "category_name       object\n",
       "name                object\n",
       "price              float64\n",
       "disc_price         float64\n",
       "merchant            object\n",
       "disc_percentage    float64\n",
       "is_sale             object\n",
       "imp_count            int64\n",
       "brand               object\n",
       "p_description       object\n",
       "currency            object\n",
       "date_added          object\n",
       "date_seen           object\n",
       "date_updated        object\n",
       "weight              object\n",
       "date_imp_d.1        object\n",
       "day_n               object\n",
       "month                int64\n",
       "month_n             object\n",
       "day                  int64\n",
       "week_number          int64\n",
       "price_std          float64\n",
       "dtype: object"
      ]
     },
     "execution_count": 111,
     "metadata": {},
     "output_type": "execute_result"
    }
   ],
   "source": [
    "df1.dtypes"
   ]
  },
  {
   "cell_type": "code",
   "execution_count": 112,
   "id": "a2961cb8-34a6-44d7-9129-6456cd160063",
   "metadata": {
    "scrolled": true
   },
   "outputs": [
    {
     "data": {
      "text/html": [
       "<div>\n",
       "<style scoped>\n",
       "    .dataframe tbody tr th:only-of-type {\n",
       "        vertical-align: middle;\n",
       "    }\n",
       "\n",
       "    .dataframe tbody tr th {\n",
       "        vertical-align: top;\n",
       "    }\n",
       "\n",
       "    .dataframe thead th {\n",
       "        text-align: right;\n",
       "    }\n",
       "</style>\n",
       "<table border=\"1\" class=\"dataframe\">\n",
       "  <thead>\n",
       "    <tr style=\"text-align: right;\">\n",
       "      <th></th>\n",
       "      <th>date_imp</th>\n",
       "      <th>date_imp_d</th>\n",
       "      <th>cluster</th>\n",
       "      <th>category_name</th>\n",
       "      <th>name</th>\n",
       "      <th>price</th>\n",
       "      <th>disc_price</th>\n",
       "      <th>merchant</th>\n",
       "      <th>disc_percentage</th>\n",
       "      <th>is_sale</th>\n",
       "      <th>...</th>\n",
       "      <th>date_seen</th>\n",
       "      <th>date_updated</th>\n",
       "      <th>weight</th>\n",
       "      <th>date_imp_d.1</th>\n",
       "      <th>day_n</th>\n",
       "      <th>month</th>\n",
       "      <th>month_n</th>\n",
       "      <th>day</th>\n",
       "      <th>week_number</th>\n",
       "      <th>price_std</th>\n",
       "    </tr>\n",
       "  </thead>\n",
       "  <tbody>\n",
       "    <tr>\n",
       "      <th>0</th>\n",
       "      <td>2017-12-14 06:00:00</td>\n",
       "      <td>2017/12/14</td>\n",
       "      <td>35</td>\n",
       "      <td>speaker, portable, bluetooth</td>\n",
       "      <td>Boytone - 2500W 2.1-Ch. Home Theater System - ...</td>\n",
       "      <td>69.00</td>\n",
       "      <td>64.99</td>\n",
       "      <td>Walmart.com</td>\n",
       "      <td>0.06</td>\n",
       "      <td>Yes</td>\n",
       "      <td>...</td>\n",
       "      <td>2017-12-14T06:00:00Z</td>\n",
       "      <td>2018-06-13T19:39:02Z</td>\n",
       "      <td>14 pounds</td>\n",
       "      <td>2017/12/14</td>\n",
       "      <td>Thursday</td>\n",
       "      <td>12</td>\n",
       "      <td>December</td>\n",
       "      <td>14</td>\n",
       "      <td>50</td>\n",
       "      <td>3.880725</td>\n",
       "    </tr>\n",
       "    <tr>\n",
       "      <th>1</th>\n",
       "      <td>2017-09-08 05:00:00</td>\n",
       "      <td>2017/09/08</td>\n",
       "      <td>35</td>\n",
       "      <td>speaker, portable, bluetooth</td>\n",
       "      <td>Boytone - 2500W 2.1-Ch. Home Theater System - ...</td>\n",
       "      <td>69.00</td>\n",
       "      <td>69.00</td>\n",
       "      <td>Walmart.com</td>\n",
       "      <td>0.00</td>\n",
       "      <td>No</td>\n",
       "      <td>...</td>\n",
       "      <td>2017-09-08T05:00:00Z</td>\n",
       "      <td>2018-06-13T19:39:02Z</td>\n",
       "      <td>14 pounds</td>\n",
       "      <td>2017/09/08</td>\n",
       "      <td>Friday</td>\n",
       "      <td>9</td>\n",
       "      <td>September</td>\n",
       "      <td>8</td>\n",
       "      <td>36</td>\n",
       "      <td>3.880725</td>\n",
       "    </tr>\n",
       "    <tr>\n",
       "      <th>2</th>\n",
       "      <td>2017-10-24 04:00:00</td>\n",
       "      <td>2017/10/24</td>\n",
       "      <td>35</td>\n",
       "      <td>speaker, portable, bluetooth</td>\n",
       "      <td>Boytone - 2500W 2.1-Ch. Home Theater System - ...</td>\n",
       "      <td>66.00</td>\n",
       "      <td>66.00</td>\n",
       "      <td>Walmart.com</td>\n",
       "      <td>0.00</td>\n",
       "      <td>No</td>\n",
       "      <td>...</td>\n",
       "      <td>2017-10-24T04:00:00Z</td>\n",
       "      <td>2018-06-13T19:39:02Z</td>\n",
       "      <td>14 pounds</td>\n",
       "      <td>2017/10/24</td>\n",
       "      <td>Tuesday</td>\n",
       "      <td>10</td>\n",
       "      <td>October</td>\n",
       "      <td>24</td>\n",
       "      <td>43</td>\n",
       "      <td>3.880725</td>\n",
       "    </tr>\n",
       "    <tr>\n",
       "      <th>3</th>\n",
       "      <td>2017-08-15 15:00:00</td>\n",
       "      <td>2017/08/15</td>\n",
       "      <td>35</td>\n",
       "      <td>speaker, portable, bluetooth</td>\n",
       "      <td>Boytone - 2500W 2.1-Ch. Home Theater System - ...</td>\n",
       "      <td>74.99</td>\n",
       "      <td>74.99</td>\n",
       "      <td>Walmart.com</td>\n",
       "      <td>0.00</td>\n",
       "      <td>No</td>\n",
       "      <td>...</td>\n",
       "      <td>2017-08-15T15:00:00Z</td>\n",
       "      <td>2018-06-13T19:39:02Z</td>\n",
       "      <td>14 pounds</td>\n",
       "      <td>2017/08/15</td>\n",
       "      <td>Tuesday</td>\n",
       "      <td>8</td>\n",
       "      <td>August</td>\n",
       "      <td>15</td>\n",
       "      <td>33</td>\n",
       "      <td>3.880725</td>\n",
       "    </tr>\n",
       "    <tr>\n",
       "      <th>4</th>\n",
       "      <td>2017-09-14 21:00:00</td>\n",
       "      <td>2017/09/14</td>\n",
       "      <td>35</td>\n",
       "      <td>speaker, portable, bluetooth</td>\n",
       "      <td>Boytone - 2500W 2.1-Ch. Home Theater System - ...</td>\n",
       "      <td>69.99</td>\n",
       "      <td>69.99</td>\n",
       "      <td>Walmart.com</td>\n",
       "      <td>0.00</td>\n",
       "      <td>No</td>\n",
       "      <td>...</td>\n",
       "      <td>2017-09-14T21:00:00Z</td>\n",
       "      <td>2018-06-13T19:39:02Z</td>\n",
       "      <td>14 pounds</td>\n",
       "      <td>2017/09/14</td>\n",
       "      <td>Thursday</td>\n",
       "      <td>9</td>\n",
       "      <td>September</td>\n",
       "      <td>14</td>\n",
       "      <td>37</td>\n",
       "      <td>3.880725</td>\n",
       "    </tr>\n",
       "  </tbody>\n",
       "</table>\n",
       "<p>5 rows × 25 columns</p>\n",
       "</div>"
      ],
      "text/plain": [
       "              date_imp  date_imp_d  cluster                 category_name  \\\n",
       "0  2017-12-14 06:00:00  2017/12/14       35  speaker, portable, bluetooth   \n",
       "1  2017-09-08 05:00:00  2017/09/08       35  speaker, portable, bluetooth   \n",
       "2  2017-10-24 04:00:00  2017/10/24       35  speaker, portable, bluetooth   \n",
       "3  2017-08-15 15:00:00  2017/08/15       35  speaker, portable, bluetooth   \n",
       "4  2017-09-14 21:00:00  2017/09/14       35  speaker, portable, bluetooth   \n",
       "\n",
       "                                                name  price  disc_price  \\\n",
       "0  Boytone - 2500W 2.1-Ch. Home Theater System - ...  69.00       64.99   \n",
       "1  Boytone - 2500W 2.1-Ch. Home Theater System - ...  69.00       69.00   \n",
       "2  Boytone - 2500W 2.1-Ch. Home Theater System - ...  66.00       66.00   \n",
       "3  Boytone - 2500W 2.1-Ch. Home Theater System - ...  74.99       74.99   \n",
       "4  Boytone - 2500W 2.1-Ch. Home Theater System - ...  69.99       69.99   \n",
       "\n",
       "      merchant  disc_percentage is_sale  ...             date_seen  \\\n",
       "0  Walmart.com             0.06     Yes  ...  2017-12-14T06:00:00Z   \n",
       "1  Walmart.com             0.00      No  ...  2017-09-08T05:00:00Z   \n",
       "2  Walmart.com             0.00      No  ...  2017-10-24T04:00:00Z   \n",
       "3  Walmart.com             0.00      No  ...  2017-08-15T15:00:00Z   \n",
       "4  Walmart.com             0.00      No  ...  2017-09-14T21:00:00Z   \n",
       "\n",
       "           date_updated     weight date_imp_d.1     day_n month    month_n  \\\n",
       "0  2018-06-13T19:39:02Z  14 pounds   2017/12/14  Thursday    12   December   \n",
       "1  2018-06-13T19:39:02Z  14 pounds   2017/09/08    Friday     9  September   \n",
       "2  2018-06-13T19:39:02Z  14 pounds   2017/10/24   Tuesday    10    October   \n",
       "3  2018-06-13T19:39:02Z  14 pounds   2017/08/15   Tuesday     8     August   \n",
       "4  2018-06-13T19:39:02Z  14 pounds   2017/09/14  Thursday     9  September   \n",
       "\n",
       "  day week_number price_std  \n",
       "0  14          50  3.880725  \n",
       "1   8          36  3.880725  \n",
       "2  24          43  3.880725  \n",
       "3  15          33  3.880725  \n",
       "4  14          37  3.880725  \n",
       "\n",
       "[5 rows x 25 columns]"
      ]
     },
     "execution_count": 112,
     "metadata": {},
     "output_type": "execute_result"
    }
   ],
   "source": [
    "df1.head()"
   ]
  },
  {
   "cell_type": "code",
   "execution_count": 113,
   "id": "d5da3f41-3677-49a6-9a0e-aa9380a5bf5d",
   "metadata": {},
   "outputs": [
    {
     "data": {
      "text/plain": [
       "date_imp            object\n",
       "date_imp_d          object\n",
       "cluster              int64\n",
       "category_name       object\n",
       "name                object\n",
       "price              float64\n",
       "disc_price         float64\n",
       "merchant            object\n",
       "disc_percentage    float64\n",
       "is_sale             object\n",
       "imp_count            int64\n",
       "brand               object\n",
       "p_description       object\n",
       "currency            object\n",
       "date_added          object\n",
       "date_seen           object\n",
       "date_updated        object\n",
       "weight              object\n",
       "date_imp_d.1        object\n",
       "day_n               object\n",
       "month                int64\n",
       "month_n             object\n",
       "day                  int64\n",
       "week_number          int64\n",
       "price_std          float64\n",
       "dtype: object"
      ]
     },
     "execution_count": 113,
     "metadata": {},
     "output_type": "execute_result"
    }
   ],
   "source": [
    "df1.dtypes"
   ]
  },
  {
   "cell_type": "code",
   "execution_count": 114,
   "id": "bd1ec0de-f849-4d49-a533-a4b617ec315f",
   "metadata": {},
   "outputs": [
    {
     "data": {
      "text/plain": [
       "date_imp           datetime64[ns]\n",
       "date_imp_d         datetime64[ns]\n",
       "cluster                     int64\n",
       "category_name              object\n",
       "name                       object\n",
       "price                     float64\n",
       "disc_price                float64\n",
       "merchant                   object\n",
       "disc_percentage           float64\n",
       "is_sale                    object\n",
       "imp_count                   int64\n",
       "brand                      object\n",
       "p_description              object\n",
       "currency                   object\n",
       "date_added                 object\n",
       "date_seen                  object\n",
       "date_updated               object\n",
       "weight                     object\n",
       "date_imp_d.1               object\n",
       "day_n                      object\n",
       "month                       int64\n",
       "month_n                    object\n",
       "day                         int64\n",
       "week_number                 int64\n",
       "price_std                 float64\n",
       "Hours                      object\n",
       "dtype: object"
      ]
     },
     "execution_count": 114,
     "metadata": {},
     "output_type": "execute_result"
    }
   ],
   "source": [
    "# invoice_no\n",
    "#df1['invoice_no']   = df1['invoice_no'].astype( int ) \n",
    "#Date_imp_d.1 \tDay_n \tmonth \tmonth_n \tday \tWeek_Number\n",
    "#invoice date\n",
    "df1['date_imp_d'] = pd.to_datetime(df1['date_imp_d'], format= '%Y/%m/%d') \n",
    "# Hours \n",
    "\n",
    "# Converter a coluna 'date_imp' para datetime\n",
    "df1['date_imp'] = pd.to_datetime(df1['date_imp'], format='%Y-%m-%d %H:%M:%S')\n",
    "\n",
    "# Agora você pode formatar a hora\n",
    "df1['Hours'] = df1['date_imp'].dt.strftime('%H:%M:%S')#customer id\n",
    "df1.dtypes\n",
    "\n"
   ]
  },
  {
   "cell_type": "markdown",
   "id": "d5d5122b-a720-46f4-a193-a060ac8994a2",
   "metadata": {},
   "source": [
    " ## 1.7 Descriptive Statistics"
   ]
  },
  {
   "cell_type": "code",
   "execution_count": 115,
   "id": "bc7d0129-162d-4279-b3a2-ae4a461facca",
   "metadata": {},
   "outputs": [],
   "source": [
    "num_attributes = df1.select_dtypes( include = ['int64', 'int32', 'float64'] )\n",
    "cat_attributes = df1.select_dtypes( exclude = ['int64', 'int32', 'float64', 'datetime64[ns]'] )"
   ]
  },
  {
   "cell_type": "markdown",
   "id": "015042bd-c165-42cc-95bd-c082199eecdc",
   "metadata": {},
   "source": [
    "## 1.7.1 Numerical Attributes"
   ]
  },
  {
   "cell_type": "code",
   "execution_count": 116,
   "id": "22b0be51-a314-4589-94f5-115b4ca30883",
   "metadata": {},
   "outputs": [
    {
     "data": {
      "text/html": [
       "<div>\n",
       "<style scoped>\n",
       "    .dataframe tbody tr th:only-of-type {\n",
       "        vertical-align: middle;\n",
       "    }\n",
       "\n",
       "    .dataframe tbody tr th {\n",
       "        vertical-align: top;\n",
       "    }\n",
       "\n",
       "    .dataframe thead th {\n",
       "        text-align: right;\n",
       "    }\n",
       "</style>\n",
       "<table border=\"1\" class=\"dataframe\">\n",
       "  <thead>\n",
       "    <tr style=\"text-align: right;\">\n",
       "      <th></th>\n",
       "      <th>attributes</th>\n",
       "      <th>min</th>\n",
       "      <th>max</th>\n",
       "      <th>range</th>\n",
       "      <th>mean</th>\n",
       "      <th>median</th>\n",
       "      <th>std</th>\n",
       "      <th>skew</th>\n",
       "      <th>kurtosis</th>\n",
       "    </tr>\n",
       "  </thead>\n",
       "  <tbody>\n",
       "    <tr>\n",
       "      <th>0</th>\n",
       "      <td>cluster</td>\n",
       "      <td>0.000000</td>\n",
       "      <td>57.000000</td>\n",
       "      <td>57.000000</td>\n",
       "      <td>22.682735</td>\n",
       "      <td>20.000000</td>\n",
       "      <td>15.576482</td>\n",
       "      <td>0.312318</td>\n",
       "      <td>-1.010301</td>\n",
       "    </tr>\n",
       "    <tr>\n",
       "      <th>1</th>\n",
       "      <td>price</td>\n",
       "      <td>1.000000</td>\n",
       "      <td>10879.950000</td>\n",
       "      <td>10878.950000</td>\n",
       "      <td>513.037803</td>\n",
       "      <td>199.990000</td>\n",
       "      <td>859.091448</td>\n",
       "      <td>4.595160</td>\n",
       "      <td>34.411146</td>\n",
       "    </tr>\n",
       "    <tr>\n",
       "      <th>3</th>\n",
       "      <td>disc_percentage</td>\n",
       "      <td>0.000000</td>\n",
       "      <td>0.800000</td>\n",
       "      <td>0.800000</td>\n",
       "      <td>0.016933</td>\n",
       "      <td>0.000000</td>\n",
       "      <td>0.077847</td>\n",
       "      <td>5.217632</td>\n",
       "      <td>28.754920</td>\n",
       "    </tr>\n",
       "    <tr>\n",
       "      <th>4</th>\n",
       "      <td>imp_count</td>\n",
       "      <td>1.000000</td>\n",
       "      <td>31.000000</td>\n",
       "      <td>30.000000</td>\n",
       "      <td>6.560926</td>\n",
       "      <td>5.000000</td>\n",
       "      <td>5.403049</td>\n",
       "      <td>1.286351</td>\n",
       "      <td>1.639569</td>\n",
       "    </tr>\n",
       "    <tr>\n",
       "      <th>5</th>\n",
       "      <td>month</td>\n",
       "      <td>1.000000</td>\n",
       "      <td>12.000000</td>\n",
       "      <td>11.000000</td>\n",
       "      <td>7.651030</td>\n",
       "      <td>8.000000</td>\n",
       "      <td>2.592787</td>\n",
       "      <td>-0.099417</td>\n",
       "      <td>-0.628859</td>\n",
       "    </tr>\n",
       "    <tr>\n",
       "      <th>6</th>\n",
       "      <td>day</td>\n",
       "      <td>1.000000</td>\n",
       "      <td>31.000000</td>\n",
       "      <td>30.000000</td>\n",
       "      <td>15.693879</td>\n",
       "      <td>16.000000</td>\n",
       "      <td>9.681413</td>\n",
       "      <td>0.032258</td>\n",
       "      <td>-1.331838</td>\n",
       "    </tr>\n",
       "    <tr>\n",
       "      <th>7</th>\n",
       "      <td>week_number</td>\n",
       "      <td>1.000000</td>\n",
       "      <td>51.000000</td>\n",
       "      <td>50.000000</td>\n",
       "      <td>31.342750</td>\n",
       "      <td>32.000000</td>\n",
       "      <td>11.316253</td>\n",
       "      <td>-0.266980</td>\n",
       "      <td>-0.648027</td>\n",
       "    </tr>\n",
       "    <tr>\n",
       "      <th>8</th>\n",
       "      <td>price_std</td>\n",
       "      <td>0.004472</td>\n",
       "      <td>1423.902118</td>\n",
       "      <td>1423.897646</td>\n",
       "      <td>61.992819</td>\n",
       "      <td>18.764962</td>\n",
       "      <td>125.492418</td>\n",
       "      <td>4.857793</td>\n",
       "      <td>30.958918</td>\n",
       "    </tr>\n",
       "  </tbody>\n",
       "</table>\n",
       "</div>"
      ],
      "text/plain": [
       "        attributes       min           max         range        mean  \\\n",
       "0          cluster  0.000000     57.000000     57.000000   22.682735   \n",
       "1            price  1.000000  10879.950000  10878.950000  513.037803   \n",
       "3  disc_percentage  0.000000      0.800000      0.800000    0.016933   \n",
       "4        imp_count  1.000000     31.000000     30.000000    6.560926   \n",
       "5            month  1.000000     12.000000     11.000000    7.651030   \n",
       "6              day  1.000000     31.000000     30.000000   15.693879   \n",
       "7      week_number  1.000000     51.000000     50.000000   31.342750   \n",
       "8        price_std  0.004472   1423.902118   1423.897646   61.992819   \n",
       "\n",
       "       median         std      skew   kurtosis  \n",
       "0   20.000000   15.576482  0.312318  -1.010301  \n",
       "1  199.990000  859.091448  4.595160  34.411146  \n",
       "3    0.000000    0.077847  5.217632  28.754920  \n",
       "4    5.000000    5.403049  1.286351   1.639569  \n",
       "5    8.000000    2.592787 -0.099417  -0.628859  \n",
       "6   16.000000    9.681413  0.032258  -1.331838  \n",
       "7   32.000000   11.316253 -0.266980  -0.648027  \n",
       "8   18.764962  125.492418  4.857793  30.958918  "
      ]
     },
     "execution_count": 116,
     "metadata": {},
     "output_type": "execute_result"
    }
   ],
   "source": [
    "#central tendency - mean, median\n",
    "ct1 = pd.DataFrame(num_attributes.apply(np.mean)).T\n",
    "ct2 = pd.DataFrame(num_attributes.apply(np.median)).T\n",
    "\n",
    "#dispersion \n",
    "d1 = pd.DataFrame(num_attributes.apply(np.std)).T\n",
    "d2 = pd.DataFrame(num_attributes.apply(np.min)).T\n",
    "d3 = pd.DataFrame(num_attributes.apply(np.max)).T\n",
    "d4 = pd.DataFrame(num_attributes.apply(lambda x: x.max() - x.min())).T\n",
    "d5 = pd.DataFrame(num_attributes.apply(lambda x: x.skew())).T\n",
    "d6 = pd.DataFrame(num_attributes.apply(lambda x: x.kurtosis())).T\n",
    "\n",
    "#concatenate\n",
    "m1 = pd.concat([d2 ,d3, d4, ct1, ct2, d1, d5, d6]).T.reset_index()\n",
    "m1 = m1.drop([2])\n",
    "m1.columns = ['attributes', 'min', 'max', 'range', 'mean', 'median', 'std', 'skew', 'kurtosis' ]\n",
    "m1\n"
   ]
  },
  {
   "cell_type": "markdown",
   "id": "d4c849eb-4f21-4946-939d-055ff4222e1a",
   "metadata": {},
   "source": [
    "## 1.7.2 Categorical Attributes"
   ]
  },
  {
   "cell_type": "code",
   "execution_count": 117,
   "id": "7e084288-eb08-40de-a45b-bd57a827511d",
   "metadata": {},
   "outputs": [
    {
     "data": {
      "text/html": [
       "<div>\n",
       "<style scoped>\n",
       "    .dataframe tbody tr th:only-of-type {\n",
       "        vertical-align: middle;\n",
       "    }\n",
       "\n",
       "    .dataframe tbody tr th {\n",
       "        vertical-align: top;\n",
       "    }\n",
       "\n",
       "    .dataframe thead th {\n",
       "        text-align: right;\n",
       "    }\n",
       "</style>\n",
       "<table border=\"1\" class=\"dataframe\">\n",
       "  <thead>\n",
       "    <tr style=\"text-align: right;\">\n",
       "      <th></th>\n",
       "      <th>category_name</th>\n",
       "      <th>name</th>\n",
       "      <th>merchant</th>\n",
       "      <th>is_sale</th>\n",
       "      <th>brand</th>\n",
       "      <th>p_description</th>\n",
       "      <th>currency</th>\n",
       "      <th>date_added</th>\n",
       "      <th>date_seen</th>\n",
       "      <th>date_updated</th>\n",
       "      <th>weight</th>\n",
       "      <th>date_imp_d.1</th>\n",
       "      <th>day_n</th>\n",
       "      <th>month_n</th>\n",
       "      <th>Hours</th>\n",
       "    </tr>\n",
       "  </thead>\n",
       "  <tbody>\n",
       "    <tr>\n",
       "      <th>0</th>\n",
       "      <td>speaker, portable, bluetooth</td>\n",
       "      <td>Boytone - 2500W 2.1-Ch. Home Theater System - ...</td>\n",
       "      <td>Walmart.com</td>\n",
       "      <td>Yes</td>\n",
       "      <td>Boytone</td>\n",
       "      <td>Stereos,Portable Bluetooth Speakers,TV, Video ...</td>\n",
       "      <td>USD</td>\n",
       "      <td>2015-05-18T14:14:56Z</td>\n",
       "      <td>2017-12-14T06:00:00Z</td>\n",
       "      <td>2018-06-13T19:39:02Z</td>\n",
       "      <td>14 pounds</td>\n",
       "      <td>2017/12/14</td>\n",
       "      <td>Thursday</td>\n",
       "      <td>December</td>\n",
       "      <td>06:00:00</td>\n",
       "    </tr>\n",
       "    <tr>\n",
       "      <th>1</th>\n",
       "      <td>speaker, portable, bluetooth</td>\n",
       "      <td>Boytone - 2500W 2.1-Ch. Home Theater System - ...</td>\n",
       "      <td>Walmart.com</td>\n",
       "      <td>No</td>\n",
       "      <td>Boytone</td>\n",
       "      <td>Stereos,Portable Bluetooth Speakers,TV, Video ...</td>\n",
       "      <td>USD</td>\n",
       "      <td>2015-05-18T14:14:56Z</td>\n",
       "      <td>2017-09-08T05:00:00Z</td>\n",
       "      <td>2018-06-13T19:39:02Z</td>\n",
       "      <td>14 pounds</td>\n",
       "      <td>2017/09/08</td>\n",
       "      <td>Friday</td>\n",
       "      <td>September</td>\n",
       "      <td>05:00:00</td>\n",
       "    </tr>\n",
       "    <tr>\n",
       "      <th>2</th>\n",
       "      <td>speaker, portable, bluetooth</td>\n",
       "      <td>Boytone - 2500W 2.1-Ch. Home Theater System - ...</td>\n",
       "      <td>Walmart.com</td>\n",
       "      <td>No</td>\n",
       "      <td>Boytone</td>\n",
       "      <td>Stereos,Portable Bluetooth Speakers,TV, Video ...</td>\n",
       "      <td>USD</td>\n",
       "      <td>2015-05-18T14:14:56Z</td>\n",
       "      <td>2017-10-24T04:00:00Z</td>\n",
       "      <td>2018-06-13T19:39:02Z</td>\n",
       "      <td>14 pounds</td>\n",
       "      <td>2017/10/24</td>\n",
       "      <td>Tuesday</td>\n",
       "      <td>October</td>\n",
       "      <td>04:00:00</td>\n",
       "    </tr>\n",
       "    <tr>\n",
       "      <th>3</th>\n",
       "      <td>speaker, portable, bluetooth</td>\n",
       "      <td>Boytone - 2500W 2.1-Ch. Home Theater System - ...</td>\n",
       "      <td>Walmart.com</td>\n",
       "      <td>No</td>\n",
       "      <td>Boytone</td>\n",
       "      <td>Stereos,Portable Bluetooth Speakers,TV, Video ...</td>\n",
       "      <td>USD</td>\n",
       "      <td>2015-05-18T14:14:56Z</td>\n",
       "      <td>2017-08-15T15:00:00Z</td>\n",
       "      <td>2018-06-13T19:39:02Z</td>\n",
       "      <td>14 pounds</td>\n",
       "      <td>2017/08/15</td>\n",
       "      <td>Tuesday</td>\n",
       "      <td>August</td>\n",
       "      <td>15:00:00</td>\n",
       "    </tr>\n",
       "    <tr>\n",
       "      <th>4</th>\n",
       "      <td>speaker, portable, bluetooth</td>\n",
       "      <td>Boytone - 2500W 2.1-Ch. Home Theater System - ...</td>\n",
       "      <td>Walmart.com</td>\n",
       "      <td>No</td>\n",
       "      <td>Boytone</td>\n",
       "      <td>Stereos,Portable Bluetooth Speakers,TV, Video ...</td>\n",
       "      <td>USD</td>\n",
       "      <td>2015-05-18T14:14:56Z</td>\n",
       "      <td>2017-09-14T21:00:00Z</td>\n",
       "      <td>2018-06-13T19:39:02Z</td>\n",
       "      <td>14 pounds</td>\n",
       "      <td>2017/09/14</td>\n",
       "      <td>Thursday</td>\n",
       "      <td>September</td>\n",
       "      <td>21:00:00</td>\n",
       "    </tr>\n",
       "  </tbody>\n",
       "</table>\n",
       "</div>"
      ],
      "text/plain": [
       "                  category_name  \\\n",
       "0  speaker, portable, bluetooth   \n",
       "1  speaker, portable, bluetooth   \n",
       "2  speaker, portable, bluetooth   \n",
       "3  speaker, portable, bluetooth   \n",
       "4  speaker, portable, bluetooth   \n",
       "\n",
       "                                                name     merchant is_sale  \\\n",
       "0  Boytone - 2500W 2.1-Ch. Home Theater System - ...  Walmart.com     Yes   \n",
       "1  Boytone - 2500W 2.1-Ch. Home Theater System - ...  Walmart.com      No   \n",
       "2  Boytone - 2500W 2.1-Ch. Home Theater System - ...  Walmart.com      No   \n",
       "3  Boytone - 2500W 2.1-Ch. Home Theater System - ...  Walmart.com      No   \n",
       "4  Boytone - 2500W 2.1-Ch. Home Theater System - ...  Walmart.com      No   \n",
       "\n",
       "     brand                                      p_description currency  \\\n",
       "0  Boytone  Stereos,Portable Bluetooth Speakers,TV, Video ...      USD   \n",
       "1  Boytone  Stereos,Portable Bluetooth Speakers,TV, Video ...      USD   \n",
       "2  Boytone  Stereos,Portable Bluetooth Speakers,TV, Video ...      USD   \n",
       "3  Boytone  Stereos,Portable Bluetooth Speakers,TV, Video ...      USD   \n",
       "4  Boytone  Stereos,Portable Bluetooth Speakers,TV, Video ...      USD   \n",
       "\n",
       "             date_added             date_seen          date_updated  \\\n",
       "0  2015-05-18T14:14:56Z  2017-12-14T06:00:00Z  2018-06-13T19:39:02Z   \n",
       "1  2015-05-18T14:14:56Z  2017-09-08T05:00:00Z  2018-06-13T19:39:02Z   \n",
       "2  2015-05-18T14:14:56Z  2017-10-24T04:00:00Z  2018-06-13T19:39:02Z   \n",
       "3  2015-05-18T14:14:56Z  2017-08-15T15:00:00Z  2018-06-13T19:39:02Z   \n",
       "4  2015-05-18T14:14:56Z  2017-09-14T21:00:00Z  2018-06-13T19:39:02Z   \n",
       "\n",
       "      weight date_imp_d.1     day_n    month_n     Hours  \n",
       "0  14 pounds   2017/12/14  Thursday   December  06:00:00  \n",
       "1  14 pounds   2017/09/08    Friday  September  05:00:00  \n",
       "2  14 pounds   2017/10/24   Tuesday    October  04:00:00  \n",
       "3  14 pounds   2017/08/15   Tuesday     August  15:00:00  \n",
       "4  14 pounds   2017/09/14  Thursday  September  21:00:00  "
      ]
     },
     "execution_count": 117,
     "metadata": {},
     "output_type": "execute_result"
    }
   ],
   "source": [
    "cat_attributes.head()"
   ]
  },
  {
   "cell_type": "markdown",
   "id": "291333bb-118f-46b3-8ce4-144f5bb13092",
   "metadata": {},
   "source": [
    "## 2.0 Filter Variables"
   ]
  },
  {
   "cell_type": "code",
   "execution_count": 118,
   "id": "29a2a7a5-6666-4d05-ac3e-b6ef05a0fca8",
   "metadata": {},
   "outputs": [],
   "source": [
    "df2 = df1"
   ]
  },
  {
   "cell_type": "code",
   "execution_count": 119,
   "id": "e103b011-3014-4668-85ee-bc3be13a799e",
   "metadata": {},
   "outputs": [
    {
     "data": {
      "text/html": [
       "<div>\n",
       "<style scoped>\n",
       "    .dataframe tbody tr th:only-of-type {\n",
       "        vertical-align: middle;\n",
       "    }\n",
       "\n",
       "    .dataframe tbody tr th {\n",
       "        vertical-align: top;\n",
       "    }\n",
       "\n",
       "    .dataframe thead th {\n",
       "        text-align: right;\n",
       "    }\n",
       "</style>\n",
       "<table border=\"1\" class=\"dataframe\">\n",
       "  <thead>\n",
       "    <tr style=\"text-align: right;\">\n",
       "      <th></th>\n",
       "      <th>date_imp</th>\n",
       "      <th>date_imp_d</th>\n",
       "      <th>cluster</th>\n",
       "      <th>price</th>\n",
       "      <th>disc_price</th>\n",
       "      <th>disc_percentage</th>\n",
       "      <th>imp_count</th>\n",
       "      <th>month</th>\n",
       "      <th>day</th>\n",
       "      <th>week_number</th>\n",
       "      <th>price_std</th>\n",
       "    </tr>\n",
       "  </thead>\n",
       "  <tbody>\n",
       "    <tr>\n",
       "      <th>count</th>\n",
       "      <td>23151</td>\n",
       "      <td>23151</td>\n",
       "      <td>23151.000000</td>\n",
       "      <td>23151.000000</td>\n",
       "      <td>23151.000000</td>\n",
       "      <td>23151.000000</td>\n",
       "      <td>23151.000000</td>\n",
       "      <td>23151.000000</td>\n",
       "      <td>23151.000000</td>\n",
       "      <td>23151.000000</td>\n",
       "      <td>23151.000000</td>\n",
       "    </tr>\n",
       "    <tr>\n",
       "      <th>mean</th>\n",
       "      <td>2017-08-05 09:49:29.444084224</td>\n",
       "      <td>2017-08-04 22:21:32.211999488</td>\n",
       "      <td>22.682735</td>\n",
       "      <td>513.037803</td>\n",
       "      <td>494.104295</td>\n",
       "      <td>0.016933</td>\n",
       "      <td>6.560926</td>\n",
       "      <td>7.651030</td>\n",
       "      <td>15.693879</td>\n",
       "      <td>31.342750</td>\n",
       "      <td>61.992819</td>\n",
       "    </tr>\n",
       "    <tr>\n",
       "      <th>min</th>\n",
       "      <td>2017-01-05 00:00:00</td>\n",
       "      <td>2017-01-05 00:00:00</td>\n",
       "      <td>0.000000</td>\n",
       "      <td>1.000000</td>\n",
       "      <td>1.000000</td>\n",
       "      <td>0.000000</td>\n",
       "      <td>1.000000</td>\n",
       "      <td>1.000000</td>\n",
       "      <td>1.000000</td>\n",
       "      <td>1.000000</td>\n",
       "      <td>0.004472</td>\n",
       "    </tr>\n",
       "    <tr>\n",
       "      <th>25%</th>\n",
       "      <td>2017-06-09 15:00:00</td>\n",
       "      <td>2017-06-09 00:00:00</td>\n",
       "      <td>8.000000</td>\n",
       "      <td>82.990000</td>\n",
       "      <td>79.990000</td>\n",
       "      <td>0.000000</td>\n",
       "      <td>2.000000</td>\n",
       "      <td>6.000000</td>\n",
       "      <td>7.000000</td>\n",
       "      <td>23.000000</td>\n",
       "      <td>7.771104</td>\n",
       "    </tr>\n",
       "    <tr>\n",
       "      <th>50%</th>\n",
       "      <td>2017-08-10 00:00:00</td>\n",
       "      <td>2017-08-10 00:00:00</td>\n",
       "      <td>20.000000</td>\n",
       "      <td>199.990000</td>\n",
       "      <td>199.000000</td>\n",
       "      <td>0.000000</td>\n",
       "      <td>5.000000</td>\n",
       "      <td>8.000000</td>\n",
       "      <td>16.000000</td>\n",
       "      <td>32.000000</td>\n",
       "      <td>18.764962</td>\n",
       "    </tr>\n",
       "    <tr>\n",
       "      <th>75%</th>\n",
       "      <td>2017-09-24 07:00:00</td>\n",
       "      <td>2017-09-24 00:00:00</td>\n",
       "      <td>35.000000</td>\n",
       "      <td>540.000000</td>\n",
       "      <td>516.490000</td>\n",
       "      <td>0.000000</td>\n",
       "      <td>10.000000</td>\n",
       "      <td>9.000000</td>\n",
       "      <td>24.000000</td>\n",
       "      <td>38.000000</td>\n",
       "      <td>59.176162</td>\n",
       "    </tr>\n",
       "    <tr>\n",
       "      <th>max</th>\n",
       "      <td>2017-12-22 06:00:00</td>\n",
       "      <td>2017-12-22 00:00:00</td>\n",
       "      <td>57.000000</td>\n",
       "      <td>10879.950000</td>\n",
       "      <td>10879.950000</td>\n",
       "      <td>0.800000</td>\n",
       "      <td>31.000000</td>\n",
       "      <td>12.000000</td>\n",
       "      <td>31.000000</td>\n",
       "      <td>51.000000</td>\n",
       "      <td>1423.902118</td>\n",
       "    </tr>\n",
       "    <tr>\n",
       "      <th>std</th>\n",
       "      <td>NaN</td>\n",
       "      <td>NaN</td>\n",
       "      <td>15.576818</td>\n",
       "      <td>859.110002</td>\n",
       "      <td>808.588973</td>\n",
       "      <td>0.077849</td>\n",
       "      <td>5.403166</td>\n",
       "      <td>2.592843</td>\n",
       "      <td>9.681622</td>\n",
       "      <td>11.316498</td>\n",
       "      <td>125.495128</td>\n",
       "    </tr>\n",
       "  </tbody>\n",
       "</table>\n",
       "</div>"
      ],
      "text/plain": [
       "                            date_imp                     date_imp_d  \\\n",
       "count                          23151                          23151   \n",
       "mean   2017-08-05 09:49:29.444084224  2017-08-04 22:21:32.211999488   \n",
       "min              2017-01-05 00:00:00            2017-01-05 00:00:00   \n",
       "25%              2017-06-09 15:00:00            2017-06-09 00:00:00   \n",
       "50%              2017-08-10 00:00:00            2017-08-10 00:00:00   \n",
       "75%              2017-09-24 07:00:00            2017-09-24 00:00:00   \n",
       "max              2017-12-22 06:00:00            2017-12-22 00:00:00   \n",
       "std                              NaN                            NaN   \n",
       "\n",
       "            cluster         price    disc_price  disc_percentage  \\\n",
       "count  23151.000000  23151.000000  23151.000000     23151.000000   \n",
       "mean      22.682735    513.037803    494.104295         0.016933   \n",
       "min        0.000000      1.000000      1.000000         0.000000   \n",
       "25%        8.000000     82.990000     79.990000         0.000000   \n",
       "50%       20.000000    199.990000    199.000000         0.000000   \n",
       "75%       35.000000    540.000000    516.490000         0.000000   \n",
       "max       57.000000  10879.950000  10879.950000         0.800000   \n",
       "std       15.576818    859.110002    808.588973         0.077849   \n",
       "\n",
       "          imp_count         month           day   week_number     price_std  \n",
       "count  23151.000000  23151.000000  23151.000000  23151.000000  23151.000000  \n",
       "mean       6.560926      7.651030     15.693879     31.342750     61.992819  \n",
       "min        1.000000      1.000000      1.000000      1.000000      0.004472  \n",
       "25%        2.000000      6.000000      7.000000     23.000000      7.771104  \n",
       "50%        5.000000      8.000000     16.000000     32.000000     18.764962  \n",
       "75%       10.000000      9.000000     24.000000     38.000000     59.176162  \n",
       "max       31.000000     12.000000     31.000000     51.000000   1423.902118  \n",
       "std        5.403166      2.592843      9.681622     11.316498    125.495128  "
      ]
     },
     "execution_count": 119,
     "metadata": {},
     "output_type": "execute_result"
    }
   ],
   "source": [
    "df2.describe()"
   ]
  },
  {
   "cell_type": "markdown",
   "id": "2a645ccd-5998-47e1-a6b0-451259067eb6",
   "metadata": {},
   "source": [
    "# 3.0 Exploratory Data Analysis  "
   ]
  },
  {
   "cell_type": "code",
   "execution_count": 120,
   "id": "16c271f3-3539-4f66-99f6-ecbe4cb51512",
   "metadata": {},
   "outputs": [],
   "source": [
    "df3 = df2"
   ]
  },
  {
   "cell_type": "markdown",
   "id": "e6893032-2d2e-40e7-96db-11a005310bcf",
   "metadata": {},
   "source": [
    "## 3.1 Qual o merchant que mais vendeu "
   ]
  },
  {
   "cell_type": "code",
   "execution_count": 121,
   "id": "ee072818-82b2-46bd-8aed-c58445b9073a",
   "metadata": {},
   "outputs": [
    {
     "data": {
      "text/html": [
       "<div>\n",
       "<style scoped>\n",
       "    .dataframe tbody tr th:only-of-type {\n",
       "        vertical-align: middle;\n",
       "    }\n",
       "\n",
       "    .dataframe tbody tr th {\n",
       "        vertical-align: top;\n",
       "    }\n",
       "\n",
       "    .dataframe thead th {\n",
       "        text-align: right;\n",
       "    }\n",
       "</style>\n",
       "<table border=\"1\" class=\"dataframe\">\n",
       "  <thead>\n",
       "    <tr style=\"text-align: right;\">\n",
       "      <th></th>\n",
       "      <th>date_imp</th>\n",
       "    </tr>\n",
       "    <tr>\n",
       "      <th>merchant</th>\n",
       "      <th></th>\n",
       "    </tr>\n",
       "  </thead>\n",
       "  <tbody>\n",
       "    <tr>\n",
       "      <th>Bestbuy.com</th>\n",
       "      <td>11287</td>\n",
       "    </tr>\n",
       "    <tr>\n",
       "      <th>bhphotovideo.com</th>\n",
       "      <td>5064</td>\n",
       "    </tr>\n",
       "    <tr>\n",
       "      <th>Walmart.com</th>\n",
       "      <td>3947</td>\n",
       "    </tr>\n",
       "    <tr>\n",
       "      <th>ebay.com</th>\n",
       "      <td>2809</td>\n",
       "    </tr>\n",
       "    <tr>\n",
       "      <th>Amazon.com</th>\n",
       "      <td>25</td>\n",
       "    </tr>\n",
       "    <tr>\n",
       "      <th>kmart.com</th>\n",
       "      <td>17</td>\n",
       "    </tr>\n",
       "    <tr>\n",
       "      <th>barcodable.com</th>\n",
       "      <td>2</td>\n",
       "    </tr>\n",
       "  </tbody>\n",
       "</table>\n",
       "</div>"
      ],
      "text/plain": [
       "                  date_imp\n",
       "merchant                  \n",
       "Bestbuy.com          11287\n",
       "bhphotovideo.com      5064\n",
       "Walmart.com           3947\n",
       "ebay.com              2809\n",
       "Amazon.com              25\n",
       "kmart.com               17\n",
       "barcodable.com           2"
      ]
     },
     "execution_count": 121,
     "metadata": {},
     "output_type": "execute_result"
    }
   ],
   "source": [
    "aux1 = df3.loc[:,['date_imp', 'merchant']].groupby('merchant').count().sort_values('date_imp', ascending = False )\n",
    "aux1"
   ]
  },
  {
   "cell_type": "code",
   "execution_count": 122,
   "id": "ff28315c-ad90-4491-a18c-cf71b5149f00",
   "metadata": {},
   "outputs": [
    {
     "data": {
      "text/plain": [
       "<Axes: xlabel='merchant', ylabel='date_imp'>"
      ]
     },
     "execution_count": 122,
     "metadata": {},
     "output_type": "execute_result"
    },
    {
     "data": {
      "image/png": "[encoded data removed]",
      "text/plain": [
       "<Figure size 640x480 with 1 Axes>"
      ]
     },
     "metadata": {},
     "output_type": "display_data"
    }
   ],
   "source": [
    "plt.xticks(rotation = 45)\n",
    "sns.barplot( x = 'merchant', y = 'date_imp', data = aux1)"
   ]
  },
  {
   "cell_type": "code",
   "execution_count": 123,
   "id": "57076ad7-1810-4ca2-adee-55a4a1eb509f",
   "metadata": {},
   "outputs": [],
   "source": [
    "# Filtro de lojas\n",
    "# seleção de lojas\n",
    "df_best = df2[df2['merchant'] == 'Bestbuy.com']\n",
    "df_bhp = df2[df2['merchant'] == 'bhphotovideo.com']\n",
    "df_walmart = df2[df2['merchant'] == 'Walmart.com']\n",
    "df_ebay = df2[df2['merchant'] == 'ebay.com']"
   ]
  },
  {
   "cell_type": "markdown",
   "id": "5d4e381f-1d2a-48c5-87ca-7239434d1f8f",
   "metadata": {},
   "source": [
    "### 3.1.1 Qual a categoria de produto mais vendida ?"
   ]
  },
  {
   "cell_type": "code",
   "execution_count": 124,
   "id": "50595701-65c8-49d7-b1bb-1123599793e3",
   "metadata": {},
   "outputs": [
    {
     "data": {
      "text/html": [
       "<div>\n",
       "<style scoped>\n",
       "    .dataframe tbody tr th:only-of-type {\n",
       "        vertical-align: middle;\n",
       "    }\n",
       "\n",
       "    .dataframe tbody tr th {\n",
       "        vertical-align: top;\n",
       "    }\n",
       "\n",
       "    .dataframe thead th {\n",
       "        text-align: right;\n",
       "    }\n",
       "</style>\n",
       "<table border=\"1\" class=\"dataframe\">\n",
       "  <thead>\n",
       "    <tr style=\"text-align: right;\">\n",
       "      <th></th>\n",
       "      <th>date_imp_d</th>\n",
       "    </tr>\n",
       "    <tr>\n",
       "      <th>category_name</th>\n",
       "      <th></th>\n",
       "    </tr>\n",
       "  </thead>\n",
       "  <tbody>\n",
       "    <tr>\n",
       "      <th>tv, television, video</th>\n",
       "      <td>2130</td>\n",
       "    </tr>\n",
       "    <tr>\n",
       "      <th>laptop, computer</th>\n",
       "      <td>1715</td>\n",
       "    </tr>\n",
       "    <tr>\n",
       "      <th>speaker, portable, bluetooth</th>\n",
       "      <td>1104</td>\n",
       "    </tr>\n",
       "    <tr>\n",
       "      <th>camera, mirrorless, photo</th>\n",
       "      <td>1072</td>\n",
       "    </tr>\n",
       "    <tr>\n",
       "      <th>car, speaker, subwoofer</th>\n",
       "      <td>865</td>\n",
       "    </tr>\n",
       "  </tbody>\n",
       "</table>\n",
       "</div>"
      ],
      "text/plain": [
       "                              date_imp_d\n",
       "category_name                           \n",
       "tv, television, video               2130\n",
       "laptop, computer                    1715\n",
       "speaker, portable, bluetooth        1104\n",
       "camera, mirrorless, photo           1072\n",
       "car, speaker, subwoofer              865"
      ]
     },
     "execution_count": 124,
     "metadata": {},
     "output_type": "execute_result"
    }
   ],
   "source": [
    "aux = (df3.loc[:, ['date_imp_d', 'category_name']].groupby(['category_name']).count().\n",
    "      sort_values('date_imp_d', ascending =  False))\n",
    "aux.head()"
   ]
  },
  {
   "cell_type": "code",
   "execution_count": 125,
   "id": "1153e0dc-66f1-4429-9216-0be52053509d",
   "metadata": {},
   "outputs": [
    {
     "data": {
      "text/plain": [
       "<Axes: xlabel='category_name', ylabel='date_imp_d'>"
      ]
     },
     "execution_count": 125,
     "metadata": {},
     "output_type": "execute_result"
    },
    {
     "data": {
      "image/png": "[encoded data removed]",
      "text/plain": [
       "<Figure size 640x480 with 1 Axes>"
      ]
     },
     "metadata": {},
     "output_type": "display_data"
    }
   ],
   "source": [
    "aux.reset_index(drop = True)\n",
    "plt.xticks(rotation = 90)\n",
    "sns.barplot(x = 'category_name', y = 'date_imp_d', data= aux.head())"
   ]
  },
  {
   "cell_type": "markdown",
   "id": "fd23ac82-07d6-47c8-b046-f8828ca266c7",
   "metadata": {},
   "source": [
    "### 3.1.2 As categorias mais vendidas por loja\n",
    "\n"
   ]
  },
  {
   "cell_type": "code",
   "execution_count": 201,
   "id": "b0c6e33d-9b96-4807-8588-92c081512c97",
   "metadata": {},
   "outputs": [
    {
     "data": {
      "text/html": [
       "<div>\n",
       "<style scoped>\n",
       "    .dataframe tbody tr th:only-of-type {\n",
       "        vertical-align: middle;\n",
       "    }\n",
       "\n",
       "    .dataframe tbody tr th {\n",
       "        vertical-align: top;\n",
       "    }\n",
       "\n",
       "    .dataframe thead th {\n",
       "        text-align: right;\n",
       "    }\n",
       "</style>\n",
       "<table border=\"1\" class=\"dataframe\">\n",
       "  <thead>\n",
       "    <tr style=\"text-align: right;\">\n",
       "      <th></th>\n",
       "      <th></th>\n",
       "      <th>date_imp_d</th>\n",
       "    </tr>\n",
       "    <tr>\n",
       "      <th>category_name</th>\n",
       "      <th>merchant</th>\n",
       "      <th></th>\n",
       "    </tr>\n",
       "  </thead>\n",
       "  <tbody>\n",
       "    <tr>\n",
       "      <th>laptop, computer</th>\n",
       "      <th>Bestbuy.com</th>\n",
       "      <td>1071</td>\n",
       "    </tr>\n",
       "    <tr>\n",
       "      <th>tv, television, video</th>\n",
       "      <th>ebay.com</th>\n",
       "      <td>820</td>\n",
       "    </tr>\n",
       "    <tr>\n",
       "      <th>speaker, portable, bluetooth</th>\n",
       "      <th>Bestbuy.com</th>\n",
       "      <td>758</td>\n",
       "    </tr>\n",
       "    <tr>\n",
       "      <th>camera, mirrorless, photo</th>\n",
       "      <th>bhphotovideo.com</th>\n",
       "      <td>556</td>\n",
       "    </tr>\n",
       "    <tr>\n",
       "      <th>car, speaker, subwoofer</th>\n",
       "      <th>Bestbuy.com</th>\n",
       "      <td>553</td>\n",
       "    </tr>\n",
       "  </tbody>\n",
       "</table>\n",
       "</div>"
      ],
      "text/plain": [
       "                                               date_imp_d\n",
       "category_name                merchant                    \n",
       "laptop, computer             Bestbuy.com             1071\n",
       "tv, television, video        ebay.com                 820\n",
       "speaker, portable, bluetooth Bestbuy.com              758\n",
       "camera, mirrorless, photo    bhphotovideo.com         556\n",
       "car, speaker, subwoofer      Bestbuy.com              553"
      ]
     },
     "execution_count": 201,
     "metadata": {},
     "output_type": "execute_result"
    }
   ],
   "source": [
    "aux = df3.loc[:,['date_imp_d', 'category_name', 'merchant']].groupby(['category_name', 'merchant']).count().sort_values('date_imp_d', ascending = False )\n",
    "aux.head()"
   ]
  },
  {
   "cell_type": "code",
   "execution_count": 127,
   "id": "f1c4649c-e879-4f79-a47a-3aa3c90f90f7",
   "metadata": {},
   "outputs": [
    {
     "data": {
      "image/png": "[encoded data removed]",
      "text/plain": [
       "<Figure size 2000x1000 with 4 Axes>"
      ]
     },
     "metadata": {},
     "output_type": "display_data"
    }
   ],
   "source": [
    "plt.figure(figsize=(20,10))\n",
    "\n",
    "plt.subplot(2,2,1)\n",
    "aux3 = (\n",
    "    df_best[[\"date_imp\", \"category_name\"]]\n",
    "    .groupby(\"category_name\")\n",
    "    .count()\n",
    "    .reset_index()\n",
    "    .sort_values(by=\"date_imp\", ascending=False)\n",
    "\n",
    ")\n",
    "plt.xticks(rotation=90)\n",
    "plt.title('Bestbuy.com')\n",
    "sns.barplot(x='category_name', y='date_imp', data=aux3.head())\n",
    "\n",
    "\n",
    "plt.subplot(2,2,2)\n",
    "aux4 = (\n",
    "    df_bhp[[\"date_imp\", \"category_name\"]]\n",
    "    .groupby(\"category_name\")\n",
    "    .count()\n",
    "    .reset_index()\n",
    "    .sort_values(by=\"date_imp\", ascending=False)\n",
    "\n",
    ")\n",
    "plt.xticks(rotation=90)\n",
    "plt.title('bhphotovideo.com')\n",
    "sns.barplot(x='category_name', y='date_imp', data=aux4.head())\n",
    "\n",
    "\n",
    "plt.subplot(2,2,3)\n",
    "aux5 = (\n",
    "    df_ebay[[\"date_imp\", \"category_name\"]]\n",
    "    .groupby(\"category_name\")\n",
    "    .count()\n",
    "    .reset_index()\n",
    "    .sort_values(by=\"date_imp\", ascending=False)\n",
    "\n",
    ")\n",
    "plt.xticks(rotation=90)\n",
    "plt.title('ebay.com')\n",
    "sns.barplot(x='category_name', y='date_imp', data=aux5.head())\n",
    "\n",
    "plt.subplot(2,2,4)\n",
    "aux6 = (\n",
    "    df_walmart[[\"date_imp\", \"category_name\"]]\n",
    "    .groupby(\"category_name\")\n",
    "    .count()\n",
    "    .reset_index()\n",
    "    .sort_values(by=\"date_imp\", ascending=False)\n",
    "\n",
    ")\n",
    "plt.xticks(rotation=90)\n",
    "plt.title('walmart.com')\n",
    "sns.barplot(x='category_name', y='date_imp', data=aux6.head())\n",
    "\n",
    "plt.tight_layout()\n"
   ]
  },
  {
   "cell_type": "markdown",
   "id": "e30dc7ac-9a1e-48c2-a517-12248bcbd855",
   "metadata": {},
   "source": [
    "## 3.2 Qual a marca mais vendida ?\n",
    "\n"
   ]
  },
  {
   "cell_type": "markdown",
   "id": "2bd8db9a-7bf5-4b11-9fe9-c7bc42d84ec0",
   "metadata": {},
   "source": [
    "### 3.2.1 No Geral ?"
   ]
  },
  {
   "cell_type": "code",
   "execution_count": 133,
   "id": "acf97e0a-f518-4435-8eaa-16da1b21efcd",
   "metadata": {},
   "outputs": [
    {
     "data": {
      "text/html": [
       "<div>\n",
       "<style scoped>\n",
       "    .dataframe tbody tr th:only-of-type {\n",
       "        vertical-align: middle;\n",
       "    }\n",
       "\n",
       "    .dataframe tbody tr th {\n",
       "        vertical-align: top;\n",
       "    }\n",
       "\n",
       "    .dataframe thead th {\n",
       "        text-align: right;\n",
       "    }\n",
       "</style>\n",
       "<table border=\"1\" class=\"dataframe\">\n",
       "  <thead>\n",
       "    <tr style=\"text-align: right;\">\n",
       "      <th></th>\n",
       "      <th>date_imp_d</th>\n",
       "    </tr>\n",
       "    <tr>\n",
       "      <th>brand</th>\n",
       "      <th></th>\n",
       "    </tr>\n",
       "  </thead>\n",
       "  <tbody>\n",
       "    <tr>\n",
       "      <th>Sony</th>\n",
       "      <td>3205</td>\n",
       "    </tr>\n",
       "    <tr>\n",
       "      <th>Samsung</th>\n",
       "      <td>1924</td>\n",
       "    </tr>\n",
       "    <tr>\n",
       "      <th>Apple</th>\n",
       "      <td>1771</td>\n",
       "    </tr>\n",
       "    <tr>\n",
       "      <th>Yamaha</th>\n",
       "      <td>721</td>\n",
       "    </tr>\n",
       "    <tr>\n",
       "      <th>Pioneer</th>\n",
       "      <td>559</td>\n",
       "    </tr>\n",
       "  </tbody>\n",
       "</table>\n",
       "</div>"
      ],
      "text/plain": [
       "         date_imp_d\n",
       "brand              \n",
       "Sony           3205\n",
       "Samsung        1924\n",
       "Apple          1771\n",
       "Yamaha          721\n",
       "Pioneer         559"
      ]
     },
     "execution_count": 133,
     "metadata": {},
     "output_type": "execute_result"
    }
   ],
   "source": [
    "aux = df3.loc[:,['date_imp_d', 'brand']].groupby('brand').count().sort_values(by = 'date_imp_d', ascending = False )\n",
    "aux.head()"
   ]
  },
  {
   "cell_type": "code",
   "execution_count": 140,
   "id": "8c051e7f-547e-46b9-a314-9e9ec67980b3",
   "metadata": {},
   "outputs": [
    {
     "data": {
      "image/png": "[encoded data removed]",
      "text/plain": [
       "<Figure size 640x480 with 1 Axes>"
      ]
     },
     "metadata": {},
     "output_type": "display_data"
    }
   ],
   "source": [
    "ax = sns.barplot( x = 'brand', y = 'date_imp_d', hue='date_imp_d' , data = aux.head())\n",
    "\n",
    "# Adicionando valores em cima das barras\n",
    "for p in ax.patches:\n",
    "    ax.annotate(f'{p.get_height()}', \n",
    "                (p.get_x() + p.get_width() / 2., p.get_height()), \n",
    "                ha='center', va='bottom')\n",
    "\n",
    "# Exibir o gráfico\n",
    "plt.show()"
   ]
  },
  {
   "cell_type": "markdown",
   "id": "c6be4c6d-de41-407a-a321-867346b7aed1",
   "metadata": {},
   "source": [
    "### 3.2.2 Por loja?"
   ]
  },
  {
   "cell_type": "code",
   "execution_count": 154,
   "id": "242e5cd9-d329-414d-9f12-28c12ebf0687",
   "metadata": {},
   "outputs": [
    {
     "data": {
      "image/png": "[encoded data removed]",
      "text/plain": [
       "<Figure size 2000x1000 with 4 Axes>"
      ]
     },
     "metadata": {},
     "output_type": "display_data"
    }
   ],
   "source": [
    "plt.figure(figsize=(20,10))\n",
    "\n",
    "plt.subplot(2,2,1)\n",
    "aux3 = (\n",
    "    df_best[[\"date_imp\", \"brand\"]]\n",
    "    .groupby(\"brand\")\n",
    "    .count()\n",
    "    .reset_index()\n",
    "    .sort_values(by=\"date_imp\", ascending=False)\n",
    "\n",
    ")\n",
    "plt.xticks(rotation=90)\n",
    "plt.title('Bestbuy.com')\n",
    "sns.barplot(x='brand', y='date_imp', data=aux3.head())\n",
    "\n",
    "\n",
    "plt.subplot(2,2,2)\n",
    "aux4 = (\n",
    "    df_bhp[[\"date_imp\", \"brand\"]]\n",
    "    .groupby(\"brand\")\n",
    "    .count()\n",
    "    .reset_index()\n",
    "    .sort_values(by=\"date_imp\", ascending=False)\n",
    "\n",
    ")\n",
    "plt.xticks(rotation=90)\n",
    "plt.title('bhphotovideo.com')\n",
    "sns.barplot(x='brand', y='date_imp', data=aux4.head())\n",
    "\n",
    "\n",
    "plt.subplot(2,2,3)\n",
    "aux5 = (\n",
    "    df_ebay[[\"date_imp\", \"brand\"]]\n",
    "    .groupby(\"brand\")\n",
    "    .count()\n",
    "    .reset_index()\n",
    "    .sort_values(by=\"date_imp\", ascending=False)\n",
    "\n",
    ")\n",
    "plt.xticks(rotation=90)\n",
    "plt.title('ebay.com')\n",
    "sns.barplot(x='brand', y='date_imp', data=aux5.head())\n",
    "\n",
    "plt.subplot(2,2,4)\n",
    "aux6 = (\n",
    "    df_walmart[[\"date_imp\", \"brand\"]]\n",
    "    .groupby(\"brand\")\n",
    "    .count()\n",
    "    .reset_index()\n",
    "    .sort_values(by=\"date_imp\", ascending=False)\n",
    "\n",
    ")\n",
    "plt.xticks(rotation=90)\n",
    "plt.title('walmart.com')\n",
    "sns.barplot(x='brand', y='date_imp', data=aux6.head())\n",
    "\n",
    "plt.tight_layout()"
   ]
  },
  {
   "cell_type": "markdown",
   "id": "3bb8cc33-7101-49c8-ad1b-b036c4cb318c",
   "metadata": {},
   "source": [
    "## 3.3 Quais dias da semana que mais vende por lojas"
   ]
  },
  {
   "cell_type": "code",
   "execution_count": 158,
   "id": "6b0af07e-7eca-4fd1-97cc-23b9bea3c007",
   "metadata": {},
   "outputs": [
    {
     "data": {
      "image/png": "[encoded data removed]",
      "text/plain": [
       "<Figure size 2000x1000 with 4 Axes>"
      ]
     },
     "metadata": {},
     "output_type": "display_data"
    }
   ],
   "source": [
    "plt.figure(figsize=(20,10))\n",
    "\n",
    "plt.subplot(2,2,1)\n",
    "aux3 = (\n",
    "    df_best[[\"date_imp\", \"day_n\"]]\n",
    "    .groupby(\"day_n\")\n",
    "    .count()\n",
    "    .reset_index()\n",
    "    .sort_values(by=\"date_imp\", ascending=False)\n",
    "\n",
    ")\n",
    "plt.xticks(rotation=90)\n",
    "plt.title('Bestbuy.com')\n",
    "ax = sns.barplot(x='day_n', y='date_imp',hue = 'day_n', data=aux3.head())\n",
    "\n",
    "#--------------\n",
    "\n",
    "#_----------------------------\n",
    "plt.subplot(2,2,2)\n",
    "aux4 = (\n",
    "    df_bhp[[\"date_imp\", \"day_n\"]]\n",
    "    .groupby(\"day_n\")\n",
    "    .count()\n",
    "    .reset_index()\n",
    "    .sort_values(by=\"day_n\", ascending=False)\n",
    "\n",
    ")\n",
    "plt.xticks(rotation=90)\n",
    "plt.title('bhphotovideo.com')\n",
    "sns.barplot(x='day_n', y='date_imp',hue = 'day_n', data=aux4.head())\n",
    "\n",
    "\n",
    "plt.subplot(2,2,3)\n",
    "aux5 = (\n",
    "    df_ebay[[\"date_imp\", \"day_n\"]]\n",
    "    .groupby(\"day_n\")\n",
    "    .count()\n",
    "    .reset_index()\n",
    "    .sort_values(by=\"date_imp\", ascending=False)\n",
    "\n",
    ")\n",
    "plt.xticks(rotation=90)\n",
    "plt.title('ebay.com')\n",
    "sns.barplot(x='day_n', y='date_imp',hue = 'day_n', data=aux5.head())\n",
    "\n",
    "plt.subplot(2,2,4)\n",
    "aux6 = (\n",
    "    df_walmart[[\"date_imp\", \"day_n\"]]\n",
    "    .groupby(\"day_n\")\n",
    "    .count()\n",
    "    .reset_index()\n",
    "    .sort_values(by=\"date_imp\", ascending=False)\n",
    "\n",
    ")\n",
    "plt.xticks(rotation=90)\n",
    "plt.title('walmart.com')\n",
    "sns.barplot(x='day_n', y='date_imp',hue = 'day_n', data=aux6.head())\n",
    "\n",
    "plt.tight_layout()"
   ]
  },
  {
   "cell_type": "markdown",
   "id": "cd35e8c9-054d-4621-8a38-c28f1af70f6c",
   "metadata": {},
   "source": [
    "## 3.4 Quais os meses que mais vendem ?"
   ]
  },
  {
   "cell_type": "markdown",
   "id": "63ac89a9-0dc7-495f-9380-6b0dcd13e564",
   "metadata": {},
   "source": [
    "### 3.4.1 No geral ?"
   ]
  },
  {
   "cell_type": "code",
   "execution_count": 183,
   "id": "713bbe93-b26b-408c-8b8f-f56a96175d9a",
   "metadata": {},
   "outputs": [
    {
     "data": {
      "text/html": [
       "<div>\n",
       "<style scoped>\n",
       "    .dataframe tbody tr th:only-of-type {\n",
       "        vertical-align: middle;\n",
       "    }\n",
       "\n",
       "    .dataframe tbody tr th {\n",
       "        vertical-align: top;\n",
       "    }\n",
       "\n",
       "    .dataframe thead th {\n",
       "        text-align: right;\n",
       "    }\n",
       "</style>\n",
       "<table border=\"1\" class=\"dataframe\">\n",
       "  <thead>\n",
       "    <tr style=\"text-align: right;\">\n",
       "      <th></th>\n",
       "      <th>month_n</th>\n",
       "      <th>date_imp</th>\n",
       "    </tr>\n",
       "  </thead>\n",
       "  <tbody>\n",
       "    <tr>\n",
       "      <th>0</th>\n",
       "      <td>August</td>\n",
       "      <td>5004</td>\n",
       "    </tr>\n",
       "    <tr>\n",
       "      <th>1</th>\n",
       "      <td>July</td>\n",
       "      <td>4116</td>\n",
       "    </tr>\n",
       "    <tr>\n",
       "      <th>2</th>\n",
       "      <td>March</td>\n",
       "      <td>2517</td>\n",
       "    </tr>\n",
       "    <tr>\n",
       "      <th>3</th>\n",
       "      <td>December</td>\n",
       "      <td>2474</td>\n",
       "    </tr>\n",
       "    <tr>\n",
       "      <th>4</th>\n",
       "      <td>May</td>\n",
       "      <td>2127</td>\n",
       "    </tr>\n",
       "    <tr>\n",
       "      <th>5</th>\n",
       "      <td>September</td>\n",
       "      <td>1977</td>\n",
       "    </tr>\n",
       "    <tr>\n",
       "      <th>6</th>\n",
       "      <td>October</td>\n",
       "      <td>1859</td>\n",
       "    </tr>\n",
       "    <tr>\n",
       "      <th>7</th>\n",
       "      <td>June</td>\n",
       "      <td>1448</td>\n",
       "    </tr>\n",
       "    <tr>\n",
       "      <th>8</th>\n",
       "      <td>November</td>\n",
       "      <td>1264</td>\n",
       "    </tr>\n",
       "    <tr>\n",
       "      <th>9</th>\n",
       "      <td>April</td>\n",
       "      <td>357</td>\n",
       "    </tr>\n",
       "    <tr>\n",
       "      <th>10</th>\n",
       "      <td>January</td>\n",
       "      <td>8</td>\n",
       "    </tr>\n",
       "  </tbody>\n",
       "</table>\n",
       "</div>"
      ],
      "text/plain": [
       "      month_n  date_imp\n",
       "0      August      5004\n",
       "1        July      4116\n",
       "2       March      2517\n",
       "3    December      2474\n",
       "4         May      2127\n",
       "5   September      1977\n",
       "6     October      1859\n",
       "7        June      1448\n",
       "8    November      1264\n",
       "9       April       357\n",
       "10    January         8"
      ]
     },
     "execution_count": 183,
     "metadata": {},
     "output_type": "execute_result"
    }
   ],
   "source": [
    "aux = df3.loc[:,['date_imp', 'month_n']].groupby('month_n').count().sort_values(by = 'date_imp', ascending = False)\n",
    "aux.head()\n",
    "aux.reset_index()"
   ]
  },
  {
   "cell_type": "code",
   "execution_count": 186,
   "id": "bf8d84cb-6a25-4c83-8f2b-83900ee24dfd",
   "metadata": {},
   "outputs": [
    {
     "data": {
      "image/png": "[encoded data removed]",
      "text/plain": [
       "<Figure size 640x480 with 1 Axes>"
      ]
     },
     "metadata": {},
     "output_type": "display_data"
    }
   ],
   "source": [
    "\n",
    "ax = sns.barplot( x ='month_n', y = 'date_imp',hue = 'month_n', data = aux )\n",
    "for p in ax.patches:\n",
    "    ax.annotate(f'{p.get_height()}', \n",
    "                (p.get_x() + p.get_width() / 2., p.get_height()), \n",
    "                ha='center', va='bottom')\n",
    "plt.xticks(rotation = 30)\n",
    "# Exibir o gráfico\n",
    "plt.show()"
   ]
  },
  {
   "cell_type": "markdown",
   "id": "2e3b6380-a289-4e0c-a005-60046dfa2a1e",
   "metadata": {},
   "source": [
    "### 3.4.2 Por loja"
   ]
  },
  {
   "cell_type": "code",
   "execution_count": 187,
   "id": "aee3c313-f531-40ef-b89f-70944a0d5ed7",
   "metadata": {},
   "outputs": [
    {
     "data": {
      "image/png": "[encoded data removed]",
      "text/plain": [
       "<Figure size 2000x1000 with 4 Axes>"
      ]
     },
     "metadata": {},
     "output_type": "display_data"
    }
   ],
   "source": [
    "plt.figure(figsize=(20,10))\n",
    "\n",
    "plt.subplot(2,2,1)\n",
    "aux18 = (\n",
    "    df_best[[\"date_imp\", \"month_n\"]]\n",
    "    .groupby(\"month_n\")\n",
    "    .count()\n",
    "    .reset_index()\n",
    "    .sort_values(by=\"date_imp\", ascending=False)\n",
    "\n",
    ")\n",
    "plt.xticks(rotation=90)\n",
    "plt.title('Bestbuy.com')\n",
    "sns.barplot(x='month_n', y='date_imp', data=aux18)\n",
    "\n",
    "\n",
    "plt.subplot(2,2,2)\n",
    "aux19 = (\n",
    "    df_bhp[[\"date_imp\", \"month_n\"]]\n",
    "    .groupby(\"month_n\")\n",
    "    .count()\n",
    "    .reset_index()\n",
    "    .sort_values(by=\"date_imp\", ascending=False)\n",
    "\n",
    ")\n",
    "plt.xticks(rotation=90)\n",
    "plt.title('bhphotovideo.com')\n",
    "sns.barplot(x='month_n', y='date_imp', data=aux19)\n",
    "\n",
    "\n",
    "plt.subplot(2,2,3)\n",
    "aux20 = (\n",
    "    df_ebay[[\"date_imp\", \"month_n\"]]\n",
    "    .groupby(\"month_n\")\n",
    "    .count()\n",
    "    .reset_index()\n",
    "    .sort_values(by=\"date_imp\", ascending=False)\n",
    "\n",
    ")\n",
    "plt.xticks(rotation=90)\n",
    "plt.title('ebay.com')\n",
    "sns.barplot(x='month_n', y='date_imp', data=aux20)\n",
    "\n",
    "plt.subplot(2,2,4)\n",
    "aux21 = (\n",
    "    df_walmart[[\"date_imp\", \"month_n\"]]\n",
    "    .groupby(\"month_n\")\n",
    "    .count()\n",
    "    .reset_index()\n",
    "    .sort_values(by=\"date_imp\", ascending=False)\n",
    "\n",
    ")\n",
    "plt.xticks(rotation=90)\n",
    "plt.title('walmart.com')\n",
    "sns.barplot(x='month_n', y='date_imp', data=aux21)\n",
    "\n",
    "plt.tight_layout()"
   ]
  },
  {
   "cell_type": "markdown",
   "id": "de4da355-1f93-40a2-a45e-5d7815852f1c",
   "metadata": {},
   "source": [
    "## 3.5 Quais as semanas que mais vendem?"
   ]
  },
  {
   "cell_type": "markdown",
   "id": "b95ea3d8-0dc3-416a-8879-cbeda8cc769b",
   "metadata": {},
   "source": [
    "### 3.5.1 No geral"
   ]
  },
  {
   "cell_type": "code",
   "execution_count": 194,
   "id": "f25f4287-f14f-44db-948e-ebe26cca58d2",
   "metadata": {},
   "outputs": [
    {
     "data": {
      "text/html": [
       "<div>\n",
       "<style scoped>\n",
       "    .dataframe tbody tr th:only-of-type {\n",
       "        vertical-align: middle;\n",
       "    }\n",
       "\n",
       "    .dataframe tbody tr th {\n",
       "        vertical-align: top;\n",
       "    }\n",
       "\n",
       "    .dataframe thead th {\n",
       "        text-align: right;\n",
       "    }\n",
       "</style>\n",
       "<table border=\"1\" class=\"dataframe\">\n",
       "  <thead>\n",
       "    <tr style=\"text-align: right;\">\n",
       "      <th></th>\n",
       "      <th>week_number</th>\n",
       "      <th>date_imp</th>\n",
       "    </tr>\n",
       "  </thead>\n",
       "  <tbody>\n",
       "    <tr>\n",
       "      <th>0</th>\n",
       "      <td>49</td>\n",
       "      <td>2330</td>\n",
       "    </tr>\n",
       "    <tr>\n",
       "      <th>1</th>\n",
       "      <td>35</td>\n",
       "      <td>1680</td>\n",
       "    </tr>\n",
       "    <tr>\n",
       "      <th>2</th>\n",
       "      <td>30</td>\n",
       "      <td>1539</td>\n",
       "    </tr>\n",
       "    <tr>\n",
       "      <th>3</th>\n",
       "      <td>31</td>\n",
       "      <td>1356</td>\n",
       "    </tr>\n",
       "    <tr>\n",
       "      <th>4</th>\n",
       "      <td>22</td>\n",
       "      <td>1140</td>\n",
       "    </tr>\n",
       "    <tr>\n",
       "      <th>5</th>\n",
       "      <td>29</td>\n",
       "      <td>1102</td>\n",
       "    </tr>\n",
       "    <tr>\n",
       "      <th>6</th>\n",
       "      <td>34</td>\n",
       "      <td>1088</td>\n",
       "    </tr>\n",
       "    <tr>\n",
       "      <th>7</th>\n",
       "      <td>9</td>\n",
       "      <td>893</td>\n",
       "    </tr>\n",
       "    <tr>\n",
       "      <th>8</th>\n",
       "      <td>33</td>\n",
       "      <td>811</td>\n",
       "    </tr>\n",
       "    <tr>\n",
       "      <th>9</th>\n",
       "      <td>38</td>\n",
       "      <td>799</td>\n",
       "    </tr>\n",
       "    <tr>\n",
       "      <th>10</th>\n",
       "      <td>41</td>\n",
       "      <td>784</td>\n",
       "    </tr>\n",
       "    <tr>\n",
       "      <th>11</th>\n",
       "      <td>46</td>\n",
       "      <td>759</td>\n",
       "    </tr>\n",
       "    <tr>\n",
       "      <th>12</th>\n",
       "      <td>13</td>\n",
       "      <td>670</td>\n",
       "    </tr>\n",
       "    <tr>\n",
       "      <th>13</th>\n",
       "      <td>28</td>\n",
       "      <td>654</td>\n",
       "    </tr>\n",
       "    <tr>\n",
       "      <th>14</th>\n",
       "      <td>19</td>\n",
       "      <td>627</td>\n",
       "    </tr>\n",
       "    <tr>\n",
       "      <th>15</th>\n",
       "      <td>43</td>\n",
       "      <td>614</td>\n",
       "    </tr>\n",
       "    <tr>\n",
       "      <th>16</th>\n",
       "      <td>18</td>\n",
       "      <td>604</td>\n",
       "    </tr>\n",
       "    <tr>\n",
       "      <th>17</th>\n",
       "      <td>10</td>\n",
       "      <td>589</td>\n",
       "    </tr>\n",
       "    <tr>\n",
       "      <th>18</th>\n",
       "      <td>37</td>\n",
       "      <td>579</td>\n",
       "    </tr>\n",
       "    <tr>\n",
       "      <th>19</th>\n",
       "      <td>20</td>\n",
       "      <td>469</td>\n",
       "    </tr>\n",
       "    <tr>\n",
       "      <th>20</th>\n",
       "      <td>36</td>\n",
       "      <td>468</td>\n",
       "    </tr>\n",
       "    <tr>\n",
       "      <th>21</th>\n",
       "      <td>32</td>\n",
       "      <td>438</td>\n",
       "    </tr>\n",
       "    <tr>\n",
       "      <th>22</th>\n",
       "      <td>27</td>\n",
       "      <td>434</td>\n",
       "    </tr>\n",
       "    <tr>\n",
       "      <th>23</th>\n",
       "      <td>45</td>\n",
       "      <td>432</td>\n",
       "    </tr>\n",
       "    <tr>\n",
       "      <th>24</th>\n",
       "      <td>26</td>\n",
       "      <td>430</td>\n",
       "    </tr>\n",
       "    <tr>\n",
       "      <th>25</th>\n",
       "      <td>42</td>\n",
       "      <td>332</td>\n",
       "    </tr>\n",
       "    <tr>\n",
       "      <th>26</th>\n",
       "      <td>14</td>\n",
       "      <td>323</td>\n",
       "    </tr>\n",
       "    <tr>\n",
       "      <th>27</th>\n",
       "      <td>11</td>\n",
       "      <td>258</td>\n",
       "    </tr>\n",
       "    <tr>\n",
       "      <th>28</th>\n",
       "      <td>44</td>\n",
       "      <td>202</td>\n",
       "    </tr>\n",
       "    <tr>\n",
       "      <th>29</th>\n",
       "      <td>25</td>\n",
       "      <td>199</td>\n",
       "    </tr>\n",
       "    <tr>\n",
       "      <th>30</th>\n",
       "      <td>50</td>\n",
       "      <td>142</td>\n",
       "    </tr>\n",
       "    <tr>\n",
       "      <th>31</th>\n",
       "      <td>39</td>\n",
       "      <td>122</td>\n",
       "    </tr>\n",
       "    <tr>\n",
       "      <th>32</th>\n",
       "      <td>12</td>\n",
       "      <td>107</td>\n",
       "    </tr>\n",
       "    <tr>\n",
       "      <th>33</th>\n",
       "      <td>23</td>\n",
       "      <td>79</td>\n",
       "    </tr>\n",
       "    <tr>\n",
       "      <th>34</th>\n",
       "      <td>24</td>\n",
       "      <td>43</td>\n",
       "    </tr>\n",
       "    <tr>\n",
       "      <th>35</th>\n",
       "      <td>17</td>\n",
       "      <td>34</td>\n",
       "    </tr>\n",
       "    <tr>\n",
       "      <th>36</th>\n",
       "      <td>21</td>\n",
       "      <td>11</td>\n",
       "    </tr>\n",
       "    <tr>\n",
       "      <th>37</th>\n",
       "      <td>1</td>\n",
       "      <td>4</td>\n",
       "    </tr>\n",
       "    <tr>\n",
       "      <th>38</th>\n",
       "      <td>4</td>\n",
       "      <td>2</td>\n",
       "    </tr>\n",
       "    <tr>\n",
       "      <th>39</th>\n",
       "      <td>51</td>\n",
       "      <td>2</td>\n",
       "    </tr>\n",
       "    <tr>\n",
       "      <th>40</th>\n",
       "      <td>3</td>\n",
       "      <td>1</td>\n",
       "    </tr>\n",
       "    <tr>\n",
       "      <th>41</th>\n",
       "      <td>2</td>\n",
       "      <td>1</td>\n",
       "    </tr>\n",
       "  </tbody>\n",
       "</table>\n",
       "</div>"
      ],
      "text/plain": [
       "    week_number  date_imp\n",
       "0            49      2330\n",
       "1            35      1680\n",
       "2            30      1539\n",
       "3            31      1356\n",
       "4            22      1140\n",
       "5            29      1102\n",
       "6            34      1088\n",
       "7             9       893\n",
       "8            33       811\n",
       "9            38       799\n",
       "10           41       784\n",
       "11           46       759\n",
       "12           13       670\n",
       "13           28       654\n",
       "14           19       627\n",
       "15           43       614\n",
       "16           18       604\n",
       "17           10       589\n",
       "18           37       579\n",
       "19           20       469\n",
       "20           36       468\n",
       "21           32       438\n",
       "22           27       434\n",
       "23           45       432\n",
       "24           26       430\n",
       "25           42       332\n",
       "26           14       323\n",
       "27           11       258\n",
       "28           44       202\n",
       "29           25       199\n",
       "30           50       142\n",
       "31           39       122\n",
       "32           12       107\n",
       "33           23        79\n",
       "34           24        43\n",
       "35           17        34\n",
       "36           21        11\n",
       "37            1         4\n",
       "38            4         2\n",
       "39           51         2\n",
       "40            3         1\n",
       "41            2         1"
      ]
     },
     "execution_count": 194,
     "metadata": {},
     "output_type": "execute_result"
    }
   ],
   "source": [
    "aux = df3.loc[:,['date_imp', 'week_number']].groupby('week_number').count().sort_values(by = 'date_imp', ascending = False)\n",
    "aux.head()\n",
    "aux.reset_index()"
   ]
  },
  {
   "cell_type": "code",
   "execution_count": 195,
   "id": "24a0b6db-2b88-4b05-bc42-f1ce6e5da1fe",
   "metadata": {},
   "outputs": [
    {
     "data": {
      "image/png": "[encoded data removed]",
      "text/plain": [
       "<Figure size 640x480 with 1 Axes>"
      ]
     },
     "metadata": {},
     "output_type": "display_data"
    }
   ],
   "source": [
    "ax = sns.barplot( x ='week_number', y = 'date_imp',hue = 'week_number', data = aux.head() )\n",
    "for p in ax.patches:\n",
    "    ax.annotate(f'{p.get_height()}', \n",
    "                (p.get_x() + p.get_width() / 2., p.get_height()), \n",
    "                ha='center', va='bottom')\n",
    "plt.xticks(rotation = 30)\n",
    "# Exibir o gráfico\n",
    "plt.show()"
   ]
  },
  {
   "cell_type": "markdown",
   "id": "4dfaca70-fbfb-4955-a623-a1d2e0ab698e",
   "metadata": {},
   "source": [
    "### 3.5.2 Por loja"
   ]
  },
  {
   "cell_type": "code",
   "execution_count": 196,
   "id": "df0df62e-fa20-4517-a191-b0aea8a1eba4",
   "metadata": {
    "scrolled": true
   },
   "outputs": [
    {
     "data": {
      "image/png": "[encoded data removed]",
      "text/plain": [
       "<Figure size 2000x1000 with 4 Axes>"
      ]
     },
     "metadata": {},
     "output_type": "display_data"
    }
   ],
   "source": [
    "plt.figure(figsize=(20,10))\n",
    "\n",
    "plt.subplot(2,2,1)\n",
    "aux23 = (\n",
    "    df_best[[\"date_imp\", \"week_number\"]]\n",
    "    .groupby(\"week_number\")\n",
    "    .count()\n",
    "    .reset_index()\n",
    "    .sort_values(by=\"date_imp\", ascending=False)\n",
    "\n",
    ")\n",
    "plt.xticks(rotation=90)\n",
    "plt.title('Bestbuy.com')\n",
    "sns.barplot(x='week_number', y='date_imp', data=aux23)\n",
    "\n",
    "\n",
    "plt.subplot(2,2,2)\n",
    "aux24 = (\n",
    "    df_bhp[[\"date_imp\", \"week_number\"]]\n",
    "    .groupby(\"week_number\")\n",
    "    .count()\n",
    "    .reset_index()\n",
    "    .sort_values(by=\"date_imp\", ascending=False)\n",
    "\n",
    ")\n",
    "plt.xticks(rotation=90)\n",
    "plt.title('bhphotovideo.com')\n",
    "sns.barplot(x='week_number', y='date_imp', data=aux24)\n",
    "\n",
    "\n",
    "plt.subplot(2,2,3)\n",
    "aux25 = (\n",
    "    df_ebay[[\"date_imp\", \"week_number\"]]\n",
    "    .groupby(\"week_number\")\n",
    "    .count()\n",
    "    .reset_index()\n",
    "    .sort_values(by=\"date_imp\", ascending=False)\n",
    "\n",
    ")\n",
    "plt.xticks(rotation=90)\n",
    "plt.title('ebay.com')\n",
    "sns.barplot(x='week_number', y='date_imp', data=aux25)\n",
    "\n",
    "plt.subplot(2,2,4)\n",
    "aux26 = (\n",
    "    df_walmart[[\"date_imp\", \"week_number\"]]\n",
    "    .groupby(\"week_number\")\n",
    "    .count()\n",
    "    .reset_index()\n",
    "    .sort_values(by=\"date_imp\", ascending=False)\n",
    "\n",
    ")\n",
    "plt.xticks(rotation=90)\n",
    "plt.title('walmart.com')\n",
    "sns.barplot(x='week_number', y='date_imp', data=aux26)\n",
    "\n",
    "plt.tight_layout()"
   ]
  },
  {
   "cell_type": "markdown",
   "id": "f3692fd1-8e7e-4039-bb55-5e8edf7bd768",
   "metadata": {},
   "source": [
    "# 4.0 Feature Engineering"
   ]
  },
  {
   "cell_type": "code",
   "execution_count": 200,
   "id": "7ec1d99d-ed35-49fe-a298-61f7b2c8599c",
   "metadata": {},
   "outputs": [],
   "source": [
    "df4 = df3.copy()"
   ]
  },
  {
   "cell_type": "markdown",
   "id": "c6e7906b-2ec2-428f-a7e3-c8de036e94e1",
   "metadata": {},
   "source": [
    "## 4.1 Categoria mais vendida da Bestbuy"
   ]
  },
  {
   "cell_type": "code",
   "execution_count": null,
   "id": "0aef453e-e6c7-458e-a1e8-a7054fd5e808",
   "metadata": {},
   "outputs": [],
   "source": []
  },
  {
   "cell_type": "code",
   "execution_count": null,
   "id": "334e9f38-c9dd-497e-b731-527934450d9e",
   "metadata": {},
   "outputs": [],
   "source": [
    "#year\n",
    "\n",
    "\n",
    "# Convertendo a coluna para o formato datetime\n",
    "df3['invoice_date'] = pd.to_datetime(df3['invoice_date'])\n",
    "\n",
    "# .dt para extrair o ano, M\n",
    "df3['year'] = df3['invoice_date'].dt.year\n",
    "\n",
    "\n",
    "# month\n",
    "df3['month'] = df3['invoice_date'].dt.month\n",
    "\n",
    "df3['month_sin'] = df3['month'].apply(lambda x: np.sin( x* (2. * np.pi/12) ) )\n",
    "df3['month_cos'] = df3['month'].apply(lambda x: np.cos( x* (2. * np.pi/12) ) )"
   ]
  },
  {
   "cell_type": "code",
   "execution_count": null,
   "id": "14594d99-a16c-48af-92ca-b38108b9fe00",
   "metadata": {},
   "outputs": [],
   "source": [
    "df.head()"
   ]
  },
  {
   "cell_type": "code",
   "execution_count": null,
   "id": "70c3d2e2-577f-4cba-a56c-a947d6b9d30d",
   "metadata": {},
   "outputs": [],
   "source": [
    "df[df['description'].str.contains(',', na=False)]\n",
    "\n"
   ]
  },
  {
   "cell_type": "markdown",
   "id": "c8bbb2bf-13cc-4b85-9665-f0ea14b28204",
   "metadata": {},
   "source": [
    "**É importante resaltar o que já até aqui para mim ficou evidente. Primeiro, quando um item é cancelado a fatura tem a letra C e \n",
    "quantity é negativo. Segundo, e mais interressante, na coluna 'description' cada linha tem único pedido, mesmo quando há virgulas é \n",
    "uma descrição a mais, portanto, na coluna unit_price aquele preço se relaciona ao pedido descrito pela coluna 'description'.**"
   ]
  },
  {
   "cell_type": "code",
   "execution_count": null,
   "id": "c0183ecf-5051-4686-8c33-d17eced3a87f",
   "metadata": {},
   "outputs": [],
   "source": [
    "\n",
    "\n",
    "#df3['gross_revenue'] = df3['quantity'].apply(lambda x: df3.loc[:,'quantity'] * df3.loc[:,'unit_price'] if x > 0 else 0)\n",
    "# Observe que se produto retorna de algum lugar claro que tem um custo, mas não tenho informação para estimar,\n",
    "#por isso ele é zero!\n",
    "\n",
    "df3['gross_revenue'] = np.where(df3['quantity'] > 0, df3['quantity'] * df3['unit_price'], 0)\n",
    "\n",
    "#df3['gross_revenue'] = np.where(df3['gross_revenue'] == 0, df3['quantity'] * df3['unit_price'] ) adicionar o valor do gasto ao pacote\n",
    "#cancelado\n",
    "df3['gross_revenue'].head()"
   ]
  },
  {
   "cell_type": "markdown",
   "id": "49007dd4-b4fa-427e-941e-a413bd781bff",
   "metadata": {},
   "source": [
    "**Conjunto New Features**"
   ]
  },
  {
   "cell_type": "code",
   "execution_count": null,
   "id": "e91a8fbd-c273-41a1-9ef0-09cb84b9824e",
   "metadata": {},
   "outputs": [],
   "source": [
    "# Cojunto New Features\n",
    "purchases = df3[df3['quantity'] > 0]\n",
    "#Monetary\n",
    "df_monetary = purchases.loc[:, ['customer_id', 'gross_revenue']].groupby('customer_id').sum().reset_index()\n",
    "df_monetary "
   ]
  },
  {
   "cell_type": "code",
   "execution_count": null,
   "id": "63faac64-8516-4df9-aa78-3c2026420a04",
   "metadata": {},
   "outputs": [],
   "source": [
    "df_ref = pd.merge(df_ref, df_monetary, on='customer_id', how='left')\n",
    "df_ref"
   ]
  },
  {
   "cell_type": "code",
   "execution_count": null,
   "id": "3fb73e1c-b274-46f3-907b-d8b1eef349e2",
   "metadata": {},
   "outputs": [],
   "source": [
    "df3['returned'] = np.where(df3['quantity'] < 0, 1, 0)"
   ]
  },
  {
   "cell_type": "code",
   "execution_count": null,
   "id": "9172ec9e-4ce2-4cde-b615-d56c80159a5b",
   "metadata": {},
   "outputs": [],
   "source": [
    "df3.head()"
   ]
  },
  {
   "cell_type": "code",
   "execution_count": null,
   "id": "3daccf65-3c9b-4fa0-a564-30726392632e",
   "metadata": {},
   "outputs": [],
   "source": [
    " df3.invoice_date.max()"
   ]
  },
  {
   "cell_type": "markdown",
   "id": "1ef66168-5453-4d01-b81b-1e2fb6a50e0b",
   "metadata": {},
   "source": [
    "**Conjunto New Features**"
   ]
  },
  {
   "cell_type": "code",
   "execution_count": null,
   "id": "ac5fb971-2fcd-4588-9479-5c708cf34222",
   "metadata": {
    "scrolled": true
   },
   "outputs": [],
   "source": [
    "# Conjunto New Features\n",
    "filtro =  df3[df3['quantity'] > 0]\n",
    "df_recency = filtro.loc[:,['customer_id', 'invoice_date']].groupby('customer_id').max().reset_index() # pegando a maior data de cada cliente, que também em linha temporal é \n",
    "# mais recente\n",
    "df_recency['recency_days'] =  (df3.invoice_date.max() - df_recency.invoice_date).dt.days\n",
    "df_recency"
   ]
  },
  {
   "cell_type": "code",
   "execution_count": null,
   "id": "602f5042-08e0-4443-aaf8-84b8de008850",
   "metadata": {},
   "outputs": [],
   "source": [
    "df_recency = df_recency[['customer_id', 'recency_days']].copy()\n",
    "df_ref = pd.merge(df_ref, df_recency, on='customer_id', how='left')\n",
    "df_ref"
   ]
  },
  {
   "cell_type": "markdown",
   "id": "6ecf37d9-ce62-4ae4-8fb4-519db0ec74ad",
   "metadata": {},
   "source": [
    "#O calculo será feito com referência a linha temporal dentro do dataset \n",
    " Para calcular a diferença em dias entre uma data em seu conjunto de dados e a data atual, você pode seguir estes passos:\n",
    "\n",
    "\n",
    "import pandas as pd\n",
    "from datetime import datetime\n",
    "\n",
    "#Defina a data presente\n",
    "data_atual = pd.Timestamp.now()\n",
    "\n",
    "#Data do conjunto de dados\n",
    "data_do_dataset = pd.Timestamp('2017-12-07 00:00:00')\n",
    "\n",
    "#Calcular a diferença em dias\n",
    "diferenca_em_dias = (data_atual - data_do_dataset).days\n",
    "\n",
    "print(f'A diferença em dias entre {data_do_dataset} e a data de hoje é de {diferenca_em_dias} dias.')\n",
    "\n",
    "\n"
   ]
  },
  {
   "cell_type": "code",
   "execution_count": null,
   "id": "7cdf1879-6c0f-4c2e-9b01-7e55846ea31d",
   "metadata": {},
   "outputs": [],
   "source": [
    "\n",
    "#de cada cliente, que também em linha temporal é \n",
    "rel = ( df3.invoice_date.max() - df3.invoice_date) \n",
    "df3['recency_days'] = rel.dt.days\n"
   ]
  },
  {
   "cell_type": "code",
   "execution_count": null,
   "id": "152240e0-6c89-446d-9a40-bd07b83c8601",
   "metadata": {},
   "outputs": [],
   "source": [
    "df3.head()"
   ]
  },
  {
   "cell_type": "code",
   "execution_count": null,
   "id": "3d422412-3908-4b32-b2a7-d27fd3fc27fd",
   "metadata": {},
   "outputs": [],
   "source": [
    "df3.isnull().sum()"
   ]
  },
  {
   "cell_type": "code",
   "execution_count": null,
   "id": "9c4d7643-636e-4fdd-bd89-39da6a720738",
   "metadata": {},
   "outputs": [],
   "source": [
    "#df_aux = df2[['customer_id', 'invoice_date']].drop_duplicates().sort_values( ['customer_id', 'invoice_date'], ascending=['False', 'False'] )\n",
    "#df_aux['next_customer_id'] = df_aux['customer_id'].shift()"
   ]
  },
  {
   "cell_type": "code",
   "execution_count": null,
   "id": "2e8488bb-2017-40f8-b7ee-f0bb4cca12c6",
   "metadata": {},
   "outputs": [],
   "source": [
    "df3.shape"
   ]
  },
  {
   "cell_type": "code",
   "execution_count": null,
   "id": "79432306-0393-4c7e-8b9a-d45e611d6833",
   "metadata": {},
   "outputs": [],
   "source": [
    "# Quantidade de vezes que o cliente realizou a compra\n",
    "df_freq = filtro.loc[:, ['customer_id', 'invoice_no']].drop_duplicates().groupby('customer_id').count().reset_index().rename(columns = { 'invoice_no': 'qtde_invoices'})\n",
    "df_ref = pd.merge( df_ref, df_freq, on = 'customer_id', how = 'left')\n",
    "df_ref"
   ]
  },
  {
   "cell_type": "code",
   "execution_count": null,
   "id": "94bd352f-ff19-4044-b7c9-cf9edae855f9",
   "metadata": {},
   "outputs": [],
   "source": [
    "df_freq = filtro.loc[:, ['customer_id', 'invoice_no']].drop_duplicates().groupby('customer_id').count().reset_index().rename(columns={'invoice_no':'qtde_invoices'})\n",
    "df_ref = pd.merge(df_ref, df_freq, on='customer_id', how='left')"
   ]
  },
  {
   "cell_type": "markdown",
   "id": "2e586132-3e9d-4f80-bdf1-6d91f60aa3c7",
   "metadata": {},
   "source": [
    "Parece haver um erro na lógica, para calcular a quantidade de vezes que o cliente comprou e selecionando somente as colunas \n",
    "['customer_id', 'invoice_no'], terá valores repetido, mas não significa que são duplicadas, pois está observação limitou somente a duas \n",
    "colunas que podem se repetir se mesmo cliente comprar no mesmo dia."
   ]
  },
  {
   "cell_type": "code",
   "execution_count": null,
   "id": "e9f0e93f-b894-4c60-8d1a-8b9d2cae772f",
   "metadata": {},
   "outputs": [],
   "source": [
    "# experimento sem deletar o que parece ser duplicado\n",
    "ux = df3.loc[:, ['customer_id', 'invoice_no']].groupby('customer_id').count().reset_index()\n",
    "ux"
   ]
  },
  {
   "cell_type": "markdown",
   "id": "4dea4e51-aa08-4d21-99cf-3226f95f2664",
   "metadata": {},
   "source": [
    "Observar que o cliente 12347 tem comprado 182 vezes, vamos analisar se suas compras tem linha que são totalmente iguais. "
   ]
  },
  {
   "cell_type": "code",
   "execution_count": null,
   "id": "12f60d5d-eb10-4134-81f1-898bc0abcd3e",
   "metadata": {
    "scrolled": true
   },
   "outputs": [],
   "source": [
    "p = df[df['customer_id'] == 12347.0]\n",
    "p # 537626\t85116\t BLACK CANDELABRA T-LIGHT HOLDER\t12\t5-Dec-16\t2.10\t12347.0\tIceland"
   ]
  },
  {
   "cell_type": "markdown",
   "id": "33892f30-d0a2-4eab-99b1-dbd2ecb5ae9a",
   "metadata": {},
   "source": [
    "Observe que as colunas 'invoice_no' e 'customer_id' as vezes se repete em compras do mesmo dia, isso pode ser devido ser comprado tudo na mesma transação, portando está correto está forma de seguir."
   ]
  },
  {
   "cell_type": "code",
   "execution_count": null,
   "id": "2974d3e4-2f28-4069-b7e3-7418cfe64c45",
   "metadata": {},
   "outputs": [],
   "source": [
    "# Quantidade de vezes que o cliente realizou a compra\n",
    "aux = df3.loc[:, ['customer_id', 'invoice_no']].drop_duplicates().groupby('customer_id').count().reset_index().rename(columns = { 'invoice_no': 'qtde_invoices'})\n",
    "# Use a função merge para juntar os dataframes, baseando-se na coluna 'customer_id'\n",
    "df3 = pd.merge( df3, aux, on = 'customer_id', how = 'left')"
   ]
  },
  {
   "cell_type": "code",
   "execution_count": null,
   "id": "0b5d1e07-f47a-4d73-898b-97d563324e86",
   "metadata": {
    "scrolled": true
   },
   "outputs": [],
   "source": [
    "#quantidade de items comprados durante todo esse tempo \n",
    "# em relação ao original qtde_items se tornou total_items, para ficar mais claro total de items comprado pelo cliente.\n",
    "df_freq = filtro.loc[:, ['customer_id', 'quantity']].groupby('customer_id').sum().reset_index().rename(columns={'quantity':'total_items'})\n",
    "df_ref = pd.merge(df_ref, df_freq, on='customer_id', how='left')\n",
    "df_freq.head(3)"
   ]
  },
  {
   "cell_type": "code",
   "execution_count": null,
   "id": "38529e3f-8a65-4648-8eb2-26378143c347",
   "metadata": {},
   "outputs": [],
   "source": [
    "aux = df3.loc[:, ['customer_id', 'quantity']].groupby('customer_id').sum().reset_index().rename(columns={'quantity':'total_items'})\n",
    "\n",
    "df3 = df3.merge(aux[['customer_id', 'total_items']], on='customer_id', how='left')"
   ]
  },
  {
   "cell_type": "code",
   "execution_count": null,
   "id": "1c08eac6-9b0c-479a-b088-83eb93ab1a9e",
   "metadata": {},
   "outputs": [],
   "source": [
    "df_freq = filtro.loc[:, ['customer_id', 'stock_code']].groupby('customer_id').count().reset_index().rename(columns={'stock_code':'qtde_products'})\n",
    "df_ref = pd.merge(df_ref, df_freq, on='customer_id', how='left')\n",
    "df_ref.head()"
   ]
  },
  {
   "cell_type": "markdown",
   "id": "ac074557-d6e9-4738-a850-6e9034c2d00a",
   "metadata": {},
   "source": [
    "Qual motivo total de items ser diferente da quantidade de produtos, produtos que tem a mesma descrição tem o mesmo 'stock_code' ?"
   ]
  },
  {
   "cell_type": "code",
   "execution_count": null,
   "id": "266340b6-3c4b-4ef8-a472-a7a0f58c16dc",
   "metadata": {},
   "outputs": [],
   "source": [
    "df.head()"
   ]
  },
  {
   "cell_type": "markdown",
   "id": "0cc84231-d76d-40ea-8c41-639894be49ea",
   "metadata": {},
   "source": [
    "Observe na celula acima que o mesmo produto ele pode ser comprado vários em a mesma compra por isso, ele receberar o mesmo stock_code.\n",
    "Entretando, a descrição deste no que refere ao título para criação deste tópico está errada, não é quantidade, mas variedade. \n",
    "Falta verificar se produtos com a mesma descrição tem o mesmo 'stock_code'."
   ]
  },
  {
   "cell_type": "code",
   "execution_count": null,
   "id": "8997a4cb-b086-40a8-a425-1bf5fc56de6b",
   "metadata": {},
   "outputs": [],
   "source": [
    "a = df[df['description'] == 'WHITE HANGING HEART T-LIGHT HOLDER']\n",
    "a"
   ]
  },
  {
   "cell_type": "markdown",
   "id": "1b2b75aa-c7d0-4358-8210-5057b3ae62cc",
   "metadata": {},
   "source": [
    "curiosamente tem-se o mesmo código no stock_code, cuntuto, observando as três primeiras linhas exibidas, as três linhas estão \n",
    "iguais exceto pela coluna 'invoice_no', como não foi disponibilizado a hora, teria que solicitar ao time engenharia de dados ou responsáveis, para ter certeza se são ou\n",
    "não são duplicadas. Contuto, com as informações que temos, tem que mudar o nome de **Quantity of products pychased** para **Variety of products purchased**, e **variety_products** para coluna. Além disso, pode ser que o mesmo cliente tenha comprado o mesmo produto em trasações diferentes."
   ]
  },
  {
   "cell_type": "code",
   "execution_count": null,
   "id": "75984f38-c68b-42b2-9812-74d177476baa",
   "metadata": {},
   "outputs": [],
   "source": [
    "aux = df3.loc[:, ['customer_id', 'stock_code']].groupby('customer_id').count().reset_index().rename(columns={'stock_code':'variety_products'})\n",
    "df3 = df3.merge(aux[['customer_id', 'variety_products']], on='customer_id', how='left')\n",
    "df_ref.rename(columns={'qtde_products':'variety_products'}, inplace = True )\n",
    "df3.head()"
   ]
  },
  {
   "cell_type": "code",
   "execution_count": null,
   "id": "bc45e205-428f-410f-b3da-95656a52d59f",
   "metadata": {},
   "outputs": [],
   "source": [
    "# average ticket\n",
    "df_avg_ticket = filtro.loc[:, ['customer_id', 'gross_revenue']].groupby('customer_id').mean().reset_index().rename(columns={'gross_revenue':'avg_ticket'})\n",
    "df_ref = pd.merge(df_ref, df_avg_ticket, on='customer_id', how='left')"
   ]
  },
  {
   "cell_type": "markdown",
   "id": "daecdbe4-353e-418b-b945-a3716b7dffee",
   "metadata": {},
   "source": [
    "O nome é Volume de tickets, mas calcula a média gasta pelo cliente por pedidos. Então vou renomear para \n",
    "avg_per_purchase"
   ]
  },
  {
   "cell_type": "code",
   "execution_count": null,
   "id": "ff8a8fce-44b4-427e-8a1d-228848eb8f3c",
   "metadata": {},
   "outputs": [],
   "source": [
    "aux = df3.loc[:, ['customer_id', 'gross_revenue']].groupby('customer_id').mean().reset_index().rename(columns={'gross_revenue':'avg_ticket'})\n",
    "df3 = df3.merge(aux[['customer_id', 'avg_ticket']], on='customer_id', how='left')\n",
    "df3.head()"
   ]
  },
  {
   "cell_type": "code",
   "execution_count": null,
   "id": "044a3228-fa48-4b40-ab0d-8079154ec5a1",
   "metadata": {},
   "outputs": [],
   "source": [
    "df_ref.rename(columns = {'avg_ticket':'avg_per_purchase'}, inplace = True)\n",
    "\n",
    "df3.rename(columns    = {'avg_ticket':'avg_per_purchase'}, inplace = True)"
   ]
  },
  {
   "cell_type": "code",
   "execution_count": null,
   "id": "8bc92c52-3357-4cfe-81c6-80fbe7e28298",
   "metadata": {},
   "outputs": [],
   "source": [
    "df3.isnull().sum()"
   ]
  },
  {
   "cell_type": "code",
   "execution_count": null,
   "id": "6f717679-8e65-49e1-bd00-17bcf0066e51",
   "metadata": {},
   "outputs": [],
   "source": [
    "df_ref.isnull().sum()"
   ]
  },
  {
   "cell_type": "code",
   "execution_count": null,
   "id": "c24a784a-60a7-4895-943c-6a995eb11031",
   "metadata": {},
   "outputs": [],
   "source": [
    "#df3.drop(columns = 'avg_ticket_x', axis = 1, inplace = True)"
   ]
  },
  {
   "cell_type": "code",
   "execution_count": null,
   "id": "ce2b2b84-2bd1-48f0-ba87-e27859626abd",
   "metadata": {},
   "outputs": [],
   "source": [
    "#df3.rename(columns ={ 'avg_ticket_y': 'avg_ticket'}, inplace = True )"
   ]
  },
  {
   "cell_type": "code",
   "execution_count": null,
   "id": "2d573958-631a-40ba-a2df-a8271371f1a0",
   "metadata": {},
   "outputs": [],
   "source": [
    "df_aux = ( filtro[['invoice_no', 'customer_id', 'invoice_date']].drop_duplicates()\n",
    "                                                  .groupby('customer_id')\n",
    "                                                  .agg(max_ = ('invoice_date', 'max'),\n",
    "                                                      min_  = ('invoice_date', 'min'),\n",
    "                                                      days_ = ('invoice_date', lambda x: ((x.max() - x.min()).days) + 0),\n",
    "                                                      buys_ = ('invoice_no', 'count')) ).reset_index()\n",
    "\n",
    "\n",
    "df_aux.head()"
   ]
  },
  {
   "cell_type": "code",
   "execution_count": null,
   "id": "a83e87d4-ade9-4a70-9972-3ced54ecba61",
   "metadata": {},
   "outputs": [],
   "source": [
    "aux = ( df3[['invoice_no', 'customer_id', 'invoice_date']].drop_duplicates()\n",
    "                                                  .groupby('customer_id')\n",
    "                                                  .agg(max_ = ('invoice_date', 'max'),\n",
    "                                                      min_  = ('invoice_date', 'min'),\n",
    "                                                      days_ = ('invoice_date', lambda x: ((x.max() - x.min()).days) + 0),\n",
    "                                                      buys_ = ('invoice_no', 'count')) ).reset_index()\n",
    "\n",
    "\n",
    "aux.head()"
   ]
  },
  {
   "cell_type": "code",
   "execution_count": null,
   "id": "5cfedcfb-5eed-414c-9216-6cfc4418fad4",
   "metadata": {
    "scrolled": true
   },
   "outputs": [],
   "source": [
    "tetha = df3[df3['customer_id'] == 12347.0]\n",
    "tetha.head(20) "
   ]
  },
  {
   "cell_type": "markdown",
   "id": "9a710355-8d7d-434f-8143-fbdf56c090aa",
   "metadata": {},
   "source": [
    "Vamos analisar a criação desta feature frequency!"
   ]
  },
  {
   "attachments": {
    "94a41ab3-ec6e-4a23-9222-71b1af032239.png": {
     "image/png": "[encoded data removed]"
    },
    "a11a789d-9337-4a59-a97e-3c17214be282.png": {
     "image/png": "[encoded data removed]"
    }
   },
   "cell_type": "markdown",
   "id": "42f74d18-3e9f-4d0e-b783-5d5efec6b64b",
   "metadata": {},
   "source": [
    "como o que estamos gerando é um tipo de período, e como mostra a imagem o podemos também calcular a frequência através do periodo!\n",
    "\n",
    "![image.png](attachment:a11a789d-9337-4a59-a97e-3c17214be282.png)![image.png](attachment:94a41ab3-ec6e-4a23-9222-71b1af032239.png)"
   ]
  },
  {
   "cell_type": "code",
   "execution_count": null,
   "id": "218e7501-2f70-4d28-b260-72f9d4534dcc",
   "metadata": {},
   "outputs": [],
   "source": [
    "# colocando em prática\n",
    "# New features\n",
    "\n",
    "# Passo 1 (P1) - colocar as datas em ordem cresente\n",
    "\n",
    "aux  = df3.loc[:,['invoice_no', 'customer_id', 'invoice_date']].drop_duplicates().groupby(['customer_id','invoice_no'])#.sort_values('invoice_date', ascending = False)\n",
    "\n",
    "auxr  = filtro.loc[:,['invoice_no', 'customer_id', 'invoice_date']].drop_duplicates().groupby(['customer_id','invoice_no'])#.sort_values('invoice_date', ascending = False)\n",
    "                                      \n",
    "# calcula o intervalo  \n",
    "\n",
    "# média \n",
    "# desvio padrão\n",
    "# inverte para encontrar frequência\n"
   ]
  },
  {
   "cell_type": "code",
   "execution_count": null,
   "id": "ee957ba1-8e50-449d-90af-f79547491955",
   "metadata": {},
   "outputs": [],
   "source": [
    "aux2 = df[['description','customer_id','invoice_date'] ].drop_duplicates() # Problema aqui é que canceladas também vem \n",
    "aux2[ aux2['description'] == 'WHITE HANGING HEART T-LIGHT HOLDER']\n",
    "#(df1['customer_id'] == 17850) and "
   ]
  },
  {
   "cell_type": "code",
   "execution_count": null,
   "id": "d216ab0f-98a2-4d0c-b5f5-b33642bfba01",
   "metadata": {
    "scrolled": true
   },
   "outputs": [],
   "source": [
    "aux2 = df[['description','customer_id','invoice_date', 'invoice_no']].drop_duplicates() # Problema aqui é que canceladas também vem \n",
    "aux2[ aux2['description'] == 'WHITE HANGING HEART T-LIGHT HOLDER']\n",
    "#(df1['customer_id'] == 17850) and "
   ]
  },
  {
   "cell_type": "code",
   "execution_count": null,
   "id": "5cac07f2-47a0-4932-a0e9-6c55638576a6",
   "metadata": {
    "scrolled": true
   },
   "outputs": [],
   "source": [
    "auxr1 = filtro.sort_values(by=['customer_id', 'invoice_date','invoice_no'], ascending=True)\n",
    "auxr1 = auxr1[['customer_id','invoice_date', 'invoice_no']].drop_duplicates() \n",
    "# a coluna é invoice_no é importante para não deletar transações que foram feitas no mesmo dia do mesmo cara só que são diferentes. \n",
    "auxr2 = auxr1[['customer_id','invoice_date']]\n",
    "auxr3 = auxr2.sort_values(by=['customer_id', 'invoice_date'], ascending=True).reset_index()\n",
    "auxr3.drop(columns = 'index', axis = 1, inplace = True)\n",
    "\n",
    "\n",
    "\n",
    "aux1 = df3.sort_values(by=['customer_id', 'invoice_date', 'invoice_no'], ascending=True)\n",
    "aux1 = aux1[['customer_id','invoice_date', 'invoice_no']].drop_duplicates() \n",
    "aux2 = aux1[['customer_id','invoice_date']]\n",
    "aux3 = aux2.sort_values(by=['customer_id', 'invoice_date'], ascending=True).reset_index()\n",
    "aux3.drop(columns = 'index', axis = 1, inplace = True)\n",
    "aux3.head(60)"
   ]
  },
  {
   "cell_type": "code",
   "execution_count": null,
   "id": "8c852b7e-3998-4067-9c74-e7d536b63120",
   "metadata": {},
   "outputs": [],
   "source": [
    "if aux3.loc[0, 'invoice_date'] == aux3.loc[1 , 'invoice_date']:\n",
    "    print('são iguais')"
   ]
  },
  {
   "cell_type": "code",
   "execution_count": null,
   "id": "54735025-b55a-4e17-91d6-160b7ede1e06",
   "metadata": {},
   "outputs": [],
   "source": [
    "# calcula o intervalo \n",
    "#como é um pouco demorodo vou deixar comentado\n",
    "#contador =  406828\n",
    "#i = 0 \n",
    "#while i < 406828:\n",
    "    # vamos utilizar if para deixar o processo ficando mais leve e direto, n precisando entrar no dataset as vezes!\n",
    "#    if aux3.loc[i,'customer_id'] == aux3.loc[i+1,'customer_id']: \n",
    "        \n",
    "#        if aux3.loc[i+1, 'invoice_date'] != aux3.loc[i , 'invoice_date']:\n",
    "            \n",
    "#            aux3.loc[i,'interval'] = (aux3.loc[i+1,'invoice_date'] - aux3.loc[i,'invoice_date']).days\n",
    "        \n",
    "#        else:\n",
    "#            aux3.loc[i,'interval'] = 0\n",
    "#    else:\n",
    "#        aux3.loc[i,'interval'] = 0\n",
    "#    i = i+1\n",
    "#for \n",
    "#aux2.loc[:'interval'] = aux['invoice_date'].apply(lambda x : ) \n"
   ]
  },
  {
   "cell_type": "code",
   "execution_count": null,
   "id": "8f0ed1dc-727d-481b-898d-4e6d7791954d",
   "metadata": {
    "scrolled": true
   },
   "outputs": [],
   "source": [
    "#aux3.head(60)"
   ]
  },
  {
   "cell_type": "code",
   "execution_count": null,
   "id": "4a62e522-f8a3-41c2-8b4f-185a7feef3ad",
   "metadata": {},
   "outputs": [],
   "source": [
    "aux3.isnull().sum()"
   ]
  },
  {
   "cell_type": "code",
   "execution_count": null,
   "id": "763f0be6-a02e-4f84-a22c-a98a0ef4022e",
   "metadata": {},
   "outputs": [],
   "source": [
    "#auxr3"
   ]
  },
  {
   "cell_type": "code",
   "execution_count": null,
   "id": "8f61f0be-0c5c-490a-8c2f-02dc917b3f5b",
   "metadata": {},
   "outputs": [],
   "source": [
    "# Código otimizado pelo chat-gpt 3.5\n",
    "aux4 = aux3#.drop(columns = 'interval', axis = 1)\n",
    "mask = aux3['customer_id'] == aux3['customer_id'].shift(-1)\n",
    "\n",
    "interval = (aux3['invoice_date'].shift(-1) - aux3['invoice_date']).dt.days\n",
    "interval[~mask] = 0\n",
    "interval[~mask | (aux3['invoice_date'] == aux3['invoice_date'].shift(-1))] = 0\n",
    "\n",
    "aux4['interval'] = interval\n",
    "\n",
    "\n",
    "# df_ref\n",
    "# Código otimizado pelo chat-gpt 3.5\n",
    "auxr4 = auxr3\n",
    "mask = auxr3['customer_id'] == auxr3['customer_id'].shift(-1)\n",
    "\n",
    "interval = (auxr3['invoice_date'].shift(-1) - auxr3['invoice_date']).dt.days\n",
    "interval[~mask] = 0\n",
    "interval[~mask | (auxr3['invoice_date'] == auxr3['invoice_date'].shift(-1))] = 0\n",
    "\n",
    "auxr4['interval'] = interval"
   ]
  },
  {
   "cell_type": "markdown",
   "id": "a7eec557-d36f-4bab-acf6-c1993aae8c4e",
   "metadata": {},
   "source": [
    " Vamos esclarecer cada parte do código otimizado em detalhes:\n",
    "\n",
    "1. Na linha 2, `shift(-1)`:\n",
    "   - `shift(-1)` desloca os valores da série para baixo, com `-1` indicando que estamos deslocando as linhas uma posição para cima.\n",
    "   - Isso compara se o `customer_id` atual é igual ao `customer_id` deslocado por uma posição para baixo na série de dados. Essa abordagem ajuda a identificar correspondências sequenciais de IDs de clientes.\n",
    "\n",
    "2. Na linha 3, `interval = (aux3['invoice_date'].shift(-1) - aux3['invoice_date']).dt.days`:\n",
    "   - Aqui, estamos calculando a diferença de dias entre a `invoice_date` atual e a `invoice_date` deslocada uma posição para baixo.\n",
    "   - O uso de `shift(-1)` ajuda a obter a data subsequente à atual para calcular o intervalo de dias.\n",
    "\n",
    "3. Na linha 4, `interval[~mask]`:\n",
    "   - `~mask` é uma negação booleana, que retorna `True` para os valores onde 'mask' é False e vice-versa.\n",
    "   - Portanto, `interval[~mask]` seleciona apenas as posições onde o `customer_id` não é igual ao `customer_id` da linha subsequente.\n",
    "\n",
    "4. Na linha 5, `interval[~mask | (aux3['invoice_date'] == aux3['invoice_date'].shift(-1))] = 0`:\n",
    "   - `|` é o operador OR bitwise, que atua sobre as máscaras booleanas, permitindo que a condição seja atendida se pelo menos uma das subcondições for verdadeira.\n",
    "   - Aqui, estamos atribuindo 0 aos valores em `interval` que não satisfazem a condição da máscara ou quando as `invoice_date` atuais são iguais às datas deslocadas por uma posição para baixo.\n",
    "\n",
    "5. Quanto à linha 6, não está realmente transformando tudo em um dataset. Ela simplesmente adiciona os valores calculados de `interval` ao DataFrame `aux3` na coluna 'interval'.\n",
    "\n",
    "Espero que isso esclareça o funcionamento do código otimizado. Se tiver mais perguntas ou precisar de mais detalhes, fique à vontade para perguntar!   "
   ]
  },
  {
   "cell_type": "code",
   "execution_count": null,
   "id": "ed3c8883-a0d5-4cbf-8d2f-8037a273b6ab",
   "metadata": {},
   "outputs": [],
   "source": [
    "# Vamos verificar se existe alguma diferença entre os métodos\n",
    "(aux3['interval'] != aux4['interval']).sum()\n"
   ]
  },
  {
   "cell_type": "code",
   "execution_count": null,
   "id": "f237875d-9a4d-4236-93d3-17d67378dc9a",
   "metadata": {
    "scrolled": true
   },
   "outputs": [],
   "source": [
    "import pandas as pd\n",
    "import matplotlib.pyplot as plt\n",
    "\n",
    "# Comparação entre os resultados\n",
    "comparison = (aux4['interval'] != aux3['interval']).sum()\n",
    "\n",
    "# Gerando o gráfico\n",
    "data = {'Método': ['Meu Método', 'Método Otimizado'],\n",
    "        'Diferenças': [comparison, comparison]}\n",
    "df = pd.DataFrame(data)\n",
    "\n",
    "plt.bar(df['Método'], df['Diferenças'], color=['blue', 'green'])\n",
    "plt.xlabel('Método Utilizado')\n",
    "plt.ylabel('Diferenças Encontradas')\n",
    "plt.title('Contagem de Diferenças entre os Métodos')\n",
    "plt.show()\n"
   ]
  },
  {
   "cell_type": "code",
   "execution_count": null,
   "id": "c4aa8849-a9d6-4d49-a815-f17562a0d7be",
   "metadata": {},
   "outputs": [],
   "source": [
    "aux3.isnull().sum()"
   ]
  },
  {
   "cell_type": "code",
   "execution_count": null,
   "id": "cf911e05-1d3c-4980-b93c-0bc8d61ece2e",
   "metadata": {},
   "outputs": [],
   "source": [
    "aux4.isnull().sum()"
   ]
  },
  {
   "cell_type": "code",
   "execution_count": null,
   "id": "37084d65-9f6e-467f-a7ca-42d2a2dc99a1",
   "metadata": {},
   "outputs": [],
   "source": [
    "\n",
    "# média \n",
    "# desvio padrão\n",
    "# inverte para encontrar frequência\n",
    "\n",
    "aux5 = aux4[[ 'customer_id', 'invoice_date', 'interval']].groupby(['customer_id']).agg(interval_mean = ('interval', 'mean'),\n",
    "                                                                            interval_std  = ('interval', 'std'),\n",
    "                                                                            n_buys = ('customer_id', 'count')).reset_index()\n",
    "# df_ref\n",
    "auxr5 = auxr4[[ 'customer_id', 'invoice_date', 'interval']].groupby(['customer_id']).agg(interval_mean = ('interval', 'mean'),\n",
    "                                                                            interval_std  = ('interval', 'std'),\n",
    "                                                                            n_buys = ('customer_id', 'count')).reset_index()\n",
    "\n",
    "aux5"
   ]
  },
  {
   "cell_type": "code",
   "execution_count": null,
   "id": "4718a90b-5563-4bb4-a450-63dcdc85c83d",
   "metadata": {},
   "outputs": [],
   "source": [
    "aux5.isnull().sum()"
   ]
  },
  {
   "cell_type": "code",
   "execution_count": null,
   "id": "2b0a1dec-0332-4000-bed7-28c920579671",
   "metadata": {},
   "outputs": [],
   "source": [
    "# Aproveitando que apredemos a trabalhar um pouco sobre vetores, vamos usar para alterar os Nan's\n",
    "\n",
    "mask = aux5['interval_std'].isnull()\n",
    "\n",
    "interval = aux5['interval_std']\n",
    "interval[mask] = 0\n",
    "interval[ mask | (aux5['interval_std'] == aux5['interval_std'].isnull)] = 0\n",
    "\n",
    "aux5['interval_std'] = interval\n",
    "aux5\n",
    "\n",
    "#New feactures\n",
    "\n",
    "mask = auxr5['interval_std'].isnull()\n",
    "\n",
    "interval = auxr5['interval_std']\n",
    "interval[mask] = 0\n",
    "interval[ mask | (auxr5['interval_std'] == aux5['interval_std'].isnull)] = 0\n",
    "\n",
    "auxr5['interval_std'] = interval"
   ]
  },
  {
   "cell_type": "code",
   "execution_count": null,
   "id": "fbc89dff-0a46-4b20-8598-cea3f47bc804",
   "metadata": {},
   "outputs": [],
   "source": [
    "aux5.isnull().sum()"
   ]
  },
  {
   "cell_type": "code",
   "execution_count": null,
   "id": "032f1590-78be-453c-ae2a-6715a6e488d3",
   "metadata": {},
   "outputs": [],
   "source": [
    "aux5.head()"
   ]
  },
  {
   "cell_type": "code",
   "execution_count": null,
   "id": "4080a520-9298-4a92-8918-ec48e3ef5920",
   "metadata": {},
   "outputs": [],
   "source": [
    "# Juntando \n",
    "\n",
    "#df3.drop(   columns = 'frequency', axis    = 1, inplace = True)\n",
    "#df_ref.drop(columns = 'frequency', axis    = 1, inplace = True)\n",
    "\n",
    "#df3 = pd.merge(df3, aux4[['customer_id', 'interval'       ]], on='customer_id', how='left')\n",
    "df3 = pd.merge(df3, aux5[['customer_id', 'interval_mean'  ]], on='customer_id', how='left')\n",
    "df3 = pd.merge(df3, aux5[['customer_id', 'interval_std'   ]], on='customer_id', how='left')\n",
    "df3 = pd.merge(df3, aux5[['customer_id', 'n_buys'          ]], on='customer_id', how='left')\n",
    "\n",
    "#df_ref = pd.merge(df_ref, auxr4[['customer_id', 'interval'     ]], on='customer_id', how='left')\n",
    "df_ref = pd.merge(df_ref, auxr5[['customer_id', 'interval_mean']], on='customer_id', how='left')\n",
    "df_ref = pd.merge(df_ref, auxr5[['customer_id', 'interval_std' ]], on='customer_id', how='left')\n",
    "df_ref = pd.merge(df_ref, auxr5[['customer_id', 'n_buys'        ]], on='customer_id', how='left')\n",
    "\n",
    "\n",
    "\n",
    "#df3.head()"
   ]
  },
  {
   "cell_type": "code",
   "execution_count": null,
   "id": "de5f9c16-f1f3-43f2-8d87-aaa7d1ddfde9",
   "metadata": {},
   "outputs": [],
   "source": [
    "df3.isnull().sum()"
   ]
  },
  {
   "cell_type": "code",
   "execution_count": null,
   "id": "671ed275-a203-4b1c-95d2-bf4cff65e1cd",
   "metadata": {},
   "outputs": [],
   "source": [
    "df_returns = cancelled[['customer_id', 'quantity']].groupby('customer_id').sum().reset_index().rename(columns={'quantity':'qtde_returns'})\n",
    "df_returns['qtde_returns'] = df_returns['qtde_returns'] * -1\n",
    "df_ref = pd.merge(df_ref, df_returns, on='customer_id', how='left')\n",
    "df_ref.loc[df_ref['qtde_returns'].isna(), 'qtde_returns'] = 0\n"
   ]
  },
  {
   "cell_type": "code",
   "execution_count": null,
   "id": "959aab7e-6608-433d-b242-129146391dc2",
   "metadata": {},
   "outputs": [],
   "source": [
    "aux = df3.loc[df3['returned'] == 1, ['customer_id', 'returned']].groupby('customer_id').sum().reset_index().rename( columns = {'returned': 'n_returned'})\n",
    "aux.head()"
   ]
  },
  {
   "cell_type": "code",
   "execution_count": null,
   "id": "e3e96c26-070b-40ca-b512-91ca929bc34e",
   "metadata": {},
   "outputs": [],
   "source": [
    "df3 = pd.merge(df3, aux, on='customer_id', how='left')"
   ]
  },
  {
   "cell_type": "code",
   "execution_count": null,
   "id": "7806f660-69eb-40a3-9dc9-6a089fff8653",
   "metadata": {},
   "outputs": [],
   "source": [
    "df_ref.isnull().sum()"
   ]
  },
  {
   "cell_type": "code",
   "execution_count": null,
   "id": "12a9df4a-bf44-4aed-a7e1-a82e8b9c61e7",
   "metadata": {},
   "outputs": [],
   "source": [
    "df3.isnull().sum()"
   ]
  },
  {
   "cell_type": "code",
   "execution_count": null,
   "id": "510d8c55-56ec-479a-b6e9-94bf76cdc7b0",
   "metadata": {},
   "outputs": [],
   "source": [
    "df3['n_returned'] = df3['n_returned'].apply(lambda x: 0 if x == 'nan' or 'Nan' or 'NAN' or 'NaN' else x)"
   ]
  },
  {
   "cell_type": "code",
   "execution_count": null,
   "id": "c011c660-b533-4473-b881-abd6673ff9ef",
   "metadata": {},
   "outputs": [],
   "source": [
    "df3.isnull().sum()"
   ]
  },
  {
   "cell_type": "code",
   "execution_count": null,
   "id": "0b39d188-7bd2-45cf-b7ce-6c938f5097d3",
   "metadata": {},
   "outputs": [],
   "source": [
    "ux = ( filtro.loc[:, ['customer_id', 'invoice_no', 'quantity']].groupby('customer_id')\n",
    "                                                                          .agg(n_purchase = ('invoice_no', 'nunique'),\n",
    "                                                                               n_products = ('quantity', 'sum')).reset_index() )\n",
    "ux.head()"
   ]
  },
  {
   "cell_type": "code",
   "execution_count": null,
   "id": "dc52dc4a-3569-4542-8edb-7275407c4cb0",
   "metadata": {},
   "outputs": [],
   "source": [
    "df3[df3['customer_id'] == 12346 ].head()"
   ]
  },
  {
   "cell_type": "markdown",
   "id": "9c0603bb-27bb-43ae-9c16-759cf96c109f",
   "metadata": {},
   "source": [
    "Embora seja estranho esse cliente 12346 comprou em um única compra 74215 de único produto, provalvemente ele revende."
   ]
  },
  {
   "cell_type": "code",
   "execution_count": null,
   "id": "e959ef05-902d-4a91-b6b3-838a910bc6be",
   "metadata": {},
   "outputs": [],
   "source": [
    "df_aux = ( filtro.loc[:, ['customer_id', 'invoice_no', 'quantity']].groupby('customer_id')\n",
    "                                                                          .agg(n_purchase = ('invoice_no', 'nunique'),\n",
    "                                                                               n_products = ('quantity', 'sum')).reset_index() )\n",
    "\n",
    "df_aux['avg_basket_size'] = df_aux['n_products'] / df_aux['n_purchase']\n",
    "df_ref = pd.merge(df_ref, df_aux[['customer_id', 'avg_basket_size']], on='customer_id', how='left')\n",
    "\n"
   ]
  },
  {
   "cell_type": "code",
   "execution_count": null,
   "id": "3aa19730-3e04-4df5-a273-1cc252f92a4f",
   "metadata": {},
   "outputs": [],
   "source": [
    "aux = ( df3.loc[:, ['customer_id', 'invoice_no', 'quantity']].groupby('customer_id')\n",
    "                                                                          .agg(n_purchase = ('invoice_no', 'nunique'),\n",
    "                                                                               n_products = ('quantity', 'sum')).reset_index() )\n",
    "aux\n",
    "aux['avg_basket_size'] = aux['n_products'] /  aux['n_purchase']\n",
    "df3 = pd.merge(df3, aux[['customer_id', 'avg_basket_size']], on='customer_id', how='left')"
   ]
  },
  {
   "cell_type": "code",
   "execution_count": null,
   "id": "947b1b0e-b880-4dcd-a661-9d6bf9505836",
   "metadata": {},
   "outputs": [],
   "source": [
    "df3.head()"
   ]
  },
  {
   "cell_type": "markdown",
   "id": "480937df-d308-4d98-bb89-05dddf07004f",
   "metadata": {},
   "source": [
    "Não é quantidade de itens por cesta, mas quantidade de tipos de produto por cesta!"
   ]
  },
  {
   "cell_type": "code",
   "execution_count": null,
   "id": "43b638a7-209a-43a7-a4f3-dff49e823a9b",
   "metadata": {},
   "outputs": [],
   "source": [
    "df_aux = ( filtro.loc[:, ['customer_id', 'invoice_no', 'stock_code']].groupby('customer_id')\n",
    "                                                                          .agg(n_purchase = ('invoice_no', 'nunique'),\n",
    "                                                                               n_products = ('stock_code', 'nunique')).reset_index() )\n",
    "\n",
    "df_aux['avg_product_per_basket'] = df_aux['n_products'] / df_aux['n_purchase']\n",
    "df_ref = pd.merge(df_ref, df_aux[['customer_id', 'avg_product_per_basket']], on='customer_id', how='left')\n",
    "df_ref.isna().sum()"
   ]
  },
  {
   "cell_type": "code",
   "execution_count": null,
   "id": "c7f9d089-6016-443c-a80b-69b634ef921a",
   "metadata": {},
   "outputs": [],
   "source": [
    "aux = ( filtro.loc[:, ['customer_id', 'invoice_no', 'stock_code']].groupby('customer_id')\n",
    "                                                                          .agg(n_purchase = ('invoice_no', 'nunique'),\n",
    "                                                                               n_products = ('stock_code', 'nunique')).reset_index() )\n",
    "\n",
    "aux['avg_product_per_basket'] = aux['n_products'] / aux['n_purchase']\n",
    "df3 = pd.merge(df3, aux[['customer_id', 'avg_product_per_basket']], on='customer_id', how='left')\n",
    "df3.isna().sum()"
   ]
  },
  {
   "cell_type": "code",
   "execution_count": null,
   "id": "ad1b2227-d16a-4070-bf04-9e8f3470ad36",
   "metadata": {},
   "outputs": [],
   "source": [
    "df_ref['avg_product_per_basket'] = df_ref['avg_product_per_basket'].apply(lambda x: 0 if x == 'nan' or 'Nan' or 'NAN' or 'NaN' else x)"
   ]
  },
  {
   "cell_type": "code",
   "execution_count": null,
   "id": "4609c503-6029-4186-b059-766c1bc0ace0",
   "metadata": {},
   "outputs": [],
   "source": [
    "df3['avg_product_per_basket'] = df3['avg_product_per_basket'].apply(lambda x: 0 if x == 'nan' or 'Nan' or 'NAN' or 'NaN' else x)"
   ]
  },
  {
   "cell_type": "code",
   "execution_count": null,
   "id": "87ac58b1-c847-4eda-9081-9bb4a403cc24",
   "metadata": {},
   "outputs": [],
   "source": [
    "df_ref.isna().sum()"
   ]
  },
  {
   "cell_type": "code",
   "execution_count": null,
   "id": "21d5478d-0b3f-4a32-9625-eb88ea09a5f7",
   "metadata": {},
   "outputs": [],
   "source": [
    "df3.isna().sum()"
   ]
  },
  {
   "cell_type": "code",
   "execution_count": null,
   "id": "a721056b-9e07-4532-b5ec-92ddb0d4bebe",
   "metadata": {},
   "outputs": [],
   "source": [
    "# Qual a ategoria mais vendida "
   ]
  },
  {
   "cell_type": "markdown",
   "id": "dedc3e06-de46-49eb-bf2b-f5c617b09a84",
   "metadata": {
    "jp-MarkdownHeadingCollapsed": true
   },
   "source": [
    "# 3.0 Exploratory Data Analysis"
   ]
  },
  {
   "cell_type": "markdown",
   "id": "4c2cb12d-37b6-4cfb-b5fa-a582f84441ed",
   "metadata": {},
   "source": [
    "## 4.1 Analise Univariada"
   ]
  },
  {
   "cell_type": "markdown",
   "id": "3a5b3602-c35e-4bde-b6f7-7b07e4994639",
   "metadata": {},
   "source": [
    "### 4.2.1 Bivariate Analysis"
   ]
  },
  {
   "cell_type": "markdown",
   "id": "09d89e2e-607d-45c4-9259-d308e817053c",
   "metadata": {},
   "source": [
    "O UMAP é uma técnica de aprendizado não supervisionado que tem sido amplamente utilizada para facilitar a visualização de dados complexos de alta dimensão, destacando tanto as estruturas locais quanto globais. É particularmente eficaz em contextos onde a preservação de distâncias entre pontos próximos é crucial, como em aplicações de clustering e classificação. É frequentemente preferido em relação a outras técnicas apenas por suas propriedades de preservar tanto a estrutura global quanto as relações locais nos dados."
   ]
  },
  {
   "cell_type": "code",
   "execution_count": null,
   "id": "c68f8e8b-cb0c-424a-b3ca-aa80fcab7465",
   "metadata": {},
   "outputs": [],
   "source": [
    "reducer = umap.UMAP(random_state=42)\n",
    "embedding = reducer.fit_transform(X)\n",
    "\n",
    "#embedding\n",
    "df_umap = pd.DataFrame()\n",
    "df_umap['embedding_x'] = embedding[:, 0]\n",
    "df_umap['embedding_y'] = embedding[:, 1]\n",
    "\n",
    "#plot UMAP\n",
    "sns.scatterplot(x='embedding_x', y='embedding_y', data=df_umap)\n"
   ]
  },
  {
   "cell_type": "markdown",
   "id": "0f79a6f4-9389-47e9-8164-85ed5664b73c",
   "metadata": {},
   "source": [
    "Aqui, um objeto TSNE é criado com algumas configurações:\n",
    "\n",
    "n_components=2: Isso especifica que o t-SNE irá reduzir os dados para duas dimensões, o que é comum para visualização.\n",
    "n_jobs=-1: Essa configuração permite que todas as CPUs disponíveis sejam usadas para acelerar o processo de cálculo.\n",
    "random_state=42: Define uma semente aleatória para garantir que o resultado seja reprodutível."
   ]
  },
  {
   "cell_type": "code",
   "execution_count": null,
   "id": "bf12a03e-69ea-4b38-a62b-44e975be50a0",
   "metadata": {},
   "outputs": [],
   "source": [
    "reducer = mn.TSNE(n_components=2, n_jobs=-1, random_state=42) \n",
    "embedding = reducer.fit_transform(X)\n",
    "\n",
    "#embedding\n",
    "df_tsne = pd.DataFrame()\n",
    "df_tsne['embedding_x'] = embedding[:, 0]\n",
    "df_tsne['embedding_y'] = embedding[:, 1]\n",
    "\n",
    "#plot UMAP\n",
    "sns.scatterplot(x='embedding_x', y='embedding_y', data=df_tsne)\n"
   ]
  },
  {
   "cell_type": "markdown",
   "id": "dc7da545-1c5f-4f5b-bbf3-a223b63b969b",
   "metadata": {},
   "source": [
    "O t-SNE é uma técnica de aprendizado não supervisionado que é especialmente útil para a visualização de dados complexos de alta dimensão. Ele funciona da seguinte maneira:\n",
    "\n",
    "O t-SNE preserva as relações locais, o que significa que pontos que estão próximos uns dos outros em alta dimensão continuarão a estar próximos uns dos outros após a redução de dimensão.\n",
    "O algoritmo se baseia em um modelo probabilístico: ele calcula a similaridade entre pontos em alta dimensão e tenta replicar essa distribuição em um espaço de baixa dimensão.\n",
    "É particularmente útil em cenários como análise de clusters, onde se deseja ver como diferentes grupos de dados se comportam em um espaço reduzido, mas pode ser demorado e computacionalmente intensivo para conjuntos de dados muito grandes."
   ]
  },
  {
   "cell_type": "code",
   "execution_count": null,
   "id": "61f33b43-cf68-47bb-a4e8-fda79446da12",
   "metadata": {},
   "outputs": [],
   "source": [
    "X = df43.drop(columns=['gross_revenue'], axis=1)\n",
    "y = df43['gross_revenue']\n",
    "\n",
    "rf_model = en.RandomForestRegressor(n_estimators=100, random_state=42) #sao criadas 100 arvores \n",
    "\n",
    "rf_model.fit(X,y)\n",
    "\n",
    "df_leaf = pd.DataFrame(rf_model.apply(X))"
   ]
  },
  {
   "cell_type": "code",
   "execution_count": null,
   "id": "a0deaeee-a502-4213-a7c1-c4be8ed23394",
   "metadata": {},
   "outputs": [],
   "source": [
    "df_leaf.head() "
   ]
  },
  {
   "cell_type": "code",
   "execution_count": null,
   "id": "c342c422-6b56-40b8-a040-64446355547f",
   "metadata": {},
   "outputs": [],
   "source": [
    "#reducer dimensionality\n",
    "reducer = umap.UMAP(random_state=42)\n",
    "embedding = reducer.fit_transform(df_leaf)\n",
    "\n",
    "#embedding\n",
    "df_tree = pd.DataFrame()\n",
    "df_tree['embedding_x'] = embedding[:, 0]\n",
    "df_tree['embedding_y'] = embedding[:, 1]\n",
    "\n",
    "#plot UMAP\n",
    "sns.scatterplot(x = 'embedding_x', y = 'embedding_y', data = df_tree)"
   ]
  },
  {
   "cell_type": "markdown",
   "id": "ac587120-085f-4588-9af6-f0bdbf31fac5",
   "metadata": {},
   "source": [
    "## 4.2 Creating of hypotheses"
   ]
  },
  {
   "cell_type": "markdown",
   "id": "357bcdf5-aa88-4f76-9dc0-d805042e0a10",
   "metadata": {},
   "source": [
    "Embora a validação de hipóteses seja feito em Analise exploratória de dados, realizada aqui para aumentar familiariadade com dados "
   ]
  },
  {
   "cell_type": "markdown",
   "id": "60433214-b0b7-4d55-8708-b41a2ce49075",
   "metadata": {},
   "source": [
    "### H1 - O país sede de origem do site é o que mais vende!\n",
    "\n",
    "**TRUE**"
   ]
  },
  {
   "cell_type": "code",
   "execution_count": null,
   "id": "d8058ae4-ba04-4e0b-b362-97d27c07a8c7",
   "metadata": {},
   "outputs": [],
   "source": [
    "aux = df3.loc[:,['country', 'quantity']].groupby('country').sum().sort_values('quantity', ascending = False)\n"
   ]
  },
  {
   "cell_type": "code",
   "execution_count": null,
   "id": "82be7f9b-51c6-427f-ac0e-5940c25d07d8",
   "metadata": {},
   "outputs": [],
   "source": [
    "aux = df3.loc[:,['country', 'quantity']].groupby('country').sum().sort_values('quantity', ascending = False)\n",
    "sns.barplot(x = 'country', y = 'quantity', data = aux)\n",
    "\n",
    "plt.xticks( rotation = 90)\n",
    "\n",
    "plt.show()"
   ]
  },
  {
   "cell_type": "code",
   "execution_count": null,
   "id": "a6c73e28-f7d6-4259-b2a7-ae5e27fcf5ae",
   "metadata": {},
   "outputs": [],
   "source": [
    "df3[['customer_id', 'country']].drop_duplicates().groupby('country').count().sort_values('customer_id',ascending = False )"
   ]
  },
  {
   "cell_type": "code",
   "execution_count": null,
   "id": "878a5aa2-f112-463a-9e19-36e3e160cb76",
   "metadata": {},
   "outputs": [],
   "source": [
    "# Em porcentagem\n",
    "df3['country'].value_counts(normalize = True).head()"
   ]
  },
  {
   "cell_type": "markdown",
   "id": "e836c19d-997e-4593-b4ed-475a11e049b3",
   "metadata": {},
   "source": [
    "### H2 - Qual produto que mais vende"
   ]
  },
  {
   "cell_type": "code",
   "execution_count": null,
   "id": "e3fea099-9699-42b1-9fa0-66f9db0dfde9",
   "metadata": {},
   "outputs": [],
   "source": [
    "aux = df3.loc[df3['quantity']>= 0]\n",
    "aux = aux.loc[:, ['stock_code', 'quantity']].groupby('stock_code').sum().sort_values('quantity', ascending = False)\n",
    "aux"
   ]
  },
  {
   "cell_type": "markdown",
   "id": "37186d12-75cc-4d03-b4fb-84ed4403a862",
   "metadata": {},
   "source": [
    "| Produto     | Description|    \n",
    "|--------------|-----------|\n",
    "|23843\t|PAPER CRAFT , LITTLE BIRDIE|\n",
    "|23166\t|MEDIUM CERAMIC TOP STORAGE JAR|\n",
    "|84077\t|WORLD WAR 2 GLIDERS ASSTD DESIGNS|\n",
    "|22197\t|SMALL POPCORN HOLDER|\t\n",
    "|85099B\t|JUMBO BAG RED RETROSPOT|\n"
   ]
  },
  {
   "cell_type": "markdown",
   "id": "307f4563-d94f-4efe-ace7-35bf65bbbc86",
   "metadata": {},
   "source": [
    "### H3 - De qual país é o cliente que mais compra\n",
    "\n",
    "**o Cliente que mais compra é da United Kingdom**"
   ]
  },
  {
   "cell_type": "code",
   "execution_count": null,
   "id": "3569558e-8b4c-41da-b578-214bcbbef06a",
   "metadata": {},
   "outputs": [],
   "source": [
    "df3.head()"
   ]
  },
  {
   "cell_type": "code",
   "execution_count": null,
   "id": "10941dc4-7a50-49f8-bdf3-8d04d629d3b3",
   "metadata": {},
   "outputs": [],
   "source": [
    "aux = df3.loc[:,['country', 'customer_id', 'quantity']].groupby(['country', 'customer_id']).count().sort_values('quantity', ascending = False)\n",
    "aux"
   ]
  },
  {
   "cell_type": "markdown",
   "id": "12080c20-69ca-4071-9b99-9865cc9f8ba9",
   "metadata": {},
   "source": [
    "### H4 - Qual os dois meses do ano que mais vende ?\n",
    "\n",
    "1. Novembro\n",
    "2. Outubro\n",
    "3. Setembro"
   ]
  },
  {
   "cell_type": "code",
   "execution_count": null,
   "id": "809bdfcd-de04-4b9f-909a-f0c7f8f165e1",
   "metadata": {},
   "outputs": [],
   "source": [
    "# 2016\n",
    "\n",
    "df7 = df3\n",
    "# Converta a coluna 'Timestamp' para o formato datetime\n",
    "df7['invoice_date'] = pd.to_datetime(df3['invoice_date'])\n",
    "\n",
    "# Crie um filtro para selecionar os valores antes de 2017\n",
    "filtro = df7[df7['invoice_date'].dt.year != 2017]\n",
    "#filtro['invoice_date'].unique()\n",
    "aux =  filtro.loc[:,['month', 'quantity']].groupby('month').sum().sort_values('quantity', ascending = False)\n",
    "aux.head(15)"
   ]
  },
  {
   "cell_type": "code",
   "execution_count": null,
   "id": "6a3df66e-01d2-4b90-9515-daff4fe44a80",
   "metadata": {},
   "outputs": [],
   "source": [
    "# 2017\n",
    "\n",
    "df7 = df3\n",
    "# Converta a coluna 'Timestamp' para o formato datetime\n",
    "df7['invoice_date'] = pd.to_datetime(df3['invoice_date'])\n",
    "\n",
    "# Crie um filtro para selecionar os valores antes de 2017\n",
    "filtro = df7[df7['invoice_date'].dt.year == 2017]\n",
    "filtro\n",
    "aux =  filtro.loc[:,['month', 'quantity']].groupby('month').sum().sort_values('quantity', ascending = False)\n",
    "aux.head(15)"
   ]
  },
  {
   "cell_type": "markdown",
   "id": "eb0746fb-2fc4-44f7-91b6-5ff0ed425295",
   "metadata": {},
   "source": [
    "### H5 - Qual o periodo do ano que menos vende?\n",
    "1. Dezembro\n",
    "2. Fevereiro\n",
    "3. Abril"
   ]
  },
  {
   "cell_type": "code",
   "execution_count": null,
   "id": "e62a7e09-5230-4048-9abc-71383625b40c",
   "metadata": {},
   "outputs": [],
   "source": [
    "# 2016\n",
    "\n",
    "df7 = df3\n",
    "# Converta a coluna 'Timestamp' para o formato datetime\n",
    "df7['invoice_date'] = pd.to_datetime(df3['invoice_date'])\n",
    "\n",
    "# Crie um filtro para selecionar os valores antes de 2017\n",
    "filtro = df7[df7['invoice_date'].dt.year != 2017]\n",
    "filtro['invoice_date'].unique()\n",
    "#aux =  filtro.loc[:,['month', 'quantity']].groupby('month').sum().sort_values('quantity', ascending = False)\n",
    "#aux.head(15)"
   ]
  },
  {
   "cell_type": "code",
   "execution_count": null,
   "id": "e5156b08-99ed-4b2b-9e5c-be53b670225c",
   "metadata": {},
   "outputs": [],
   "source": [
    "# 2017\n",
    "df7 = df3\n",
    "\n",
    "# Converta a coluna 'Timestamp' para o formato datetime\n",
    "df7['invoice_date'] = pd.to_datetime(df3['invoice_date'])\n",
    "\n",
    "# Crie um filtro para selecionar os valores antes de 2017\n",
    "# Seria interressante agrupar por mês\n",
    "filtro = df3[df3['invoice_date'].dt.year > 2016]\n",
    "filtro\n",
    "aux =  filtro.loc[:,['month', 'quantity']].groupby('month').sum().sort_values('quantity', ascending = False)\n",
    "aux.head(15)"
   ]
  },
  {
   "cell_type": "markdown",
   "id": "c715ea97-ae9b-4181-9227-3c3066e43f4e",
   "metadata": {},
   "source": [
    "# 5.0 Data Preparation"
   ]
  },
  {
   "cell_type": "markdown",
   "id": "096493e0-5dc3-45c8-a948-8ec6de0582bf",
   "metadata": {},
   "source": [
    "# 6.0 Hypermarameter Fine-Tunning"
   ]
  },
  {
   "cell_type": "code",
   "execution_count": null,
   "id": "cb5b845f-518d-4bc6-94db-77b08d21b87b",
   "metadata": {},
   "outputs": [],
   "source": [
    "X = df_tree.copy()\n"
   ]
  },
  {
   "cell_type": "code",
   "execution_count": null,
   "id": "11fed204-1aa0-44db-9682-6c75d9439edb",
   "metadata": {},
   "outputs": [],
   "source": [
    "X.head()"
   ]
  },
  {
   "cell_type": "code",
   "execution_count": null,
   "id": "fa16c4df-cb96-4fa7-ba29-b4f8beb8ab0e",
   "metadata": {},
   "outputs": [],
   "source": [
    "clusters = np.arange(2,25,1)"
   ]
  },
  {
   "cell_type": "markdown",
   "id": "f18ad226-76c4-4e17-a010-8d2b6f9c8594",
   "metadata": {},
   "source": [
    "## 7.1 K-Means"
   ]
  },
  {
   "cell_type": "code",
   "execution_count": null,
   "id": "4de03ea6-263f-4341-9777-8dc17b9a6d41",
   "metadata": {},
   "outputs": [],
   "source": [
    "from sklearn            import metrics          as m\n",
    "from sklearn.metrics    import silhouette_score\n",
    "kmeans_list = []\n",
    "# c -/> cluster\n",
    "# m -> metrics\n",
    "for k in clusters:\n",
    "    #model definition\n",
    "    kmeans_model = c.KMeans(n_clusters=k, n_init = 100, random_state=42)\n",
    "\n",
    "    #model training\n",
    "    kmeans_model.fit(X)\n",
    "\n",
    "    #model predict\n",
    "    labels = kmeans_model.predict(X)\n",
    "\n",
    "    #model performance \n",
    "    sil = m.silhouette_score(X, labels, metric = 'euclidean')\n",
    "    kmeans_list.append(sil)\n",
    "\n"
   ]
  },
  {
   "cell_type": "markdown",
   "id": "b3408390-0464-4163-89b4-0b76b8d523c8",
   "metadata": {},
   "source": [
    "Claro! O **silhouette score** e outras métricas são fundamentais para avaliar a qualidade de um agrupamento em algoritmos de clustering, como o KMeans. Aqui estão algumas definições e descrições de várias métricas de desempenho de cluster:\n",
    "\n",
    "### 1. Silhouette Score\n",
    "- **Definição**: O silhouette score mede a qualidade de um agrupamento, levando em conta a distância entre os pontos dentro do mesmo cluster e a distância entre pontos de clusters diferentes.\n",
    "- **Intervalo**: O valor varia de -1 a +1. Um valor próximo de +1 indica que os pontos estão bem agrupados e distantes de outros clusters, enquanto valores próximos de zero indicam que os clusters estão sobrepostos. Valores negativos sugerem que os pontos podem estar agrupados incorretamente.\n",
    "\n",
    "### 2. Davies-Bouldin Index\n",
    "- **Definição**: O Davies-Bouldin Index mede a média das razões entre a soma das distâncias dos pontos a seus respectivos centróides e as distâncias entre os centróides dos clusters.\n",
    "- **Objetivo**: Um índice menor sugere uma melhor separação entre os clusters, enquanto valores maiores indicam que os clusters se sobrepõem.\n",
    "\n",
    "### 3. Dunn Index\n",
    "- **Definição**: O Dunn Index define a relação entre a menor distância entre os pontos de diferentes clusters e a maior distância dentro de um cluster.\n",
    "- **Objetivo**: Um valor maior do Dunn Index indica uma boa separação entre clusters e compactação dentro deles.\n",
    "\n",
    "### 4. Calinski-Harabasz Index (ou Variância de Dunn)\n",
    "- **Definição**: O Calinski-Harabasz Index, também conhecido como Índice de Variância, é a razão entre a soma das variâncias entre clusters e a soma das variâncias dentro dos clusters.\n",
    "- **Objetivo**: Quanto maior o valor, melhor a densidade e a separação dos clusters.\n",
    "\n",
    "### 5. Inertia (ou Within-cluster Sum of Squares)\n",
    "- **Definição**: Esta métrica mede a soma das distâncias quadráticas entre cada ponto em um cluster e o centróide desse cluster.\n",
    "- **Objetivo**: Um valor menor indica que os pontos estão mais próximos do centróide do cluster, sinalizando um melhor agrupamento. É frequentemente usada no contexto do algoritmo KMeans.\n",
    "\n",
    "### 6. Adjusted Rand Index (ARI)\n",
    "- **Definição**: O ARI é uma medida de similaridade entre dois agrupamentos (um real e um predito), que corrige o Rand Index para o acaso.\n",
    "- **Intervalo**: Os valores podem variar de -1 a 1, onde 1 indica que os agrupamentos são idênticos, 0 indica que não há concordância além daquela esperada pelo acaso, e valores negativos indicam que há menos concordância do que o esperado.\n",
    "\n",
    "### 7. Fowlkes-Mallows Index\n",
    "- **Definição**: Essa é uma medida que calcula a média geométrica da precisão e do recall entre as classes preditas e verdadeiras.\n",
    "- **Objetivo**: Um valor mais alto indica uma melhor concordância entre os agrupamentos.\n",
    "\n",
    "Essas métricas podem ser usadas em conjunto para obter uma avaliação abrangente da qualidade de seus clusters. Dependendo do seu conjunto de dados e do tipo de problema, algumas métricas podem ser mais informativas do que outras. "
   ]
  },
  {
   "cell_type": "code",
   "execution_count": null,
   "id": "81bb3f9e-428c-444c-9e5a-03878a1d936a",
   "metadata": {},
   "outputs": [],
   "source": [
    "plt.plot(clusters, kmeans_list, linestyle='--', marker='o', color='b')\n",
    "plt.xlabel('Values of K')\n",
    "plt.ylabel('Silhouete Score')\n",
    "plt.axvline(x=17, color='g', linestyle='--')\n",
    "plt.title('Silhouete Score vs K')"
   ]
  },
  {
   "cell_type": "markdown",
   "id": "f3398794-cd9b-4e44-88b6-fb2b2114d693",
   "metadata": {},
   "source": [
    "## 7.2 GMM"
   ]
  },
  {
   "cell_type": "code",
   "execution_count": null,
   "id": "878cbf6e-2ba0-4fc9-9f7a-6d2b1f035912",
   "metadata": {},
   "outputs": [],
   "source": [
    "gmm_list = []\n",
    "\n",
    "for k in clusters:\n",
    "    #model definition\n",
    "    gmm_model = mx.GaussianMixture(n_components=k, random_state=42)  #define quantas guassianas eu quero\n",
    "\n",
    "\n",
    "    #model training\n",
    "    gmm_model.fit(X)\n",
    "\n",
    "    #model predict\n",
    "    labels = gmm_model.predict(X)\n",
    "\n",
    "    #model performance \n",
    "    sil = m.silhouette_score(X, labels, metric='euclidean')\n",
    "    gmm_list.append(sil)"
   ]
  },
  {
   "cell_type": "code",
   "execution_count": null,
   "id": "0472f947-f859-4da2-bcea-300f0a890ebb",
   "metadata": {},
   "outputs": [],
   "source": [
    "plt.plot(clusters, gmm_list, linestyle='--', marker='o', color='b')\n",
    "plt.xlabel('Values of K')\n",
    "plt.ylabel('Silhouete Score')\n",
    "plt.axvline(x=16, color='g', linestyle='--')\n",
    "\n",
    "plt.title('Silhouete Score vs K')"
   ]
  },
  {
   "cell_type": "markdown",
   "id": "c6cc5f50-7da6-4b2f-a977-0668c44faa0a",
   "metadata": {},
   "source": [
    "## 7.3 Hierarchical Clustering"
   ]
  },
  {
   "cell_type": "code",
   "execution_count": null,
   "id": "42e5e83b-097d-4b37-8068-c8a5672afa2a",
   "metadata": {},
   "outputs": [],
   "source": [
    "#model deinition and training\n",
    "hc_model = hc.linkage(X,'ward')"
   ]
  },
  {
   "cell_type": "code",
   "execution_count": null,
   "id": "328ededa-5092-4130-a5c3-5bc83b8de44f",
   "metadata": {},
   "outputs": [],
   "source": [
    "#hc.dendrogram( hc_model, leaf_rotation=90, leaf_font_size=8)\n",
    "#plt.plot()"
   ]
  },
  {
   "cell_type": "code",
   "execution_count": null,
   "id": "8c9c9f8d-9fdd-465d-8989-dfdf01204a9a",
   "metadata": {},
   "outputs": [],
   "source": [
    "hc_list = []\n",
    "for k in clusters:\n",
    "    #model definition and training\n",
    "    hc_model = hc.linkage(X,'ward')\n",
    "    \n",
    "    #model predict\n",
    "    labels = hc.fcluster(hc_model, k, criterion='maxclust')\n",
    "    \n",
    "    #metrics\n",
    "    sil = m.silhouette_score(X, labels, metric='euclidean')\n",
    "    hc_list.append(sil)"
   ]
  },
  {
   "cell_type": "code",
   "execution_count": null,
   "id": "25507192-bdcb-4798-a006-6d6a49055743",
   "metadata": {},
   "outputs": [],
   "source": [
    "plt.plot(clusters, hc_list, linestyle='--', marker='o', color='b')\n",
    "plt.ylabel('Silhouete Score')\n",
    "plt.axvline(x=1, color='g', linestyle='--')\n",
    "\n",
    "plt.title('Silhouete Score vs K')"
   ]
  },
  {
   "cell_type": "markdown",
   "id": "9c8322ef-2f9a-4619-9b4c-df948de631a1",
   "metadata": {},
   "source": [
    "## 7.5 Results"
   ]
  },
  {
   "cell_type": "code",
   "execution_count": null,
   "id": "6bdc6086-dd8f-4083-afa1-8ea752b836df",
   "metadata": {},
   "outputs": [],
   "source": [
    "df_results = pd.DataFrame({'KMeans': kmeans_list, 'GMM': gmm_list, 'HC': hc_list}).T\n",
    "df_results.columns = clusters\n",
    "df_results.style.highlight_max(color='lightgreen', axis=1)\n"
   ]
  },
  {
   "cell_type": "code",
   "execution_count": null,
   "id": "bd52c425-0a12-493e-b7e7-2a734f0b5022",
   "metadata": {},
   "outputs": [],
   "source": [
    "import matplotlib.pyplot as plt\n",
    "\n",
    "# Supondo que clusters, hc_list, kmeans_list e gmm_list já estejam definidos e preenchidos\n",
    "\n",
    "plt.figure()\n",
    "\n",
    "# Adicionando legendas para cada plot usando o parâmetro 'label'\n",
    "plt.plot(clusters, hc_list, linestyle='--', marker='o', color='b', label='Hierarchical Clustering')\n",
    "plt.plot(clusters, kmeans_list, linestyle='--', marker='o', color='r', label='KMeans')\n",
    "plt.plot(clusters, gmm_list, linestyle='--', marker='o', color='g', label='Gaussian Mixture Model')\n",
    "\n",
    "# Criação da legenda com os rótulos definidos\n",
    "plt.legend()\n",
    "\n",
    "# Exibindo o gráfico\n",
    "plt.show()\n"
   ]
  },
  {
   "cell_type": "markdown",
   "id": "f6e91ffb-828b-4689-9a29-20bc45047288",
   "metadata": {},
   "source": [
    "# 7.0 Model Training"
   ]
  },
  {
   "cell_type": "markdown",
   "id": "6b87989e-6f55-49df-a1a2-f6dbc7914640",
   "metadata": {},
   "source": [
    "## 7.1 Hierarchical Clustering"
   ]
  },
  {
   "cell_type": "code",
   "execution_count": null,
   "id": "cc8fc72d-e330-4dad-b948-9535eab1c2d6",
   "metadata": {},
   "outputs": [],
   "source": [
    "#model definition\n",
    "k = 13\n",
    "#kmeans = c.KMeans(init='random', n_clusters=k, n_init=10, max_iter=300, random_state=42)\n",
    "\n",
    "#model trainning\n",
    "#kmeans.fit(X)\n",
    "\n",
    "\n",
    "hc_model = hc.linkage(X,'ward')\n",
    "    \n",
    "    #model predict\n",
    "labels = hc.fcluster(hc_model, k, criterion='maxclust')\n",
    "\n",
    "#clustering\n",
    "#labels = kmeans.labels_\n",
    "#labels = kmeans.fit_predict(X) #tirar o fit de cima\n"
   ]
  },
  {
   "cell_type": "markdown",
   "id": "794033a4-cb95-43f4-949d-cee780c53b38",
   "metadata": {},
   "source": [
    "## 7.2 Cluster Validation"
   ]
  },
  {
   "cell_type": "code",
   "execution_count": null,
   "id": "7b4a272c-79f5-4485-a14d-c46750900324",
   "metadata": {},
   "outputs": [],
   "source": [
    "#SS\n",
    "print('SS value: {}'.format(m.silhouette_score(X, labels, metric='euclidean')))"
   ]
  },
  {
   "cell_type": "markdown",
   "id": "e10465de-6172-4c51-b460-d00d60b7004a",
   "metadata": {},
   "source": [
    "## 8.0 Cluster Analysis"
   ]
  },
  {
   "cell_type": "code",
   "execution_count": null,
   "id": "e233f89e-993c-4c0b-8c24-b5a40804893e",
   "metadata": {},
   "outputs": [],
   "source": [
    "df9 = X.copy()\n",
    "df9['cluster'] = labels\n",
    "df9.head()"
   ]
  },
  {
   "cell_type": "markdown",
   "id": "af51e493-dade-4dee-883b-cd59a7e15db9",
   "metadata": {},
   "source": [
    "##  8.1 Visualization Inspection"
   ]
  },
  {
   "cell_type": "code",
   "execution_count": null,
   "id": "83d81b60-a112-4c50-be91-bcb83ea5421b",
   "metadata": {},
   "outputs": [],
   "source": [
    "plt.figure(figsize=(14, 8))\n",
    "sns.scatterplot(x='embedding_x', y='embedding_y', hue='cluster', data=df9, palette='deep');\n"
   ]
  },
  {
   "cell_type": "markdown",
   "id": "2fa5a581-92f7-42ab-976d-64362fc78d60",
   "metadata": {},
   "source": [
    "## 8.2 Cluster Profile"
   ]
  },
  {
   "cell_type": "code",
   "execution_count": null,
   "id": "d21f72de-f647-46be-ac5c-7d8836af47f8",
   "metadata": {},
   "outputs": [],
   "source": [
    "df4.head()"
   ]
  },
  {
   "cell_type": "code",
   "execution_count": null,
   "id": "834841c5-b665-4e50-a4a5-b5fd2ee93546",
   "metadata": {},
   "outputs": [],
   "source": [
    "aux = df4.sort_values('gross_revenue', ascending = False)\n",
    "aux['cluster'] = labels\n",
    "aux.head(10)"
   ]
  },
  {
   "cell_type": "code",
   "execution_count": null,
   "id": "e99c42bd-e523-4cca-a5bd-1e6368dd8179",
   "metadata": {},
   "outputs": [],
   "source": [
    "#Number customer\n",
    "df_cluster = df92.groupby('cluster').customer_id.count().reset_index()\n",
    "df_cluster['perc_customer'] = 100*(df_cluster['customer_id'] / df_cluster['customer_id'].sum())\n",
    "\n",
    "#Avg Gross Revenue\n",
    "df_avg_gross_revenue = df92.groupby('cluster').gross_revenue.mean().reset_index()\n",
    "df_cluster = pd.merge(df_cluster, df_avg_gross_revenue, how='inner', on='cluster')\n",
    "\n",
    "#Avg Recency Days\n",
    "df_avg_recency_days = df92.groupby('cluster').recency_days.mean().reset_index()\n",
    "df_cluster = pd.merge(df_cluster, df_avg_recency_days, how='inner', on='cluster')\n",
    "\n",
    "#Avg invoice_no\n",
    "df_qtde_products = df92.groupby('cluster').variety_products.mean().reset_index()\n",
    "df_cluster = pd.merge(df_cluster, df_qtde_products, how='inner', on='cluster')\n",
    "\n",
    "# Interval_mean\n",
    "df_frequency = df92.groupby('cluster').interval_mean.mean().reset_index()\n",
    "df_cluster = pd.merge(df_cluster, df_frequency, how='inner', on='cluster')\n",
    "\n",
    "#Frequency\n",
    "df_frequency = df92.groupby('cluster').frequency.mean().reset_index()\n",
    "df_cluster = pd.merge(df_cluster, df_frequency, how='inner', on='cluster')\n",
    "\n",
    "#Returns\n",
    "df_qtde_returns = df92.groupby('cluster').qtde_returns.mean().reset_index()\n",
    "df_cluster = pd.merge(df_cluster, df_qtde_returns, how='inner', on='cluster')\n",
    "\n",
    "\n",
    "df_cluster.sort_values('gross_revenue', ascending=False)"
   ]
  },
  {
   "cell_type": "markdown",
   "id": "d4d7ce91-56a7-4862-9a7e-01726699e873",
   "metadata": {},
   "source": [
    "## 10.0 EDA"
   ]
  },
  {
   "cell_type": "code",
   "execution_count": null,
   "id": "5d43fa5d-dc8b-4a5b-8673-f817720593a6",
   "metadata": {},
   "outputs": [],
   "source": [
    "df10 = df92"
   ]
  },
  {
   "cell_type": "markdown",
   "id": "6cefa361-a1b7-42b8-bd78-db87bccac620",
   "metadata": {},
   "source": [
    "### H1. Os clientes do cluster insiders possuem um volume de compra de produtos acima de 10% do totatl de compras\n",
    "\n",
    "verdadeiro: O cluster insider possui um volume de compra de 50%"
   ]
  },
  {
   "cell_type": "code",
   "execution_count": null,
   "id": "b6506280-0075-499d-b4a9-5f5dd6aeff66",
   "metadata": {},
   "outputs": [],
   "source": [
    "#df10[df10['cluster'] ==1].groupby('cluster').qtde_products.sum().reset_index()\n",
    "    \n",
    "#sum the quantity of products of insiders\n",
    "df_sales_insiders = df10[df10['cluster'] == 12].variety_products.sum() #substituir depois o cluster correspondente ao insiders\n",
    "df_sales_total = df10.variety_products.sum()\n",
    "\n",
    "#percentage of sales of insiders by the total product sales\n",
    "print('% Sales Insiders: {:.2f}'.format(100*df_sales_insiders/df_sales_total))"
   ]
  },
  {
   "cell_type": "markdown",
   "id": "f412cd15-054a-4e02-9e46-56c52a286df9",
   "metadata": {},
   "source": [
    "\n",
    "### H2. Os clientes do cluster insiders possuem um volume de faturamento de compras acima de 10% do total de compras\n",
    "\n",
    "verdadeiro: O cluster insider possui um volume de gmv de 40,60%\n"
   ]
  },
  {
   "cell_type": "code",
   "execution_count": null,
   "id": "104a457b-76bf-462d-a998-06b0a9831b71",
   "metadata": {},
   "outputs": [],
   "source": [
    "#sum the gmv of insiders\n",
    "df_gmv_insiders = df10[df10['cluster'] == 12].gross_revenue.sum() #substituir depois o cluster correspondente ao insiders\n",
    "df_gmv_total = df10.gross_revenue.sum()\n",
    "\n",
    "#percentage of sales of insiders by the tot/al product sales\n",
    "print('% Sales Insiders: {:.2f}'.format(100*df_gmv_insiders/df_gmv_total))"
   ]
  },
  {
   "cell_type": "markdown",
   "id": "bc46d1a6-3a9f-4a1e-9fce-9c377958aab3",
   "metadata": {},
   "source": [
    "\n",
    "### H3. Os clientes do cluster insiders tem numero de devolução médio abaixo do media da base total de clientes\n",
    "\n",
    "Falso: O cluster insiders tem a média de devolução acima da média geral\n"
   ]
  },
  {
   "cell_type": "code",
   "execution_count": null,
   "id": "4d981f5f-6305-41dc-abb6-ce7452effbb0",
   "metadata": {},
   "outputs": [],
   "source": [
    "df_avg_return_insiders = df10[df10['cluster'] == 12].qtde_returns.mean()\n",
    "df_avg_return_total = df10.qtde_returns.mean()\n",
    "\n",
    "print('Avg Return insiders: {} vs Avg Returns total: {}'.format(np.round(df_avg_return_insiders, 0),\n",
    "                                                               np.round(df_avg_return_total, 0)))\n",
    "\n"
   ]
  },
  {
   "cell_type": "markdown",
   "id": "ce663078-20eb-4966-b02c-cde5062576c9",
   "metadata": {},
   "source": [
    "\n",
    "### H4. A mediana do faturamento pelos clientes do cluster insider é 10% do que a mediana do faturamento geral\n",
    "\n",
    "verdadeiro: A mediana do faturamento é 836.17% acima da mediana\n"
   ]
  },
  {
   "cell_type": "code",
   "execution_count": null,
   "id": "50aaaa2e-fdac-4ab9-a83b-3bfd3a9bf119",
   "metadata": {},
   "outputs": [],
   "source": [
    "#mediana de gmv do insiders\n",
    "df_median_gmv_insiders = df10[df10['cluster'] == 12].gross_revenue.median()\n",
    "\n",
    "#mediana de gmv do total\n",
    "df_median_gmv_total = df10.gross_revenue.median()\n",
    "\n",
    "gmv_diff = (df_median_gmv_insiders - df_median_gmv_total) / df_median_gmv_total\n",
    "print('Median Diff: {:.2f}%'.format(100*gmv_diff))\n"
   ]
  },
  {
   "cell_type": "markdown",
   "id": "83dfce84-3c79-4d64-a651-b9d9a02561d3",
   "metadata": {},
   "source": [
    "\n",
    "### H5. O GMV dos clientes insiders está concentradas no 3 quartil\n",
    "\n",
    "Falso: O faturamento do cluster insiders esta concentrada no quartil 1\n"
   ]
  },
  {
   "cell_type": "code",
   "execution_count": null,
   "id": "74b607e1-cb40-4e1c-bc36-4fe3ca040117",
   "metadata": {},
   "outputs": [],
   "source": [
    "np.percentile(df10[df10['cluster'] == 12].gross_revenue, q=0.1)"
   ]
  },
  {
   "cell_type": "code",
   "execution_count": null,
   "id": "dcb876b4-0eb7-4f44-b3ec-978375c62467",
   "metadata": {},
   "outputs": [],
   "source": [
    "np.percentile(df10[df10['cluster'] == 12].gross_revenue, q=0.9)"
   ]
  },
  {
   "cell_type": "code",
   "execution_count": null,
   "id": "0c652cac-d262-49e4-988d-1af4fbfb0360",
   "metadata": {},
   "outputs": [],
   "source": [
    "df_aux = (df10[(df10['cluster'] == 12) & \n",
    "               (df10['gross_revenue'] < 10000)]\n",
    "               .gross_revenue)\n",
    "sns.boxplot(x=df_aux)"
   ]
  },
  {
   "cell_type": "code",
   "execution_count": null,
   "id": "325546ac-afc7-40ed-8d35-b9853d587ca4",
   "metadata": {},
   "outputs": [],
   "source": [
    "\n",
    "df_aux = (df10[(df10['cluster'] == 12) &\n",
    "               (df10['gross_revenue'] < 10000)]\n",
    "               .gross_revenue)\n",
    "sns.violinplot(x=df_aux)"
   ]
  },
  {
   "cell_type": "code",
   "execution_count": null,
   "id": "7f520825-c3bc-4b13-acf6-1219cc2023e4",
   "metadata": {},
   "outputs": [],
   "source": [
    "aux = df10.groupby('cluster').mean().sort_values('gross_revenue', ascending = False)\n",
    "aux"
   ]
  }
 ],
 "metadata": {
  "kernelspec": {
   "display_name": "Python 3 (ipykernel)",
   "language": "python",
   "name": "python3"
  },
  "language_info": {
   "codemirror_mode": {
    "name": "ipython",
    "version": 3
   },
   "file_extension": ".py",
   "mimetype": "text/x-python",
   "name": "python",
   "nbconvert_exporter": "python",
   "pygments_lexer": "ipython3",
   "version": "3.12.3"
  },
  "widgets": {
   "application/vnd.jupyter.widget-state+json": {
    "state": {},
    "version_major": 2,
    "version_minor": 0
   }
  }
 },
 "nbformat": 4,
 "nbformat_minor": 5
}
